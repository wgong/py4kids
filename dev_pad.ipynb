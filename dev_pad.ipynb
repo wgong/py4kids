{
 "cells": [
  {
   "cell_type": "code",
   "execution_count": null,
   "id": "0ed5677b-43f2-4310-994e-7f46b8756b6a",
   "metadata": {},
   "outputs": [],
   "source": [
    "model_categories = {\n",
    "    \"Efficient\": [\"phi4\", \"llama3.2\", \"qwen2.5-coder\"],\n",
    "    \"Balanced\": [\"qwen2-math\", \"mathstral\",\"gemma3\", \"codegemma\", \"deepseek-coder-v2\"],\n",
    "    \"Thinking\": [\"qwen3\", \"deepseek-r1\"],\n",
    "    \"Embedding\" : [\"nomic-embed-text\", \"snowflake-arctic-embed2\", \"bge-m3\"],\n",
    "    \"Excluded\": [\"tinyllama\", \"llama3.2-vision\", \"gemma3:12b\", \"duckdb-nsql\"]\n",
    "}\n",
    "\n",
    "model_descriptions = {\n",
    "    \"phi4\": \"phi4 = Fastest, great for simple topics\",\n",
    "    \"llama3.2\": \"llama3.2 = Excellent balance of speed and quality\",\n",
    "    \"qwen2.5-coder\": \"qwen2.5-coder = Fast and good for technical content\",\n",
    "    \"deepseek-coder-v2\": \"deepseek-coder-v2 = High quality, moderate speed\",\n",
    "    \"qwen2-math\": \"qwen2-math = Specialized for math, good performance\",\n",
    "    \"gemma3\": \"gemma3 = Good all-around model\",\n",
    "    \"codegemma\": \"codegemma = Google's code-focused model\",\n",
    "    \"qwen3\": \"qwen3 = slow thinking\",\n",
    "    \"deepseek-r1\": \"deepseek-r1 = slow thinking\"\n",
    "}"
   ]
  },
  {
   "cell_type": "code",
   "execution_count": 18,
   "id": "f790c02e-9531-4ee3-af7d-a8ddfa99e8db",
   "metadata": {},
   "outputs": [],
   "source": [
    "tmp = \"\"\"\n",
    "bge-m3:latest                     790764642607    1.2 GB    3 months ago    \n",
    "codegeex4:latest                  867b8e81d038    5.5 GB    5 months ago    \n",
    "codegemma:latest                  0c96700aaada    5.0 GB    5 months ago    \n",
    "deepseek-coder-v2:latest          63fb193b3a9b    8.9 GB    8 months ago    \n",
    "deepseek-r1:1.5b                  a42b25d8c10a    1.1 GB    5 months ago    \n",
    "deepseek-r1:latest                0a8c26691023    4.7 GB    5 months ago    \n",
    "duckdb-nsql:latest                3ed734989690    3.8 GB    5 months ago    \n",
    "gemma2:latest                     ff02c3702f32    5.4 GB    8 months ago    \n",
    "gemma3:12b                        6fd036cefda5    8.1 GB    3 months ago    \n",
    "gemma3:latest                     a2af6cc3eb7f    3.3 GB    5 weeks ago     \n",
    "granite-code:8b                   36c3c3b9683b    4.6 GB    5 months ago    \n",
    "granite-code:latest               becc94fe1876    2.0 GB    5 months ago    \n",
    "llama3.1:latest                   46e0c10c039e    4.9 GB    5 months ago    \n",
    "llama3.2:latest                   a80c4f17acd5    2.0 GB    8 months ago    \n",
    "llama3.2-vision:latest            38107a0cd119    7.9 GB    7 months ago    \n",
    "llama3:latest                     365c0bd3c000    4.7 GB    8 months ago    \n",
    "mathstral:latest                  4ee7052be55a    4.1 GB    5 months ago    \n",
    "mistral:latest                    f974a74358d6    4.1 GB    5 months ago    \n",
    "mistral-nemo:latest               994f3b8b7801    7.1 GB    5 months ago    \n",
    "nemotron-mini:latest              ed76ab18784f    2.7 GB    5 months ago    \n",
    "nomic-embed-text:latest           0a109f422b47    274 MB    5 months ago    \n",
    "phi3.5:latest                     61819fb370a3    2.2 GB    5 months ago    \n",
    "phi4:latest                       ac896e5b8b34    9.1 GB    3 months ago    \n",
    "qwen2.5:3b                        357c53fb659c    1.9 GB    8 months ago    \n",
    "qwen2.5-coder:1.5b                6d3abb8d2d53    986 MB    5 months ago    \n",
    "qwen2.5-coder:latest              2b0496514337    4.7 GB    5 months ago    \n",
    "qwen2.5:latest                    845dbda0ea48    4.7 GB    5 months ago    \n",
    "qwen2-math:latest                 28cc3a337734    4.4 GB    5 months ago    \n",
    "qwen3:latest                      e4b5fd7f8af0    5.2 GB    5 weeks ago     \n",
    "snowflake-arctic-embed2:latest    5de93a84837d    1.2 GB    5 months ago    \n",
    "starcoder2:7b                     1550ab21b10d    4.0 GB    5 months ago    \n",
    "starcoder2:latest                 9f4ae0aff61e    1.7 GB    5 months ago    \n",
    "tinyllama:latest                  2644915ede35    637 MB    8 months ago  \n",
    "\"\"\""
   ]
  },
  {
   "cell_type": "code",
   "execution_count": 8,
   "id": "b7d2a6d4-f801-4968-9400-2b57270c9e63",
   "metadata": {},
   "outputs": [],
   "source": [
    "available_models = [i.strip().split()[0] for i in tmp.split(\"\\n\") if i.strip()]"
   ]
  },
  {
   "cell_type": "code",
   "execution_count": 9,
   "id": "2559acac-b2a8-4bd5-a57e-2103fc920666",
   "metadata": {},
   "outputs": [
    {
     "data": {
      "text/plain": [
       "['bge-m3:latest',\n",
       " 'codegeex4:latest',\n",
       " 'codegemma:latest',\n",
       " 'deepseek-coder-v2:latest',\n",
       " 'deepseek-r1:1.5b',\n",
       " 'deepseek-r1:latest',\n",
       " 'duckdb-nsql:latest',\n",
       " 'gemma2:latest',\n",
       " 'gemma3:12b',\n",
       " 'gemma3:latest',\n",
       " 'granite-code:8b',\n",
       " 'granite-code:latest',\n",
       " 'llama3.1:latest',\n",
       " 'llama3.2:latest',\n",
       " 'llama3.2-vision:latest',\n",
       " 'llama3:latest',\n",
       " 'mathstral:latest',\n",
       " 'mistral:latest',\n",
       " 'mistral-nemo:latest',\n",
       " 'nemotron-mini:latest',\n",
       " 'nomic-embed-text:latest',\n",
       " 'phi3.5:latest',\n",
       " 'phi4:latest',\n",
       " 'qwen2.5:3b',\n",
       " 'qwen2.5-coder:1.5b',\n",
       " 'qwen2.5-coder:latest',\n",
       " 'qwen2.5:latest',\n",
       " 'qwen2-math:latest',\n",
       " 'qwen3:latest',\n",
       " 'snowflake-arctic-embed2:latest',\n",
       " 'starcoder2:7b',\n",
       " 'starcoder2:latest',\n",
       " 'tinyllama:latest']"
      ]
     },
     "execution_count": 9,
     "metadata": {},
     "output_type": "execute_result"
    }
   ],
   "source": [
    "available_models"
   ]
  },
  {
   "cell_type": "code",
   "execution_count": 10,
   "id": "f01fd915-dc5e-4280-9811-47516125d1b4",
   "metadata": {},
   "outputs": [],
   "source": [
    "def clean_model_name(model_name):\n",
    "    return model_name.replace(\":latest\", \"\")"
   ]
  },
  {
   "cell_type": "code",
   "execution_count": 14,
   "id": "e7c1a4d5-d416-4487-95d1-d0c34e0c6ad2",
   "metadata": {},
   "outputs": [],
   "source": [
    "cleaned_models = [clean_model_name(model) for model in available_models]"
   ]
  },
  {
   "cell_type": "code",
   "execution_count": 19,
   "id": "512e70ce-bedc-4e6a-b614-6d97cf7530e7",
   "metadata": {},
   "outputs": [],
   "source": [
    "avail_model_desc = {}\n",
    "for m in cleaned_models:\n",
    "    if m in model_descriptions:\n",
    "        avail_model_desc[m] = model_descriptions[m]\n",
    "    else:\n",
    "        avail_model_desc[m] = m"
   ]
  },
  {
   "cell_type": "code",
   "execution_count": 20,
   "id": "5683dc02-5ee4-4298-b2a8-f4e5cde8ec98",
   "metadata": {},
   "outputs": [
    {
     "data": {
      "text/plain": [
       "{'bge-m3': 'bge-m3',\n",
       " 'codegeex4': 'codegeex4',\n",
       " 'codegemma': \"codegemma = Google's code-focused model\",\n",
       " 'deepseek-coder-v2': 'deepseek-coder-v2 = High quality, moderate speed',\n",
       " 'deepseek-r1:1.5b': 'deepseek-r1:1.5b',\n",
       " 'deepseek-r1': 'deepseek-r1 = slow thinking',\n",
       " 'duckdb-nsql': 'duckdb-nsql',\n",
       " 'gemma2': 'gemma2',\n",
       " 'gemma3:12b': 'gemma3:12b',\n",
       " 'gemma3': 'gemma3 = Good all-around model',\n",
       " 'granite-code:8b': 'granite-code:8b',\n",
       " 'granite-code': 'granite-code',\n",
       " 'llama3.1': 'llama3.1',\n",
       " 'llama3.2': 'llama3.2 = Excellent balance of speed and quality',\n",
       " 'llama3.2-vision': 'llama3.2-vision',\n",
       " 'llama3': 'llama3',\n",
       " 'mathstral': 'mathstral',\n",
       " 'mistral': 'mistral',\n",
       " 'mistral-nemo': 'mistral-nemo',\n",
       " 'nemotron-mini': 'nemotron-mini',\n",
       " 'nomic-embed-text': 'nomic-embed-text',\n",
       " 'phi3.5': 'phi3.5',\n",
       " 'phi4': 'phi4 = Fastest, great for simple topics',\n",
       " 'qwen2.5:3b': 'qwen2.5:3b',\n",
       " 'qwen2.5-coder:1.5b': 'qwen2.5-coder:1.5b',\n",
       " 'qwen2.5-coder': 'qwen2.5-coder = Fast and good for technical content',\n",
       " 'qwen2.5': 'qwen2.5',\n",
       " 'qwen2-math': 'qwen2-math = Specialized for math, good performance',\n",
       " 'qwen3': 'qwen3 = slow thinking',\n",
       " 'snowflake-arctic-embed2': 'snowflake-arctic-embed2',\n",
       " 'starcoder2:7b': 'starcoder2:7b',\n",
       " 'starcoder2': 'starcoder2',\n",
       " 'tinyllama': 'tinyllama'}"
      ]
     },
     "execution_count": 20,
     "metadata": {},
     "output_type": "execute_result"
    }
   ],
   "source": [
    "avail_model_desc"
   ]
  },
  {
   "cell_type": "code",
   "execution_count": 21,
   "id": "40d5e9f8-4f8b-47d7-91a2-f3720e8848f0",
   "metadata": {},
   "outputs": [],
   "source": [
    "model_categories = {\n",
    "    \"Efficient\": [\"phi4\", \"llama3.2\", \"qwen2.5-coder\"],\n",
    "    \"Balanced\": [\"qwen2-math\", \"mathstral\",\"gemma3\", \"codegemma\", \"deepseek-coder-v2\"],\n",
    "    \"Thinking\": [\"qwen3\", \"deepseek-r1\"],\n",
    "    \"Embedding\" : [\"nomic-embed-text\", \"snowflake-arctic-embed2\", \"bge-m3\"],\n",
    "    \"Excluded\": [\"tinyllama\", \"llama3.2-vision\", \"gemma3:12b\", \"duckdb-nsql\"],\n",
    "}"
   ]
  },
  {
   "cell_type": "code",
   "execution_count": 26,
   "id": "1aa2e29e-4363-40b3-9952-78a418060698",
   "metadata": {},
   "outputs": [],
   "source": [
    "filtered_model_categories = {}\n",
    "model_set = set()\n",
    "for k in model_categories.keys():\n",
    "    models = model_categories[k]\n",
    "    filtered_models = []\n",
    "    for m in models:\n",
    "        if m in avail_model_desc:\n",
    "            filtered_models.append(m)\n",
    "            model_set.add(m)\n",
    "    if len(filtered_models):\n",
    "        filtered_model_categories[k] = filtered_models\n",
    "filtered_model_categories[\"Others\"] = sorted(list(set(cleaned_models).difference(model_set)))"
   ]
  },
  {
   "cell_type": "code",
   "execution_count": 27,
   "id": "90fba40b-44d6-470c-b604-d0f9d7b5831f",
   "metadata": {},
   "outputs": [
    {
     "data": {
      "text/plain": [
       "{'Efficient': ['phi4', 'llama3.2', 'qwen2.5-coder'],\n",
       " 'Balanced': ['qwen2-math',\n",
       "  'mathstral',\n",
       "  'gemma3',\n",
       "  'codegemma',\n",
       "  'deepseek-coder-v2'],\n",
       " 'Thinking': ['qwen3', 'deepseek-r1'],\n",
       " 'Embedding': ['nomic-embed-text', 'snowflake-arctic-embed2', 'bge-m3'],\n",
       " 'Excluded': ['tinyllama', 'llama3.2-vision', 'gemma3:12b', 'duckdb-nsql'],\n",
       " 'Others': ['codegeex4',\n",
       "  'deepseek-r1:1.5b',\n",
       "  'gemma2',\n",
       "  'granite-code',\n",
       "  'granite-code:8b',\n",
       "  'llama3',\n",
       "  'llama3.1',\n",
       "  'mistral',\n",
       "  'mistral-nemo',\n",
       "  'nemotron-mini',\n",
       "  'phi3.5',\n",
       "  'qwen2.5',\n",
       "  'qwen2.5-coder:1.5b',\n",
       "  'qwen2.5:3b',\n",
       "  'starcoder2',\n",
       "  'starcoder2:7b']}"
      ]
     },
     "execution_count": 27,
     "metadata": {},
     "output_type": "execute_result"
    }
   ],
   "source": [
    "filtered_model_categories"
   ]
  },
  {
   "cell_type": "code",
   "execution_count": 34,
   "id": "749d0143-338d-465d-ad86-da921f749393",
   "metadata": {},
   "outputs": [],
   "source": [
    "# prepare displayed_options\n",
    "displayed_options = []\n",
    "for k in filtered_model_categories.keys():\n",
    "    if k in ['Embedding', 'Excluded']:\n",
    "        continue\n",
    "    displayed_options.append(f\"--- {k}\")\n",
    "    for m in filtered_model_categories[k]:\n",
    "        displayed_options.append(avail_model_desc.get(m,m))"
   ]
  },
  {
   "cell_type": "code",
   "execution_count": 35,
   "id": "eb01acef-7be2-4ac4-a8e6-8be774d15ec5",
   "metadata": {},
   "outputs": [
    {
     "data": {
      "text/plain": [
       "['--- Efficient',\n",
       " 'phi4 = Fastest, great for simple topics',\n",
       " 'llama3.2 = Excellent balance of speed and quality',\n",
       " 'qwen2.5-coder = Fast and good for technical content',\n",
       " '--- Balanced',\n",
       " 'qwen2-math = Specialized for math, good performance',\n",
       " 'mathstral',\n",
       " 'gemma3 = Good all-around model',\n",
       " \"codegemma = Google's code-focused model\",\n",
       " 'deepseek-coder-v2 = High quality, moderate speed',\n",
       " '--- Thinking',\n",
       " 'qwen3 = slow thinking',\n",
       " 'deepseek-r1 = slow thinking',\n",
       " '--- Others',\n",
       " 'codegeex4',\n",
       " 'deepseek-r1:1.5b',\n",
       " 'gemma2',\n",
       " 'granite-code',\n",
       " 'granite-code:8b',\n",
       " 'llama3',\n",
       " 'llama3.1',\n",
       " 'mistral',\n",
       " 'mistral-nemo',\n",
       " 'nemotron-mini',\n",
       " 'phi3.5',\n",
       " 'qwen2.5',\n",
       " 'qwen2.5-coder:1.5b',\n",
       " 'qwen2.5:3b',\n",
       " 'starcoder2',\n",
       " 'starcoder2:7b']"
      ]
     },
     "execution_count": 35,
     "metadata": {},
     "output_type": "execute_result"
    }
   ],
   "source": [
    "displayed_options"
   ]
  },
  {
   "cell_type": "code",
   "execution_count": 36,
   "id": "ba5a385a-0710-4d4c-808d-46829cf7391b",
   "metadata": {},
   "outputs": [],
   "source": [
    "def lookup_model(model_label):\n",
    "    if model_label.startswith(\"---\"):\n",
    "        k_cat = model_label.replace(\"---\", \"\").strip()\n",
    "        return filtered_model_categories[k_cat][0]\n",
    "    elif \"=\" in model_label:\n",
    "        return model_label.split(\"=\")[0].strip()\n",
    "    else:\n",
    "        return model_label.strip()"
   ]
  },
  {
   "cell_type": "code",
   "execution_count": 37,
   "id": "f7f3ddaf-564b-40ee-8685-ca6c19639c00",
   "metadata": {},
   "outputs": [],
   "source": [
    "model_option = [lookup_model(model_label) for model_label in displayed_options]"
   ]
  },
  {
   "cell_type": "code",
   "execution_count": 38,
   "id": "abdd8bec-c33b-4756-8ff6-73a65a073d48",
   "metadata": {},
   "outputs": [
    {
     "data": {
      "text/plain": [
       "['phi4',\n",
       " 'phi4',\n",
       " 'llama3.2',\n",
       " 'qwen2.5-coder',\n",
       " 'qwen2-math',\n",
       " 'qwen2-math',\n",
       " 'mathstral',\n",
       " 'gemma3',\n",
       " 'codegemma',\n",
       " 'deepseek-coder-v2',\n",
       " 'qwen3',\n",
       " 'qwen3',\n",
       " 'deepseek-r1',\n",
       " 'codegeex4',\n",
       " 'codegeex4',\n",
       " 'deepseek-r1:1.5b',\n",
       " 'gemma2',\n",
       " 'granite-code',\n",
       " 'granite-code:8b',\n",
       " 'llama3',\n",
       " 'llama3.1',\n",
       " 'mistral',\n",
       " 'mistral-nemo',\n",
       " 'nemotron-mini',\n",
       " 'phi3.5',\n",
       " 'qwen2.5',\n",
       " 'qwen2.5-coder:1.5b',\n",
       " 'qwen2.5:3b',\n",
       " 'starcoder2',\n",
       " 'starcoder2:7b']"
      ]
     },
     "execution_count": 38,
     "metadata": {},
     "output_type": "execute_result"
    }
   ],
   "source": [
    "model_option"
   ]
  },
  {
   "cell_type": "code",
   "execution_count": null,
   "id": "5fadc258-d5cc-4531-beba-e3a1171d1ee4",
   "metadata": {},
   "outputs": [],
   "source": []
  }
 ],
 "metadata": {
  "kernelspec": {
   "display_name": "Python 3 (ipykernel)",
   "language": "python",
   "name": "python3"
  },
  "language_info": {
   "codemirror_mode": {
    "name": "ipython",
    "version": 3
   },
   "file_extension": ".py",
   "mimetype": "text/x-python",
   "name": "python",
   "nbconvert_exporter": "python",
   "pygments_lexer": "ipython3",
   "version": "3.11.5"
  }
 },
 "nbformat": 4,
 "nbformat_minor": 5
}
