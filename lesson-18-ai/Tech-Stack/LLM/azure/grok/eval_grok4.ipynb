{
 "cells": [
  {
   "cell_type": "markdown",
   "id": "c422a69b",
   "metadata": {},
   "source": [
    "xAI Grok 4 is released on 2025-07-10, let us try it out"
   ]
  },
  {
   "cell_type": "code",
   "execution_count": 1,
   "id": "dc3a543c",
   "metadata": {},
   "outputs": [],
   "source": [
    "from openai import OpenAI\n",
    "import os "
   ]
  },
  {
   "cell_type": "code",
   "execution_count": 2,
   "id": "8fd4a331",
   "metadata": {},
   "outputs": [],
   "source": [
    "client = OpenAI(\n",
    "  api_key=os.getenv(\"XAI_API_KEY\"),\n",
    "  base_url=\"https://api.x.ai/v1\",\n",
    ")"
   ]
  },
  {
   "cell_type": "code",
   "execution_count": 3,
   "id": "7c3f8356",
   "metadata": {},
   "outputs": [],
   "source": [
    "def ask_grok(prompt, client=None, model=\"grok-4\", base_url=\"https://api.x.ai/v1\"):\n",
    "    if client is None:\n",
    "        client = OpenAI(\n",
    "            api_key=os.getenv(\"XAI_API_KEY\"),\n",
    "            base_url=base_url,\n",
    "        )\n",
    "        \n",
    "    response = client.chat.completions.create(\n",
    "        model=model,  # \"grok-3\",\n",
    "        messages=[\n",
    "            {\"role\": \"user\", \"content\": prompt}\n",
    "        ]\n",
    "    )\n",
    "    \n",
    "    return parse_grok_response(response=response)"
   ]
  },
  {
   "cell_type": "raw",
   "id": "9d09a437",
   "metadata": {},
   "source": [
    "completion = client.chat.completions.create(\n",
    "  model=\"grok-4\",  # \"grok-3\",\n",
    "  messages=[\n",
    "    {\"role\": \"user\", \"content\": \"What is 5!?\"}\n",
    "  ]\n",
    ")"
   ]
  },
  {
   "cell_type": "raw",
   "id": "2d844d45",
   "metadata": {},
   "source": [
    "completion\n",
    "\n",
    "ChatCompletion(id='ad869102-6ace-9f05-8862-603419dfd53a', choices=[Choice(finish_reason='stop', index=0, logprobs=None, message=ChatCompletionMessage(content='5! = 120', role='assistant', function_call=None, tool_calls=None, refusal=None))], created=1752147350, model='grok-4-0709', object='chat.completion', system_fingerprint='fp_929d24081e', usage=CompletionUsage(completion_tokens=5, prompt_tokens=12, total_tokens=165, prompt_tokens_details={'text_tokens': 12, 'audio_tokens': 0, 'image_tokens': 0, 'cached_tokens': 2}, completion_tokens_details={'reasoning_tokens': 148, 'audio_tokens': 0, 'accepted_prediction_tokens': 0, 'rejected_prediction_tokens': 0}, num_sources_used=0))\n"
   ]
  },
  {
   "cell_type": "code",
   "execution_count": 4,
   "id": "1c02b7b6",
   "metadata": {},
   "outputs": [],
   "source": [
    "# Grok 4 Response Parser and Usage Examples\n",
    "\n",
    "def parse_grok_response(response):\n",
    "    \"\"\"\n",
    "    Parse Grok 4 ChatCompletion response to extract key information\n",
    "    \n",
    "    Args:\n",
    "        response: ChatCompletion object from Grok 4 API\n",
    "        \n",
    "    Returns:\n",
    "        dict: Parsed response data\n",
    "    \"\"\"\n",
    "    try:\n",
    "        # Extract message content\n",
    "        message_content = response.choices[0].message.content\n",
    "        \n",
    "        # Extract model name\n",
    "        model = response.model\n",
    "        \n",
    "        # Extract total tokens\n",
    "        total_tokens = response.usage.total_tokens\n",
    "        \n",
    "        # Additional useful information\n",
    "        parsed_data = {\n",
    "            'message_content': message_content,\n",
    "            'model': model,\n",
    "            'total_tokens': total_tokens,\n",
    "            'prompt_tokens': response.usage.prompt_tokens,\n",
    "            'completion_tokens': response.usage.completion_tokens,\n",
    "            'reasoning_tokens': response.usage.completion_tokens_details.get('reasoning_tokens', 0),\n",
    "            'finish_reason': response.choices[0].finish_reason,\n",
    "            'response_id': response.id,\n",
    "            'created': response.created\n",
    "        }\n",
    "        \n",
    "        return parsed_data\n",
    "        \n",
    "    except (AttributeError, IndexError, KeyError) as e:\n",
    "        print(f\"Error parsing response: {e}\")\n",
    "        return None"
   ]
  },
  {
   "cell_type": "raw",
   "id": "f8a20b4c",
   "metadata": {},
   "source": [
    "resp = parse_grok_response(response=completion)\n",
    "resp "
   ]
  },
  {
   "cell_type": "code",
   "execution_count": 7,
   "id": "ddfb5f0c",
   "metadata": {},
   "outputs": [],
   "source": [
    "prompt = \"5 的阶乘是多少？\""
   ]
  },
  {
   "cell_type": "code",
   "execution_count": 8,
   "id": "82dae69c",
   "metadata": {},
   "outputs": [],
   "source": [
    "completion = client.chat.completions.create(\n",
    "  model=\"grok-4\",  # \"grok-3\",\n",
    "  messages=[\n",
    "    {\"role\": \"user\", \"content\": prompt}\n",
    "  ]\n",
    ")"
   ]
  },
  {
   "cell_type": "code",
   "execution_count": null,
   "id": "f08a7361",
   "metadata": {},
   "outputs": [],
   "source": [
    "resp = parse_grok_response(response=completion)"
   ]
  },
  {
   "cell_type": "code",
   "execution_count": 10,
   "id": "c90b1a0e",
   "metadata": {},
   "outputs": [],
   "source": [
    "resp.update({\"prompt\": prompt})"
   ]
  },
  {
   "cell_type": "code",
   "execution_count": 11,
   "id": "3e6a5f49",
   "metadata": {},
   "outputs": [
    {
     "data": {
      "text/plain": [
       "{'message_content': '5 的阶乘（5!）是 5 × 4 × 3 × 2 × 1 = **120**。  \\n\\n如果你有其他数字的阶乘或其他问题，随时问我！😊',\n",
       " 'model': 'grok-4-0709',\n",
       " 'total_tokens': 163,\n",
       " 'prompt_tokens': 15,\n",
       " 'completion_tokens': 45,\n",
       " 'reasoning_tokens': 103,\n",
       " 'finish_reason': 'stop',\n",
       " 'response_id': 'db1a4cf8-b289-31a1-ed34-e65f2c4c4097',\n",
       " 'created': 1752148189,\n",
       " 'prompt': '5 的阶乘是多少？'}"
      ]
     },
     "execution_count": 11,
     "metadata": {},
     "output_type": "execute_result"
    }
   ],
   "source": [
    "resp "
   ]
  },
  {
   "cell_type": "code",
   "execution_count": 14,
   "id": "a225ae23",
   "metadata": {},
   "outputs": [],
   "source": [
    "prompt = \"用Python写一个函数来计算斐波那契数列的第n项\"\n",
    "resp = ask_grok(prompt, client=client)"
   ]
  },
  {
   "cell_type": "code",
   "execution_count": 16,
   "id": "412cfde9",
   "metadata": {},
   "outputs": [
    {
     "data": {
      "text/plain": [
       "{'message_content': '```python\\ndef fibonacci(n):\\n    \"\"\"\\n    计算斐波那契数列的第n项（从0开始索引）。\\n    例如：\\n    - fibonacci(0) = 0\\n    - fibonacci(1) = 1\\n    - fibonacci(2) = 1\\n    - fibonacci(3) = 2\\n    - fibonacci(4) = 3\\n    - fibonacci(5) = 5\\n\\n    参数:\\n    n (int): 非负整数，表示斐波那契数列的索引。\\n\\n    返回:\\n    int: 斐波那契数列的第n项。\\n\\n    异常:\\n    ValueError: 如果n为负数。\\n    \"\"\"\\n    if n < 0:\\n        raise ValueError(\"n must be a non-negative integer\")\\n    if n == 0:\\n        return 0\\n    if n == 1:\\n        return 1\\n    \\n    a, b = 0, 1\\n    for _ in range(2, n + 1):\\n        a, b = b, a + b\\n    return b\\n\\n# 示例用法\\nif __name__ == \"__main__\":\\n    print(fibonacci(0))  # 输出: 0\\n    print(fibonacci(1))  # 输出: 1\\n    print(fibonacci(5))  # 输出: 5\\n    print(fibonacci(10)) # 输出: 55\\n```',\n",
       " 'model': 'grok-4-0709',\n",
       " 'total_tokens': 697,\n",
       " 'prompt_tokens': 24,\n",
       " 'completion_tokens': 301,\n",
       " 'reasoning_tokens': 372,\n",
       " 'finish_reason': 'stop',\n",
       " 'response_id': 'bb50a4de-ca80-0d5e-ab8f-ce5b4ddfb758',\n",
       " 'created': 1752149057}"
      ]
     },
     "execution_count": 16,
     "metadata": {},
     "output_type": "execute_result"
    }
   ],
   "source": [
    "resp"
   ]
  },
  {
   "cell_type": "code",
   "execution_count": 5,
   "id": "17b4e1d2",
   "metadata": {},
   "outputs": [
    {
     "data": {
      "text/plain": [
       "'\\n# Basic usage:\\ndisplay_grok_response(your_parsed_response)\\n\\n# With code extraction:\\ndisplay_grok_analysis(your_parsed_response)\\n\\n# Just extract code for testing:\\ncode = quick_test_code(your_parsed_response)\\nexec(code)  # Execute the code\\n\\n# Save code to file:\\nextract_and_save_code(your_parsed_response, \"fibonacci.py\")\\n'"
      ]
     },
     "execution_count": 5,
     "metadata": {},
     "output_type": "execute_result"
    }
   ],
   "source": [
    "import re\n",
    "from IPython.display import display, Markdown, HTML\n",
    "try:\n",
    "    from IPython.display import Code\n",
    "except ImportError:\n",
    "    # Fallback for older IPython versions\n",
    "    Code = None\n",
    "\n",
    "def display_grok_response(parsed_response, show_stats=True):\n",
    "    \"\"\"\n",
    "    Display Grok response content nicely in Jupyter Notebook\n",
    "    \n",
    "    Args:\n",
    "        parsed_response (dict): Parsed response from parse_grok_response()\n",
    "        show_stats (bool): Whether to show token usage statistics\n",
    "    \"\"\"\n",
    "    \n",
    "    content = parsed_response.get('message_content', '')\n",
    "    \n",
    "    if show_stats:\n",
    "        # Display token usage statistics\n",
    "        stats_html = f\"\"\"\n",
    "        <div style=\"background-color: #f0f8ff; padding: 10px; border-radius: 5px; margin-bottom: 10px;\">\n",
    "            <h4>📊 Token Usage Statistics</h4>\n",
    "            <ul>\n",
    "                <li><strong>Model:</strong> {parsed_response.get('model', 'N/A')}</li>\n",
    "                <li><strong>Total Tokens:</strong> {parsed_response.get('total_tokens', 0)}</li>\n",
    "                <li><strong>Prompt Tokens:</strong> {parsed_response.get('prompt_tokens', 0)}</li>\n",
    "                <li><strong>Completion Tokens:</strong> {parsed_response.get('completion_tokens', 0)}</li>\n",
    "                <li><strong>Reasoning Tokens:</strong> {parsed_response.get('reasoning_tokens', 0)}</li>\n",
    "                <li><strong>Finish Reason:</strong> {parsed_response.get('finish_reason', 'N/A')}</li>\n",
    "            </ul>\n",
    "        </div>\n",
    "        \"\"\"\n",
    "        display(HTML(stats_html))\n",
    "    \n",
    "    # Display the main content\n",
    "    display(Markdown(\"### 🤖 Grok Response:\"))\n",
    "    display(Markdown(content))\n",
    "\n",
    "def extract_code_blocks(content):\n",
    "    \"\"\"\n",
    "    Extract code blocks from markdown content\n",
    "    \n",
    "    Args:\n",
    "        content (str): Content with potential code blocks\n",
    "        \n",
    "    Returns:\n",
    "        list: List of dictionaries with 'language' and 'code' keys\n",
    "    \"\"\"\n",
    "    # Pattern to match code blocks with language specification\n",
    "    pattern = r'```(\\w+)?\\n(.*?)```'\n",
    "    matches = re.findall(pattern, content, re.DOTALL)\n",
    "    \n",
    "    code_blocks = []\n",
    "    for match in matches:\n",
    "        language = match[0] if match[0] else 'text'\n",
    "        code = match[1].strip()\n",
    "        code_blocks.append({\n",
    "            'language': language,\n",
    "            'code': code\n",
    "        })\n",
    "    \n",
    "    return code_blocks\n",
    "\n",
    "def display_code_blocks(parsed_response):\n",
    "    \"\"\"\n",
    "    Extract and display code blocks separately for easy copying\n",
    "    \n",
    "    Args:\n",
    "        parsed_response (dict): Parsed response from parse_grok_response()\n",
    "    \"\"\"\n",
    "    content = parsed_response.get('message_content', '')\n",
    "    code_blocks = extract_code_blocks(content)\n",
    "    \n",
    "    if not code_blocks:\n",
    "        print(\"No code blocks found in the response.\")\n",
    "        return\n",
    "    \n",
    "    for i, block in enumerate(code_blocks, 1):\n",
    "        display(HTML(f\"<h4>📝 Code Block {i} ({block['language']})</h4>\"))\n",
    "        \n",
    "        # Use Code if available, otherwise fall back to HTML with syntax highlighting\n",
    "        if Code:\n",
    "            display(Code(block['code'], language=block['language']))\n",
    "        else:\n",
    "            # Fallback: display as preformatted text with basic styling\n",
    "            code_html = f\"\"\"\n",
    "            <div style=\"background-color: #f5f5f5; padding: 10px; border-radius: 5px; \n",
    "                        border-left: 4px solid #007acc; margin: 10px 0;\">\n",
    "                <pre style=\"margin: 0; overflow-x: auto;\"><code>{block['code']}</code></pre>\n",
    "            </div>\n",
    "            \"\"\"\n",
    "            display(HTML(code_html))\n",
    "\n",
    "def extract_and_save_code(parsed_response, filename=None):\n",
    "    \"\"\"\n",
    "    Extract code blocks and optionally save to file\n",
    "    \n",
    "    Args:\n",
    "        parsed_response (dict): Parsed response from parse_grok_response()\n",
    "        filename (str): Optional filename to save the code\n",
    "        \n",
    "    Returns:\n",
    "        list: List of code blocks\n",
    "    \"\"\"\n",
    "    content = parsed_response.get('message_content', '')\n",
    "    code_blocks = extract_code_blocks(content)\n",
    "    \n",
    "    if not code_blocks:\n",
    "        print(\"No code blocks found.\")\n",
    "        return []\n",
    "    \n",
    "    # If filename provided, save the first code block\n",
    "    if filename and code_blocks:\n",
    "        with open(filename, 'w', encoding='utf-8') as f:\n",
    "            f.write(code_blocks[0]['code'])\n",
    "        print(f\"Code saved to {filename}\")\n",
    "    \n",
    "    return code_blocks\n",
    "\n",
    "def quick_test_code(parsed_response):\n",
    "    \"\"\"\n",
    "    Quick test function - extracts first Python code block and returns it for execution\n",
    "    \n",
    "    Args:\n",
    "        parsed_response (dict): Parsed response from parse_grok_response()\n",
    "        \n",
    "    Returns:\n",
    "        str: Python code ready for execution\n",
    "    \"\"\"\n",
    "    code_blocks = extract_code_blocks(parsed_response.get('message_content', ''))\n",
    "    \n",
    "    python_blocks = [block for block in code_blocks if block['language'].lower() == 'python']\n",
    "    \n",
    "    if not python_blocks:\n",
    "        print(\"No Python code blocks found.\")\n",
    "        return \"\"\n",
    "    \n",
    "    return python_blocks[0]['code']\n",
    "\n",
    "# Enhanced display function with everything\n",
    "def display_grok_analysis(parsed_response, extract_code=True, show_stats=True):\n",
    "    \"\"\"\n",
    "    Complete analysis and display of Grok response\n",
    "    \n",
    "    Args:\n",
    "        parsed_response (dict): Parsed response from parse_grok_response()\n",
    "        extract_code (bool): Whether to extract and display code blocks separately\n",
    "        show_stats (bool): Whether to show token usage statistics\n",
    "    \"\"\"\n",
    "    \n",
    "    # Show statistics\n",
    "    if show_stats:\n",
    "        display_grok_response(parsed_response, show_stats=True)\n",
    "    else:\n",
    "        display_grok_response(parsed_response, show_stats=False)\n",
    "    \n",
    "    # Extract and display code blocks\n",
    "    if extract_code:\n",
    "        print(\"\\n\" + \"=\"*50)\n",
    "        display(HTML(\"<h3>🔧 Code Extraction</h3>\"))\n",
    "        display_code_blocks(parsed_response)\n",
    "\n",
    "# Example usage functions\n",
    "def fibonacci_test_example():\n",
    "    \"\"\"Example of how to use the helper with your Fibonacci response\"\"\"\n",
    "    \n",
    "    # Your actual Fibonacci response\n",
    "    fibonacci_response = {\n",
    "        'message_content': '```python\\ndef fibonacci(n):\\n    \"\"\"\\n    计算斐波那契数列的第n项（从0开始索引）。\\n    例如：\\n    - fibonacci(0) = 0\\n    - fibonacci(1) = 1\\n    - fibonacci(2) = 1\\n    - fibonacci(3) = 2\\n    - fibonacci(4) = 3\\n    - fibonacci(5) = 5\\n\\n    参数:\\n    n (int): 非负整数，表示斐波那契数列的索引。\\n\\n    返回:\\n    int: 斐波那契数列的第n项。\\n\\n    异常:\\n    ValueError: 如果n为负数。\\n    \"\"\"\\n    if n < 0:\\n        raise ValueError(\"n must be a non-negative integer\")\\n    if n == 0:\\n        return 0\\n    if n == 1:\\n        return 1\\n    \\n    a, b = 0, 1\\n    for _ in range(2, n + 1):\\n        a, b = b, a + b\\n    return b\\n\\n# 示例用法\\nif __name__ == \"__main__\":\\n    print(fibonacci(0))  # 输出: 0\\n    print(fibonacci(1))  # 输出: 1\\n    print(fibonacci(5))  # 输出: 5\\n    print(fibonacci(10)) # 输出: 55\\n```',\n",
    "        'model': 'grok-4-0709',\n",
    "        'total_tokens': 697,\n",
    "        'prompt_tokens': 24,\n",
    "        'completion_tokens': 301,\n",
    "        'reasoning_tokens': 372,\n",
    "        'finish_reason': 'stop',\n",
    "        'response_id': 'bb50a4de-ca80-0d5e-ab8f-ce5b4ddfb758',\n",
    "        'created': 1752149057\n",
    "    }\n",
    "    \n",
    "    # Display with full analysis\n",
    "    display_grok_analysis(fibonacci_response)\n",
    "    \n",
    "    # Extract code for testing\n",
    "    code = quick_test_code(fibonacci_response)\n",
    "    print(\"\\n\" + \"=\"*50)\n",
    "    print(\"🚀 Ready to test! Use this code:\")\n",
    "    print(\"=\"*50)\n",
    "    return code\n",
    "\n",
    "# Simple usage examples\n",
    "\"\"\"\n",
    "# Basic usage:\n",
    "display_grok_response(your_parsed_response)\n",
    "\n",
    "# With code extraction:\n",
    "display_grok_analysis(your_parsed_response)\n",
    "\n",
    "# Just extract code for testing:\n",
    "code = quick_test_code(your_parsed_response)\n",
    "exec(code)  # Execute the code\n",
    "\n",
    "# Save code to file:\n",
    "extract_and_save_code(your_parsed_response, \"fibonacci.py\")\n",
    "\"\"\""
   ]
  },
  {
   "cell_type": "code",
   "execution_count": 19,
   "id": "5a2677d9",
   "metadata": {},
   "outputs": [
    {
     "data": {
      "text/html": [
       "\n",
       "        <div style=\"background-color: #f0f8ff; padding: 10px; border-radius: 5px; margin-bottom: 10px;\">\n",
       "            <h4>📊 Token Usage Statistics</h4>\n",
       "            <ul>\n",
       "                <li><strong>Model:</strong> grok-4-0709</li>\n",
       "                <li><strong>Total Tokens:</strong> 697</li>\n",
       "                <li><strong>Prompt Tokens:</strong> 24</li>\n",
       "                <li><strong>Completion Tokens:</strong> 301</li>\n",
       "                <li><strong>Reasoning Tokens:</strong> 372</li>\n",
       "                <li><strong>Finish Reason:</strong> stop</li>\n",
       "            </ul>\n",
       "        </div>\n",
       "        "
      ],
      "text/plain": [
       "<IPython.core.display.HTML object>"
      ]
     },
     "metadata": {},
     "output_type": "display_data"
    },
    {
     "data": {
      "text/markdown": [
       "### 🤖 Grok Response:"
      ],
      "text/plain": [
       "<IPython.core.display.Markdown object>"
      ]
     },
     "metadata": {},
     "output_type": "display_data"
    },
    {
     "data": {
      "text/markdown": [
       "```python\n",
       "def fibonacci(n):\n",
       "    \"\"\"\n",
       "    计算斐波那契数列的第n项（从0开始索引）。\n",
       "    例如：\n",
       "    - fibonacci(0) = 0\n",
       "    - fibonacci(1) = 1\n",
       "    - fibonacci(2) = 1\n",
       "    - fibonacci(3) = 2\n",
       "    - fibonacci(4) = 3\n",
       "    - fibonacci(5) = 5\n",
       "\n",
       "    参数:\n",
       "    n (int): 非负整数，表示斐波那契数列的索引。\n",
       "\n",
       "    返回:\n",
       "    int: 斐波那契数列的第n项。\n",
       "\n",
       "    异常:\n",
       "    ValueError: 如果n为负数。\n",
       "    \"\"\"\n",
       "    if n < 0:\n",
       "        raise ValueError(\"n must be a non-negative integer\")\n",
       "    if n == 0:\n",
       "        return 0\n",
       "    if n == 1:\n",
       "        return 1\n",
       "    \n",
       "    a, b = 0, 1\n",
       "    for _ in range(2, n + 1):\n",
       "        a, b = b, a + b\n",
       "    return b\n",
       "\n",
       "# 示例用法\n",
       "if __name__ == \"__main__\":\n",
       "    print(fibonacci(0))  # 输出: 0\n",
       "    print(fibonacci(1))  # 输出: 1\n",
       "    print(fibonacci(5))  # 输出: 5\n",
       "    print(fibonacci(10)) # 输出: 55\n",
       "```"
      ],
      "text/plain": [
       "<IPython.core.display.Markdown object>"
      ]
     },
     "metadata": {},
     "output_type": "display_data"
    }
   ],
   "source": [
    "display_grok_response(resp)"
   ]
  },
  {
   "cell_type": "code",
   "execution_count": 6,
   "id": "c91720d3",
   "metadata": {},
   "outputs": [
    {
     "name": "stdout",
     "output_type": "stream",
     "text": [
      "0\n",
      "1\n",
      "5\n",
      "55\n"
     ]
    }
   ],
   "source": [
    "def fibonacci(n):\n",
    "    \"\"\"\n",
    "    计算斐波那契数列的第n项（从0开始索引）。\n",
    "    例如：\n",
    "    - fibonacci(0) = 0\n",
    "    - fibonacci(1) = 1\n",
    "    - fibonacci(2) = 1\n",
    "    - fibonacci(3) = 2\n",
    "    - fibonacci(4) = 3\n",
    "    - fibonacci(5) = 5\n",
    "\n",
    "    参数:\n",
    "    n (int): 非负整数，表示斐波那契数列的索引。\n",
    "\n",
    "    返回:\n",
    "    int: 斐波那契数列的第n项。\n",
    "\n",
    "    异常:\n",
    "    ValueError: 如果n为负数。\n",
    "    \"\"\"\n",
    "    if n < 0:\n",
    "        raise ValueError(\"n must be a non-negative integer\")\n",
    "    if n == 0:\n",
    "        return 0\n",
    "    if n == 1:\n",
    "        return 1\n",
    "\n",
    "    a, b = 0, 1\n",
    "    for _ in range(2, n + 1):\n",
    "        a, b = b, a + b\n",
    "    return b\n",
    "\n",
    "# 示例用法\n",
    "if __name__ == \"__main__\":\n",
    "    print(fibonacci(0))  # 输出: 0\n",
    "    print(fibonacci(1))  # 输出: 1\n",
    "    print(fibonacci(5))  # 输出: 5\n",
    "    print(fibonacci(10)) # 输出: 55"
   ]
  },
  {
   "cell_type": "code",
   "execution_count": 7,
   "id": "49443b15",
   "metadata": {},
   "outputs": [
    {
     "data": {
      "text/html": [
       "\n",
       "        <div style=\"background-color: #f0f8ff; padding: 10px; border-radius: 5px; margin-bottom: 10px;\">\n",
       "            <h4>📊 Token Usage Statistics</h4>\n",
       "            <ul>\n",
       "                <li><strong>Model:</strong> grok-4-0709</li>\n",
       "                <li><strong>Total Tokens:</strong> 709</li>\n",
       "                <li><strong>Prompt Tokens:</strong> 14</li>\n",
       "                <li><strong>Completion Tokens:</strong> 585</li>\n",
       "                <li><strong>Reasoning Tokens:</strong> 110</li>\n",
       "                <li><strong>Finish Reason:</strong> stop</li>\n",
       "            </ul>\n",
       "        </div>\n",
       "        "
      ],
      "text/plain": [
       "<IPython.core.display.HTML object>"
      ]
     },
     "metadata": {},
     "output_type": "display_data"
    },
    {
     "data": {
      "text/markdown": [
       "### 🤖 Grok Response:"
      ],
      "text/plain": [
       "<IPython.core.display.Markdown object>"
      ]
     },
     "metadata": {},
     "output_type": "display_data"
    },
    {
     "data": {
      "text/markdown": [
       "Based on your query, I'll assume you're asking for the mathematical value of the square root of 2 (often written as √2). Let me break it down step by step, including the exact value, an approximation, and some context!\n",
       "\n",
       "### 1. **Exact Value**\n",
       "- The square root of 2 is the number that, when multiplied by itself, equals 2. In other words, if \\( x = \\sqrt{2} \\), then \\( x \\times x = 2 \\).\n",
       "- It's an **irrational number**, meaning it can't be expressed as a simple fraction (like 1/2 or 3/4) and its decimal goes on forever without repeating.\n",
       "- Exact mathematical notation: \\( \\sqrt{2} \\) or \\( 2^{1/2} \\).\n",
       "\n",
       "### 2. **Approximate Value**\n",
       "- A common decimal approximation is **1.41421356237** (rounded to 11 decimal places).\n",
       "- For everyday use:\n",
       "  - To 2 decimals: ≈ 1.41\n",
       "  - To 3 decimals: ≈ 1.414\n",
       "  - To 5 decimals: ≈ 1.41421\n",
       "- You can get more precise values using a calculator or tools like Python/Google/Wolfram Alpha.\n",
       "\n",
       "### 3. **How to Calculate It**\n",
       "- **Manually**: You can use methods like the Babylonian algorithm (a type of iterative approximation). Start with a guess (e.g., 1.4), square it, and refine:\n",
       "  - Guess: 1.4 → 1.4² = 1.96 (too low)\n",
       "  - Refine: Average of 1.4 and (2/1.4) ≈ 1.414 → 1.414² ≈ 1.999 (very close!)\n",
       "  - Repeat for more precision.\n",
       "- **Using a Calculator**: Just type √2 or \"sqrt(2)\" into most calculators or search engines.\n",
       "- **In Programming**: In Python, it's `math.sqrt(2)` which gives ~1.4142135623730951.\n",
       "\n",
       "### 4. **Fun Facts and Context**\n",
       "- √2 is famous in math because it's the length of the diagonal of a square with sides of length 1 (from the Pythagorean theorem: diagonal = √(1² + 1²) = √2).\n",
       "- It was proven irrational by ancient Greek mathematicians (like Hippasus) around 500 BC, which was a big deal at the time!\n",
       "- It appears in nature, geometry, and physics (e.g., in wave patterns or the golden ratio approximations).\n",
       "\n",
       "If this isn't what you meant (e.g., if you wanted the square root of a different number, or something like \"square root of 2\" in a non-math context like a riddle or code), feel free to provide more details! 😊"
      ],
      "text/plain": [
       "<IPython.core.display.Markdown object>"
      ]
     },
     "metadata": {},
     "output_type": "display_data"
    }
   ],
   "source": [
    "# prompt = \"When was the largest firework show in Japan on July 4th\"\n",
    "\n",
    "prompt = \"What is square root of 2\"\n",
    "\n",
    "resp = ask_grok(prompt, client=client)\n",
    "display_grok_response(resp)"
   ]
  },
  {
   "cell_type": "code",
   "execution_count": null,
   "id": "84cfa531",
   "metadata": {},
   "outputs": [],
   "source": []
  }
 ],
 "metadata": {
  "kernelspec": {
   "display_name": "Python 3 (ipykernel)",
   "language": "python",
   "name": "python3"
  },
  "language_info": {
   "codemirror_mode": {
    "name": "ipython",
    "version": 3
   },
   "file_extension": ".py",
   "mimetype": "text/x-python",
   "name": "python",
   "nbconvert_exporter": "python",
   "pygments_lexer": "ipython3",
   "version": "3.9.13"
  },
  "nbTranslate": {
   "displayLangs": [
    "*"
   ],
   "hotkey": "alt-t",
   "langInMainMenu": true,
   "sourceLang": "en",
   "targetLang": "fr",
   "useGoogleTranslate": true
  },
  "toc": {
   "base_numbering": 1,
   "nav_menu": {},
   "number_sections": true,
   "sideBar": true,
   "skip_h1_title": false,
   "title_cell": "Table of Contents",
   "title_sidebar": "Contents",
   "toc_cell": false,
   "toc_position": {},
   "toc_section_display": true,
   "toc_window_display": false
  }
 },
 "nbformat": 4,
 "nbformat_minor": 5
}
