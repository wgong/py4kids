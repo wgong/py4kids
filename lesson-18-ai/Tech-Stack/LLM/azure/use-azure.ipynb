{
 "cells": [
  {
   "cell_type": "markdown",
   "id": "c6f49292",
   "metadata": {},
   "source": [
    "Azure OpenAI Studio : \n",
    "- https://oai.azure.com (old)\n",
    "- https://ai.azure.com/ (new)"
   ]
  },
  {
   "cell_type": "code",
   "execution_count": 9,
   "id": "d1066347",
   "metadata": {},
   "outputs": [
    {
     "name": "stdout",
     "output_type": "stream",
     "text": [
      " Volume in drive C is Windows\n",
      " Volume Serial Number is 6EA7-3DCA\n",
      "\n",
      " Directory of C:\\Users\\p2p2l\\projects\\wgong\\py4kids\\lesson-18-ai\\Tech-Stack\\LLM\\azure\n",
      "\n",
      "07/09/2025  09:24 PM    <DIR>          .\n",
      "07/05/2025  10:42 AM    <DIR>          ..\n",
      "07/05/2025  11:38 AM    <DIR>          .ipynb_checkpoints\n",
      "07/05/2025  10:45 AM             4,212 readme.md\n",
      "07/09/2025  09:24 PM            16,373 use-azure.ipynb\n",
      "               2 File(s)         20,585 bytes\n",
      "               3 Dir(s)  112,348,082,176 bytes free\n"
     ]
    }
   ],
   "source": [
    "!dir "
   ]
  },
  {
   "cell_type": "code",
   "execution_count": 1,
   "id": "d8fed5f0",
   "metadata": {
    "scrolled": true
   },
   "outputs": [
    {
     "name": "stdout",
     "output_type": "stream",
     "text": [
      "Requirement already satisfied: openai in c:\\users\\p2p2l\\anaconda3\\envs\\ai_workflow\\lib\\site-packages (1.93.0)\n",
      "Requirement already satisfied: anyio<5,>=3.5.0 in c:\\users\\p2p2l\\anaconda3\\envs\\ai_workflow\\lib\\site-packages (from openai) (4.9.0)\n",
      "Requirement already satisfied: distro<2,>=1.7.0 in c:\\users\\p2p2l\\anaconda3\\envs\\ai_workflow\\lib\\site-packages (from openai) (1.9.0)\n",
      "Requirement already satisfied: httpx<1,>=0.23.0 in c:\\users\\p2p2l\\anaconda3\\envs\\ai_workflow\\lib\\site-packages (from openai) (0.28.1)\n",
      "Requirement already satisfied: jiter<1,>=0.4.0 in c:\\users\\p2p2l\\anaconda3\\envs\\ai_workflow\\lib\\site-packages (from openai) (0.10.0)\n",
      "Requirement already satisfied: pydantic<3,>=1.9.0 in c:\\users\\p2p2l\\anaconda3\\envs\\ai_workflow\\lib\\site-packages (from openai) (2.11.7)\n",
      "Requirement already satisfied: sniffio in c:\\users\\p2p2l\\anaconda3\\envs\\ai_workflow\\lib\\site-packages (from openai) (1.3.1)\n",
      "Requirement already satisfied: tqdm>4 in c:\\users\\p2p2l\\anaconda3\\envs\\ai_workflow\\lib\\site-packages (from openai) (4.67.1)\n",
      "Requirement already satisfied: typing-extensions<5,>=4.11 in c:\\users\\p2p2l\\anaconda3\\envs\\ai_workflow\\lib\\site-packages (from openai) (4.14.0)\n",
      "Requirement already satisfied: idna>=2.8 in c:\\users\\p2p2l\\anaconda3\\envs\\ai_workflow\\lib\\site-packages (from anyio<5,>=3.5.0->openai) (3.10)\n",
      "Requirement already satisfied: certifi in c:\\users\\p2p2l\\anaconda3\\envs\\ai_workflow\\lib\\site-packages (from httpx<1,>=0.23.0->openai) (2025.6.15)\n",
      "Requirement already satisfied: httpcore==1.* in c:\\users\\p2p2l\\anaconda3\\envs\\ai_workflow\\lib\\site-packages (from httpx<1,>=0.23.0->openai) (1.0.9)\n",
      "Requirement already satisfied: h11>=0.16 in c:\\users\\p2p2l\\anaconda3\\envs\\ai_workflow\\lib\\site-packages (from httpcore==1.*->httpx<1,>=0.23.0->openai) (0.16.0)\n",
      "Requirement already satisfied: annotated-types>=0.6.0 in c:\\users\\p2p2l\\anaconda3\\envs\\ai_workflow\\lib\\site-packages (from pydantic<3,>=1.9.0->openai) (0.7.0)\n",
      "Requirement already satisfied: pydantic-core==2.33.2 in c:\\users\\p2p2l\\anaconda3\\envs\\ai_workflow\\lib\\site-packages (from pydantic<3,>=1.9.0->openai) (2.33.2)\n",
      "Requirement already satisfied: typing-inspection>=0.4.0 in c:\\users\\p2p2l\\anaconda3\\envs\\ai_workflow\\lib\\site-packages (from pydantic<3,>=1.9.0->openai) (0.4.1)\n",
      "Requirement already satisfied: colorama in c:\\users\\p2p2l\\anaconda3\\envs\\ai_workflow\\lib\\site-packages (from tqdm>4->openai) (0.4.6)\n"
     ]
    }
   ],
   "source": [
    "!pip install openai"
   ]
  },
  {
   "cell_type": "code",
   "execution_count": 4,
   "id": "f36d0713",
   "metadata": {},
   "outputs": [],
   "source": [
    "import os\n",
    "from openai import AzureOpenAI"
   ]
  },
  {
   "cell_type": "raw",
   "id": "760ba2e4",
   "metadata": {},
   "source": [
    "os.getenv(\"AZURE_OPENAI_ENDPOINT\")"
   ]
  },
  {
   "cell_type": "raw",
   "id": "48aa55da",
   "metadata": {},
   "source": [
    "os.getenv(\"AZURE_OPENAI_KEY\")"
   ]
  },
  {
   "cell_type": "raw",
   "id": "53a53a73",
   "metadata": {},
   "source": [
    "os.getenv(\"AZURE_DEPLOYMENT_NAME\")\n",
    "# Microsoft.CognitiveServicesOpenAI-20250705122823"
   ]
  },
  {
   "cell_type": "markdown",
   "id": "91e2f90d",
   "metadata": {},
   "source": [
    "## Troubleshooting"
   ]
  },
  {
   "cell_type": "code",
   "execution_count": 1,
   "id": "5c542d21",
   "metadata": {},
   "outputs": [
    {
     "name": "stdout",
     "output_type": "stream",
     "text": [
      "=== Environment Variables Check ===\n",
      "AZURE_OPENAI_ENDPOINT: https://papa-gpt4.openai.azure.com/\n",
      "AZURE_OPENAI_KEY: **********lpfm\n",
      "AZURE_DEPLOYMENT_NAME: Microsoft.CognitiveServicesOpenAI-20250705122823\n",
      "\n",
      "=== Common Issues Check ===\n",
      "✓ Using Azure OpenAI endpoint format\n",
      "✓ Endpoint: https://papa-gpt4.openai.azure.com/\n",
      "✓ API key length: 84 characters\n",
      "✓ Deployment name: Microsoft.CognitiveServicesOpenAI-20250705122823\n",
      "\n",
      "=== Testing Connection ===\n",
      "\n",
      "Trying API version: 2024-02-01\n",
      "  Testing connectivity...\n",
      "❌ Failed with API version 2024-02-01\n",
      "   → 404 error: Deployment name might be incorrect\n",
      "\n",
      "Trying API version: 2023-12-01-preview\n",
      "  Testing connectivity...\n",
      "❌ Failed with API version 2023-12-01-preview\n",
      "   → 404 error: Deployment name might be incorrect\n",
      "\n",
      "Trying API version: 2023-05-15\n",
      "  Testing connectivity...\n",
      "❌ Failed with API version 2023-05-15\n",
      "   → 404 error: Deployment name might be incorrect\n",
      "\n",
      "Trying API version: 2023-08-01-preview\n",
      "  Testing connectivity...\n",
      "❌ Failed with API version 2023-08-01-preview\n",
      "   → 404 error: Deployment name might be incorrect\n",
      "\n",
      "Trying API version: 2024-06-01\n",
      "  Testing connectivity...\n",
      "❌ Failed with API version 2024-06-01\n",
      "   → 404 error: Deployment name might be incorrect\n",
      "\n",
      "=== Troubleshooting Tips ===\n",
      "1. Verify your Azure OpenAI resource is deployed and active\n",
      "2. Check that your subscription has access to Azure OpenAI\n",
      "3. Ensure the deployment name matches exactly (case-sensitive)\n",
      "4. Verify you're using the correct endpoint from Azure portal\n",
      "5. Check if your API key has expired or been regenerated\n",
      "6. Try regenerating your API key in Azure portal\n",
      "7. Ensure your resource is in the correct region\n",
      "8. Check if there are any network/firewall restrictions\n"
     ]
    }
   ],
   "source": [
    "import os\n",
    "from openai import AzureOpenAI\n",
    "\n",
    "# Debug: Print environment variables (masking sensitive info)\n",
    "print(\"=== Environment Variables Check ===\")\n",
    "endpoint = os.getenv(\"AZURE_OPENAI_ENDPOINT\")\n",
    "api_key = os.getenv(\"AZURE_OPENAI_KEY\")\n",
    "deployment = os.getenv(\"AZURE_DEPLOYMENT_NAME\")\n",
    "\n",
    "print(f\"AZURE_OPENAI_ENDPOINT: {endpoint}\")\n",
    "print(f\"AZURE_OPENAI_KEY: {'*' * 10 + api_key[-4:] if api_key else 'Not set'}\")\n",
    "print(f\"AZURE_DEPLOYMENT_NAME: {deployment}\")\n",
    "\n",
    "# Check common issues\n",
    "print(\"\\n=== Common Issues Check ===\")\n",
    "\n",
    "# 1. Check endpoint format\n",
    "if endpoint:\n",
    "    if not endpoint.startswith(\"https://\"):\n",
    "        print(\"⚠️  WARNING: Endpoint should start with 'https://'\")\n",
    "    if not endpoint.endswith(\"/\"):\n",
    "        print(\"⚠️  WARNING: Endpoint should end with '/'\")\n",
    "    \n",
    "    # Check for valid Azure endpoint patterns\n",
    "    if \"openai.azure.com\" in endpoint:\n",
    "        print(\"✓ Using Azure OpenAI endpoint format\")\n",
    "    elif \"cognitiveservices.azure.com\" in endpoint:\n",
    "        print(\"✓ Using Cognitive Services endpoint format (this is valid)\")\n",
    "    else:\n",
    "        print(\"⚠️  WARNING: Endpoint should contain 'openai.azure.com' or 'cognitiveservices.azure.com'\")\n",
    "    \n",
    "    print(f\"✓ Endpoint: {endpoint}\")\n",
    "else:\n",
    "    print(\"❌ AZURE_OPENAI_ENDPOINT is not set\")\n",
    "\n",
    "# 2. Check API key format\n",
    "if api_key:\n",
    "    if len(api_key) < 32:\n",
    "        print(\"⚠️  WARNING: API key seems too short\")\n",
    "    print(f\"✓ API key length: {len(api_key)} characters\")\n",
    "else:\n",
    "    print(\"❌ AZURE_OPENAI_KEY is not set\")\n",
    "\n",
    "# 3. Check deployment name\n",
    "if deployment:\n",
    "    print(f\"✓ Deployment name: {deployment}\")\n",
    "else:\n",
    "    print(\"❌ AZURE_DEPLOYMENT_NAME is not set\")\n",
    "\n",
    "print(\"\\n=== Testing Connection ===\")\n",
    "\n",
    "try:\n",
    "    # Test different API versions (Cognitive Services often needs different versions)\n",
    "    api_versions = [\"2024-02-01\", \"2023-12-01-preview\", \"2023-05-15\", \"2023-08-01-preview\", \"2024-06-01\"]\n",
    "    \n",
    "    for version in api_versions:\n",
    "        print(f\"\\nTrying API version: {version}\")\n",
    "        \n",
    "        client = AzureOpenAI(\n",
    "            azure_endpoint=endpoint,\n",
    "            api_key=api_key,\n",
    "            api_version=version\n",
    "        )\n",
    "        \n",
    "        try:\n",
    "            # Try to list deployments first (this is a good connectivity test)\n",
    "            print(\"  Testing connectivity...\")\n",
    "            \n",
    "            response = client.chat.completions.create(\n",
    "                model=deployment,\n",
    "                messages=[\n",
    "                    {\"role\": \"user\", \"content\": \"Hello\"}\n",
    "                ],\n",
    "                max_tokens=10\n",
    "            )\n",
    "            print(f\"✓ SUCCESS with API version {version}\")\n",
    "            print(f\"Response: {response.choices[0].message.content}\")\n",
    "            break\n",
    "            \n",
    "        except Exception as e:\n",
    "            error_msg = str(e)\n",
    "            print(f\"❌ Failed with API version {version}\")\n",
    "            \n",
    "            # More specific error analysis\n",
    "            if \"404\" in error_msg:\n",
    "                print(\"   → 404 error: Deployment name might be incorrect\")\n",
    "            elif \"401\" in error_msg:\n",
    "                print(\"   → 401 error: Authentication issue\")\n",
    "            elif \"403\" in error_msg:\n",
    "                print(\"   → 403 error: Permission/quota issue\")\n",
    "            else:\n",
    "                print(f\"   → Error: {error_msg}\")\n",
    "            \n",
    "except Exception as e:\n",
    "    print(f\"❌ Connection failed: {e}\")\n",
    "\n",
    "print(\"\\n=== Troubleshooting Tips ===\")\n",
    "print(\"1. Verify your Azure OpenAI resource is deployed and active\")\n",
    "print(\"2. Check that your subscription has access to Azure OpenAI\")\n",
    "print(\"3. Ensure the deployment name matches exactly (case-sensitive)\")\n",
    "print(\"4. Verify you're using the correct endpoint from Azure portal\")\n",
    "print(\"5. Check if your API key has expired or been regenerated\")\n",
    "print(\"6. Try regenerating your API key in Azure portal\")\n",
    "print(\"7. Ensure your resource is in the correct region\")\n",
    "print(\"8. Check if there are any network/firewall restrictions\")"
   ]
  },
  {
   "cell_type": "code",
   "execution_count": 8,
   "id": "8420c1a2",
   "metadata": {},
   "outputs": [
    {
     "name": "stdout",
     "output_type": "stream",
     "text": [
      "Geometry is a branch of mathematics that deals with the properties, measurements, and relationships of points, lines, angles, surfaces, and solids. It is one of the oldest fields of mathematics, dating back to ancient civilizations, and it plays a crucial role in various disciplines, including art, architecture, engineering, and physics.\n",
      "\n",
      "### Key Concepts in Geometry:\n",
      "\n",
      "1. **Points**: A point represents a location in space and has no size or dimension. It is often denoted by a capital letter (e.g., Point A).\n",
      "\n",
      "2. **Lines and Line Segments**: A line is a straight path that extends infinitely in both directions, while a line segment has two endpoints and a finite length.\n",
      "\n",
      "3. **Angles**: An angle is formed by two rays (sides) that share a common endpoint (the vertex). Angles are measured in degrees or radians.\n",
      "\n",
      "4. **Shapes and Figures**: Geometry studies various two-dimensional (2D) shapes, such as triangles, squares, and circles, as well as three-dimensional (3D) figures, like cubes, spheres, and pyramids.\n",
      "\n",
      "5. **Theorems and Postulates**: Geometry includes many fundamental principles, such as the Pythagorean theorem, which relates the sides of a right triangle, and various postulates that serve as the foundation for geometric reasoning.\n",
      "\n",
      "6. **Congruence and Similarity**: Congruent figures have the same shape and size, while similar figures have the same shape but may differ in size.\n",
      "\n",
      "7. **Coordinate Geometry**: This area combines algebra and geometry, using a coordinate system to describe geometric figures and their properties.\n",
      "\n",
      "### Applications of Geometry:\n",
      "\n",
      "- **Architecture**: Designing buildings and structures involves geometric principles to ensure stability and aesthetics.\n",
      "- **Art**: Artists use geometric shapes and perspectives to create visually appealing works.\n",
      "- **Engineering**: Geometry is essential in designing and analyzing mechanical systems and structures.\n",
      "- **Computer Graphics**: Geometry is used in creating visual representations in video games and simulations.\n",
      "\n",
      "Geometry is not just about shapes and sizes; it helps us understand the world around us and is fundamental in various scientific and practical applications. Whether you’re solving problems, designing objects, or analyzing data, geometry provides valuable tools for understanding and interacting with the space we live in.\n"
     ]
    }
   ],
   "source": [
    "import os\n",
    "from openai import AzureOpenAI\n",
    "\n",
    "endpoint = \"https://papa-gpt4.openai.azure.com/\"\n",
    "model_name = \"gpt-4o-mini\"\n",
    "deployment = \"gpt-4o-mini\"\n",
    "\n",
    "subscription_key = os.getenv(\"AZURE_OPENAI_KEY\")\n",
    "api_version = \"2024-12-01-preview\"\n",
    "\n",
    "client = AzureOpenAI(\n",
    "    api_version=api_version,\n",
    "    azure_endpoint=endpoint,\n",
    "    api_key=subscription_key,\n",
    ")\n",
    "\n",
    "response = client.chat.completions.create(\n",
    "    messages=[\n",
    "        {\n",
    "            \"role\": \"system\",\n",
    "            \"content\": \"You are a helpful assistant.\",\n",
    "        },\n",
    "        {\n",
    "            \"role\": \"user\",\n",
    "            \"content\": \"I like to learn geometry, give me a short introduction\",\n",
    "        }\n",
    "    ],\n",
    "    max_tokens=4096,\n",
    "    temperature=0.4,\n",
    "    top_p=1.0,\n",
    "    model=deployment\n",
    ")\n",
    "\n",
    "print(response.choices[0].message.content)"
   ]
  },
  {
   "cell_type": "code",
   "execution_count": null,
   "id": "a7443f89",
   "metadata": {},
   "outputs": [],
   "source": []
  }
 ],
 "metadata": {
  "kernelspec": {
   "display_name": "Python 3 (ipykernel)",
   "language": "python",
   "name": "python3"
  },
  "language_info": {
   "codemirror_mode": {
    "name": "ipython",
    "version": 3
   },
   "file_extension": ".py",
   "mimetype": "text/x-python",
   "name": "python",
   "nbconvert_exporter": "python",
   "pygments_lexer": "ipython3",
   "version": "3.9.13"
  },
  "nbTranslate": {
   "displayLangs": [
    "*"
   ],
   "hotkey": "alt-t",
   "langInMainMenu": true,
   "sourceLang": "en",
   "targetLang": "fr",
   "useGoogleTranslate": true
  },
  "toc": {
   "base_numbering": 1,
   "nav_menu": {},
   "number_sections": true,
   "sideBar": true,
   "skip_h1_title": false,
   "title_cell": "Table of Contents",
   "title_sidebar": "Contents",
   "toc_cell": false,
   "toc_position": {},
   "toc_section_display": true,
   "toc_window_display": false
  }
 },
 "nbformat": 4,
 "nbformat_minor": 5
}
