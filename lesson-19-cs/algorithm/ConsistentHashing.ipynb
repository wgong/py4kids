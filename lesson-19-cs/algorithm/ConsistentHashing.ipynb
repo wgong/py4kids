{
 "cells": [
  {
   "cell_type": "markdown",
   "metadata": {},
   "source": [
    "### [Consistent Hash Rings Explained Simply](https://akshatm.svbtle.com/consistent-hash-rings-theory-and-implementation)\n",
    "\n",
    "https://github.com/AkshatM/ConsistentHashRing"
   ]
  },
  {
   "cell_type": "code",
   "execution_count": 1,
   "metadata": {},
   "outputs": [],
   "source": [
    "import uuid"
   ]
  },
  {
   "cell_type": "code",
   "execution_count": 2,
   "metadata": {},
   "outputs": [],
   "source": [
    "lst_uniq_str = [uuid.uuid4() for _ in range(10)]"
   ]
  },
  {
   "cell_type": "code",
   "execution_count": 3,
   "metadata": {},
   "outputs": [
    {
     "data": {
      "text/plain": [
       "[UUID('d402e38a-9d15-43c8-a5ca-87b498ee7042'),\n",
       " UUID('713781d0-b714-458f-82cc-b6d39c8d33ac'),\n",
       " UUID('537c532b-91f0-47c1-9134-4a3d0bab6cf4'),\n",
       " UUID('e59635c1-fbb5-4a05-a7ee-909aed44c540'),\n",
       " UUID('62eb37c0-40f1-4979-84ba-608029a31819'),\n",
       " UUID('e8e7f202-c2fd-40af-ae13-2c07604eec17'),\n",
       " UUID('b2cd2f34-187d-4e7b-8a18-a94b4e46ea4c'),\n",
       " UUID('a9b5d95d-fe96-4bad-a318-89e1651e2155'),\n",
       " UUID('7362b65d-2b3f-4bba-a6c3-0fded6fe255b'),\n",
       " UUID('4e6c007c-f887-47a6-b0b8-1fd06c6ae39a')]"
      ]
     },
     "execution_count": 3,
     "metadata": {},
     "output_type": "execute_result"
    }
   ],
   "source": [
    "lst_uniq_str"
   ]
  },
  {
   "cell_type": "code",
   "execution_count": 4,
   "metadata": {},
   "outputs": [],
   "source": [
    "lst_uniq_str.sort()  # sort alphanumerically"
   ]
  },
  {
   "cell_type": "code",
   "execution_count": 5,
   "metadata": {},
   "outputs": [
    {
     "data": {
      "text/plain": [
       "[UUID('4e6c007c-f887-47a6-b0b8-1fd06c6ae39a'),\n",
       " UUID('537c532b-91f0-47c1-9134-4a3d0bab6cf4'),\n",
       " UUID('62eb37c0-40f1-4979-84ba-608029a31819'),\n",
       " UUID('713781d0-b714-458f-82cc-b6d39c8d33ac'),\n",
       " UUID('7362b65d-2b3f-4bba-a6c3-0fded6fe255b'),\n",
       " UUID('a9b5d95d-fe96-4bad-a318-89e1651e2155'),\n",
       " UUID('b2cd2f34-187d-4e7b-8a18-a94b4e46ea4c'),\n",
       " UUID('d402e38a-9d15-43c8-a5ca-87b498ee7042'),\n",
       " UUID('e59635c1-fbb5-4a05-a7ee-909aed44c540'),\n",
       " UUID('e8e7f202-c2fd-40af-ae13-2c07604eec17')]"
      ]
     },
     "execution_count": 5,
     "metadata": {},
     "output_type": "execute_result"
    }
   ],
   "source": [
    "lst_uniq_str"
   ]
  },
  {
   "cell_type": "code",
   "execution_count": 6,
   "metadata": {},
   "outputs": [
    {
     "data": {
      "text/plain": [
       "UUID('4e6c007c-f887-47a6-b0b8-1fd06c6ae39a')"
      ]
     },
     "execution_count": 6,
     "metadata": {},
     "output_type": "execute_result"
    }
   ],
   "source": [
    "lst_uniq_str[0]"
   ]
  },
  {
   "cell_type": "code",
   "execution_count": 7,
   "metadata": {},
   "outputs": [
    {
     "data": {
      "text/plain": [
       "295025049589850339"
      ]
     },
     "execution_count": 7,
     "metadata": {},
     "output_type": "execute_result"
    }
   ],
   "source": [
    "# sort by its hash\n",
    "h = hash(lst_uniq_str[0])\n",
    "h"
   ]
  },
  {
   "cell_type": "code",
   "execution_count": 8,
   "metadata": {},
   "outputs": [],
   "source": [
    "lst_uniq_str_sorted = lst_uniq_str.copy()"
   ]
  },
  {
   "cell_type": "code",
   "execution_count": 9,
   "metadata": {},
   "outputs": [
    {
     "data": {
      "text/plain": [
       "[UUID('4e6c007c-f887-47a6-b0b8-1fd06c6ae39a'),\n",
       " UUID('537c532b-91f0-47c1-9134-4a3d0bab6cf4'),\n",
       " UUID('62eb37c0-40f1-4979-84ba-608029a31819'),\n",
       " UUID('713781d0-b714-458f-82cc-b6d39c8d33ac'),\n",
       " UUID('7362b65d-2b3f-4bba-a6c3-0fded6fe255b'),\n",
       " UUID('a9b5d95d-fe96-4bad-a318-89e1651e2155'),\n",
       " UUID('b2cd2f34-187d-4e7b-8a18-a94b4e46ea4c'),\n",
       " UUID('d402e38a-9d15-43c8-a5ca-87b498ee7042'),\n",
       " UUID('e59635c1-fbb5-4a05-a7ee-909aed44c540'),\n",
       " UUID('e8e7f202-c2fd-40af-ae13-2c07604eec17')]"
      ]
     },
     "execution_count": 9,
     "metadata": {},
     "output_type": "execute_result"
    }
   ],
   "source": [
    "lst_uniq_str_sorted"
   ]
  },
  {
   "cell_type": "code",
   "execution_count": 10,
   "metadata": {},
   "outputs": [],
   "source": [
    "lst_uniq_str_sorted.sort(key = lambda s: hash(s))"
   ]
  },
  {
   "cell_type": "code",
   "execution_count": 11,
   "metadata": {},
   "outputs": [
    {
     "data": {
      "text/plain": [
       "[UUID('b2cd2f34-187d-4e7b-8a18-a94b4e46ea4c'),\n",
       " UUID('7362b65d-2b3f-4bba-a6c3-0fded6fe255b'),\n",
       " UUID('4e6c007c-f887-47a6-b0b8-1fd06c6ae39a'),\n",
       " UUID('d402e38a-9d15-43c8-a5ca-87b498ee7042'),\n",
       " UUID('713781d0-b714-458f-82cc-b6d39c8d33ac'),\n",
       " UUID('537c532b-91f0-47c1-9134-4a3d0bab6cf4'),\n",
       " UUID('a9b5d95d-fe96-4bad-a318-89e1651e2155'),\n",
       " UUID('e59635c1-fbb5-4a05-a7ee-909aed44c540'),\n",
       " UUID('e8e7f202-c2fd-40af-ae13-2c07604eec17'),\n",
       " UUID('62eb37c0-40f1-4979-84ba-608029a31819')]"
      ]
     },
     "execution_count": 11,
     "metadata": {},
     "output_type": "execute_result"
    }
   ],
   "source": [
    "lst_uniq_str_sorted"
   ]
  },
  {
   "cell_type": "markdown",
   "metadata": {},
   "source": [
    "http://www.grantjenks.com/docs/sortedcontainers/sorteddict.html"
   ]
  },
  {
   "cell_type": "code",
   "execution_count": 12,
   "metadata": {},
   "outputs": [],
   "source": [
    "map_uniq_str = {}\n",
    "for k in lst_uniq_str_sorted:\n",
    "    map_uniq_str[k] = hash(k)"
   ]
  },
  {
   "cell_type": "code",
   "execution_count": 13,
   "metadata": {},
   "outputs": [
    {
     "data": {
      "text/plain": [
       "{UUID('b2cd2f34-187d-4e7b-8a18-a94b4e46ea4c'): 36630144285236821,\n",
       " UUID('7362b65d-2b3f-4bba-a6c3-0fded6fe255b'): 133070354078270285,\n",
       " UUID('4e6c007c-f887-47a6-b0b8-1fd06c6ae39a'): 295025049589850339,\n",
       " UUID('d402e38a-9d15-43c8-a5ca-87b498ee7042'): 423800200685457084,\n",
       " UUID('713781d0-b714-458f-82cc-b6d39c8d33ac'): 903188712759713860,\n",
       " UUID('537c532b-91f0-47c1-9134-4a3d0bab6cf4'): 943191420853660437,\n",
       " UUID('a9b5d95d-fe96-4bad-a318-89e1651e2155'): 1209028283104001772,\n",
       " UUID('e59635c1-fbb5-4a05-a7ee-909aed44c540'): 1486256780302292390,\n",
       " UUID('e8e7f202-c2fd-40af-ae13-2c07604eec17'): 1536497257643831758,\n",
       " UUID('62eb37c0-40f1-4979-84ba-608029a31819'): 2023275677115835389}"
      ]
     },
     "execution_count": 13,
     "metadata": {},
     "output_type": "execute_result"
    }
   ],
   "source": [
    "map_uniq_str"
   ]
  },
  {
   "cell_type": "code",
   "execution_count": null,
   "metadata": {},
   "outputs": [],
   "source": []
  }
 ],
 "metadata": {
  "kernelspec": {
   "display_name": "Python 3",
   "language": "python",
   "name": "python3"
  },
  "language_info": {
   "codemirror_mode": {
    "name": "ipython",
    "version": 3
   },
   "file_extension": ".py",
   "mimetype": "text/x-python",
   "name": "python",
   "nbconvert_exporter": "python",
   "pygments_lexer": "ipython3",
   "version": "3.6.5"
  }
 },
 "nbformat": 4,
 "nbformat_minor": 2
}
