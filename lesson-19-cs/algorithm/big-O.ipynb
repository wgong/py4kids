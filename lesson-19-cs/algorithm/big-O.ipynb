{
 "cells": [
  {
   "cell_type": "markdown",
   "id": "db67e5ed",
   "metadata": {},
   "source": [
    "- [Big-O: Orders of common functions](https://www.wikiwand.com/en/articles/Big_O_notation#Orders_of_common_functions)\n",
    "\n",
    "\n",
    "![graph-of-time-complexity-functions](https://upload.wikimedia.org/wikipedia/commons/thumb/7/7e/Comparison_computational_complexity.svg/480px-Comparison_computational_complexity.svg.png)"
   ]
  },
  {
   "cell_type": "markdown",
   "id": "ffbba459",
   "metadata": {},
   "source": [
    "|  Big-O | Name  | Example Algorithm |\n",
    "|--------|-------|-------------------|\n",
    "| O(1)   | constant | dict lookup |\n",
    "| O(log N)   | logarithmic | binary search |\n",
    "| O(N log N)   | N logarithmic | quick sort, merge sort |\n",
    "| O(N)   | linear | single-loop iteration |\n",
    "| O(N^2)   | quadratc | nested-loops, insertion sort |\n",
    "| O(2^N)   | exponential |Fibonacci Sequence (recursive), Finding all subsets of a set |\n",
    "| O(n!)   | factorial | travelling salesman |\n"
   ]
  },
  {
   "cell_type": "markdown",
   "id": "09bf6029-619c-4aed-92cc-64ec79311867",
   "metadata": {},
   "source": [
    "- sort.ipynb\n",
    "- timsort.ipynb\n",
    "- search.ipynb\n",
    "- Travel-salesman.ipynb\n",
    "- fibonacci.ipynb"
   ]
  },
  {
   "cell_type": "code",
   "execution_count": 35,
   "id": "c166565a-7341-4e7d-9ee9-c91334a43aef",
   "metadata": {},
   "outputs": [],
   "source": [
    "# time: O(N^2)\n",
    "def insertion_sort(collection):\n",
    "    \"\"\"Pure implementation of the insertion sort algorithm in Python\n",
    "\n",
    "    :param collection: some mutable ordered collection with heterogeneous\n",
    "    comparable items inside\n",
    "    :return: the same collection ordered by ascending\n",
    "\n",
    "    Examples:\n",
    "    >>> insertion_sort([0, 5, 3, 2, 2])\n",
    "    [0, 2, 2, 3, 5]\n",
    "\n",
    "    >>> insertion_sort([])\n",
    "    []\n",
    "\n",
    "    >>> insertion_sort([-2, -5, -45])\n",
    "    [-45, -5, -2]\n",
    "    \"\"\"\n",
    "    for index in range(1, len(collection)):\n",
    "        while index > 0 and collection[index - 1] > collection[index]:\n",
    "            collection[index], collection[index - 1] = collection[index - 1], collection[index]\n",
    "            index -= 1\n",
    "\n",
    "    return collection"
   ]
  },
  {
   "cell_type": "code",
   "execution_count": 34,
   "id": "0e5ecea4-48ca-4764-a502-7b5d1bf5eaa6",
   "metadata": {},
   "outputs": [],
   "source": [
    "# time: O(N log N)\n",
    "def quick_sort(ARRAY):\n",
    "    \"\"\"Pure implementation of quick sort algorithm in Python\n",
    "\n",
    "    :param collection: some mutable ordered collection with heterogeneous\n",
    "    comparable items inside\n",
    "    :return: the same collection ordered by ascending\n",
    "\n",
    "    Examples:\n",
    "    >>> quick_sort([0, 5, 3, 2, 2])\n",
    "    [0, 2, 2, 3, 5]\n",
    "\n",
    "    >>> quick_sort([])\n",
    "    []\n",
    "\n",
    "    >>> quick_sort([-2, -5, -45])\n",
    "    [-45, -5, -2]\n",
    "    \"\"\"\n",
    "    if ARRAY is None or len(ARRAY) <= 1:\n",
    "        return ARRAY\n",
    "\n",
    "    PIVOT = ARRAY[0]\n",
    "    GREATER = [ element for element in ARRAY[1:] if element > PIVOT ]\n",
    "    LESSER = [ element for element in ARRAY[1:] if element <= PIVOT ]\n",
    "    return \\\n",
    "        quick_sort(LESSER)\\\n",
    "        + [PIVOT]\\\n",
    "        + quick_sort(GREATER)"
   ]
  },
  {
   "cell_type": "code",
   "execution_count": 3,
   "id": "b1bedb97-1e26-48a4-b539-b36318de79cc",
   "metadata": {},
   "outputs": [],
   "source": [
    "def binary_search(sorted_collection, item):\n",
    "    \"\"\"Pure implementation of binary search algorithm in Python\n",
    "\n",
    "    Be careful collection must be sorted, otherwise result will be\n",
    "    unpredictable\n",
    "\n",
    "    :param sorted_collection: some sorted collection with comparable items\n",
    "    :param item: item value to search\n",
    "    :return: index of found item or None if item is not found\n",
    "\n",
    "    Examples:\n",
    "    >>> binary_search(lst, 0)\n",
    "    0\n",
    "\n",
    "    >>> binary_search(lst, 15)\n",
    "    4\n",
    "\n",
    "    >>> binary_search([0, 5, 7, 10, 15], 5)\n",
    "    1\n",
    "\n",
    "    >>> binary_search([0, 5, 7, 10, 15], 6)\n",
    "\n",
    "    \"\"\"\n",
    "    left, right = 0, len(sorted_collection) - 1\n",
    "    while left <= right:\n",
    "        mid_point = (left + right) // 2\n",
    "        mid_item = sorted_collection[mid_point]\n",
    "        if item == mid_item:\n",
    "            return mid_point\n",
    "        elif item < mid_item:\n",
    "            right = mid_point - 1\n",
    "        else:\n",
    "            left = mid_point + 1\n",
    "    return None"
   ]
  },
  {
   "cell_type": "code",
   "execution_count": 33,
   "id": "efad30dc-688b-423d-88c5-581cf32fb95a",
   "metadata": {},
   "outputs": [],
   "source": [
    "# time: O(log N)\n",
    "def binary_search_recursive(sorted_collection, item, left, right):\n",
    "\n",
    "    \"\"\"Pure implementation of binary search algorithm in Python by recursion\n",
    "\n",
    "    Be careful collection must be sorted, otherwise result will be\n",
    "    unpredictable\n",
    "    First recursion should be started with left=0 and right=(len(sorted_collection)-1)\n",
    "\n",
    "    :param sorted_collection: some sorted collection with comparable items\n",
    "    :param item: item value to search\n",
    "    :return: index of found item or None if item is not found\n",
    "\n",
    "    Examples:\n",
    "    >>> binary_search_recursive([0, 5, 7, 10, 15], 0)\n",
    "    0\n",
    "\n",
    "    >>> binary_search_recursive([0, 5, 7, 10, 15], 15)\n",
    "    4\n",
    "\n",
    "    >>> binary_search_recursive([0, 5, 7, 10, 15], 5)\n",
    "    1\n",
    "\n",
    "    >>> binary_search_recursive([0, 5, 7, 10, 15], 6)\n",
    "\n",
    "    \"\"\"\n",
    "    if (left > right):\n",
    "        return None\n",
    "\n",
    "    mid_point = (left + right) // 2\n",
    "    mid_item = sorted_collection[mid_point]\n",
    "    if item == mid_item:\n",
    "        # found\n",
    "        return mid_point\n",
    "    elif item < mid_item:\n",
    "        # search left\n",
    "        return binary_search_recursive(sorted_collection, item, left, (mid_point-1))\n",
    "    else:\n",
    "        # search right\n",
    "        return binary_search_recursive(sorted_collection, item, (mid_point+1), right)"
   ]
  },
  {
   "cell_type": "code",
   "execution_count": 32,
   "id": "b28439d2-e4ef-46cf-9cab-28565d05677e",
   "metadata": {},
   "outputs": [],
   "source": [
    "# time: O(1)\n",
    "# space: O(N)\n",
    "def hash_search(array, item):\n",
    "    if array is None or len(array) < 1: return None\n",
    "    m = {val : n for n, val in enumerate(array)}\n",
    "    return m[item] if item in m else None"
   ]
  },
  {
   "cell_type": "code",
   "execution_count": 23,
   "id": "a5d41e69-41d8-46e3-bdf5-aff4eaebf85d",
   "metadata": {},
   "outputs": [],
   "source": [
    "lst = [-1, 5, -2, 2] # [] # None  # "
   ]
  },
  {
   "cell_type": "code",
   "execution_count": 24,
   "id": "a3e0b8eb-ea77-4e8a-a53a-252df682a46a",
   "metadata": {},
   "outputs": [
    {
     "data": {
      "text/plain": [
       "3"
      ]
     },
     "execution_count": 24,
     "metadata": {},
     "output_type": "execute_result"
    }
   ],
   "source": [
    "hash_search(lst, 2)"
   ]
  },
  {
   "cell_type": "code",
   "execution_count": 25,
   "id": "fd1a6c2d-c762-4a62-8b24-dda8589244da",
   "metadata": {},
   "outputs": [
    {
     "data": {
      "text/plain": [
       "2"
      ]
     },
     "execution_count": 25,
     "metadata": {},
     "output_type": "execute_result"
    }
   ],
   "source": [
    "binary_search(sorted(lst), 2)"
   ]
  },
  {
   "cell_type": "code",
   "execution_count": 31,
   "id": "b54382a0-ad38-4bd7-b795-da1e0dce3121",
   "metadata": {},
   "outputs": [],
   "source": [
    "# time: O(2^N)\n",
    "def fib(n):\n",
    "    if n < 2: return 1\n",
    "    return fib(n-1) + fib(n-2)"
   ]
  },
  {
   "cell_type": "code",
   "execution_count": 28,
   "id": "90a31aee-eb92-4246-9a49-1fd6d6d2e747",
   "metadata": {},
   "outputs": [
    {
     "data": {
      "text/plain": [
       "[1, 1, 2, 3, 5, 8, 13, 21, 34, 55]"
      ]
     },
     "execution_count": 28,
     "metadata": {},
     "output_type": "execute_result"
    }
   ],
   "source": [
    "[fib(n) for n in range(10)]"
   ]
  },
  {
   "cell_type": "code",
   "execution_count": null,
   "id": "2a40a0fd-68e5-4970-b98e-bd39aa1e4520",
   "metadata": {},
   "outputs": [],
   "source": []
  }
 ],
 "metadata": {
  "kernelspec": {
   "display_name": "Python 3 (ipykernel)",
   "language": "python",
   "name": "python3"
  },
  "language_info": {
   "codemirror_mode": {
    "name": "ipython",
    "version": 3
   },
   "file_extension": ".py",
   "mimetype": "text/x-python",
   "name": "python",
   "nbconvert_exporter": "python",
   "pygments_lexer": "ipython3",
   "version": "3.12.5"
  }
 },
 "nbformat": 4,
 "nbformat_minor": 5
}
