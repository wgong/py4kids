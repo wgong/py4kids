{
 "cells": [
  {
   "cell_type": "markdown",
   "metadata": {},
   "source": [
    "https://www.geeksforgeeks.org/detect-cycle-in-a-graph/"
   ]
  },
  {
   "cell_type": "code",
   "execution_count": 1,
   "metadata": {},
   "outputs": [],
   "source": [
    "# Python program to detect cycle \n",
    "# in a graph \n",
    "\n",
    "from collections import defaultdict \n",
    "\n",
    "class Graph(): \n",
    "\tdef __init__(self,vertices): \n",
    "\t\tself.graph = defaultdict(list) \n",
    "\t\tself.V = vertices \n",
    "\n",
    "\tdef addEdge(self,u,v): \n",
    "\t\tself.graph[u].append(v) \n",
    "\n",
    "\tdef isCyclicUtil(self, v, visited, recStack): \n",
    "\n",
    "\t\t# Mark current node as visited and \n",
    "\t\t# adds to recursion stack \n",
    "\t\tvisited[v] = True\n",
    "\t\trecStack[v] = True\n",
    "\n",
    "\t\t# Recur for all neighbours \n",
    "\t\t# if any neighbour is visited and in \n",
    "\t\t# recStack then graph is cyclic \n",
    "\t\tfor neighbour in self.graph[v]: \n",
    "\t\t\tif visited[neighbour] == False: \n",
    "\t\t\t\tif self.isCyclicUtil(neighbour, visited, recStack) == True: \n",
    "\t\t\t\t\treturn True\n",
    "\t\t\telif recStack[neighbour] == True: \n",
    "\t\t\t\treturn True\n",
    "\n",
    "\t\t# The node needs to be poped from \n",
    "\t\t# recursion stack before function ends \n",
    "\t\trecStack[v] = False\n",
    "\t\treturn False\n",
    "\n",
    "\t# Returns true if graph is cyclic else false \n",
    "\tdef isCyclic(self): \n",
    "\t\tvisited = [False] * self.V \n",
    "\t\trecStack = [False] * self.V \n",
    "\t\tfor node in range(self.V): \n",
    "\t\t\tif visited[node] == False: \n",
    "\t\t\t\tif self.isCyclicUtil(node,visited,recStack) == True: \n",
    "\t\t\t\t\treturn True\n",
    "\t\treturn False"
   ]
  },
  {
   "cell_type": "code",
   "execution_count": 2,
   "metadata": {},
   "outputs": [
    {
     "name": "stdout",
     "output_type": "stream",
     "text": [
      "Graph has a cycle\n"
     ]
    }
   ],
   "source": [
    "g = Graph(4) \n",
    "g.addEdge(0, 1) \n",
    "g.addEdge(0, 2) \n",
    "g.addEdge(1, 2) \n",
    "g.addEdge(2, 0) \n",
    "g.addEdge(2, 3) \n",
    "g.addEdge(3, 3) \n",
    "if g.isCyclic() == 1: \n",
    "\tprint(\"Graph has a cycle\")\n",
    "else: \n",
    "\tprint(\"Graph has no cycle\")\n",
    "\n",
    "# Thanks to Divyanshu Mehta for contributing this code "
   ]
  },
  {
   "cell_type": "code",
   "execution_count": null,
   "metadata": {},
   "outputs": [],
   "source": []
  }
 ],
 "metadata": {
  "kernelspec": {
   "display_name": "Python 3",
   "language": "python",
   "name": "python3"
  },
  "language_info": {
   "codemirror_mode": {
    "name": "ipython",
    "version": 3
   },
   "file_extension": ".py",
   "mimetype": "text/x-python",
   "name": "python",
   "nbconvert_exporter": "python",
   "pygments_lexer": "ipython3",
   "version": "3.6.5"
  }
 },
 "nbformat": 4,
 "nbformat_minor": 2
}
