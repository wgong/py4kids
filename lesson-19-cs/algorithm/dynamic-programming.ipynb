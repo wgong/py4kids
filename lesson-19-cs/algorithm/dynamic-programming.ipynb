{
 "cells": [
  {
   "cell_type": "markdown",
   "metadata": {},
   "source": [
    "https://www.hackerearth.com/practice/algorithms/dynamic-programming/introduction-to-dynamic-programming-1/tutorial/"
   ]
  },
  {
   "cell_type": "markdown",
   "metadata": {},
   "source": [
    "### recursion vs dynamic programming\n",
    "\n",
    "Taking an example of Fibonacci numbers.\n",
    "\n",
    "```\n",
    "Fibonacci (n) = 1; if n = 0\n",
    "Fibonacci (n) = 1; if n = 1\n",
    "Fibonacci (n) = Fibonacci(n-1) + Fibonacci(n-2)\n",
    "```\n",
    "So, the first few numbers in this series will be: 1, 1, 2, 3, 5, 8, 13, 21... and so on!"
   ]
  },
  {
   "cell_type": "code",
   "execution_count": 13,
   "metadata": {},
   "outputs": [],
   "source": [
    "def fib(n):\n",
    "    if n < 2: return 1\n",
    "    return fib(n-1) + fib(n-2)"
   ]
  },
  {
   "cell_type": "code",
   "execution_count": 14,
   "metadata": {},
   "outputs": [],
   "source": [
    "def fib_dp(n):\n",
    "    seq = {0:1, 1:1}\n",
    "    for i in range(2, n+1):\n",
    "        seq[i] = seq[i-1] + seq[i-2]\n",
    "    return seq"
   ]
  },
  {
   "cell_type": "code",
   "execution_count": 35,
   "metadata": {},
   "outputs": [
    {
     "name": "stdout",
     "output_type": "stream",
     "text": [
      "{0: 1, 1: 1, 2: 2, 3: 3, 4: 5, 5: 8, 6: 13, 7: 21, 8: 34, 9: 55, 10: 89}\n"
     ]
    }
   ],
   "source": [
    "print(fib_dp(10))"
   ]
  },
  {
   "cell_type": "code",
   "execution_count": 36,
   "metadata": {},
   "outputs": [],
   "source": [
    "def fib_dp2(n):\n",
    "    if n < 1: return 0\n",
    "    a, b = 0, 1\n",
    "    fib_nums = [a,b]\n",
    "    for i in range(2, n+1, 1):\n",
    "        a, b = b, a+b\n",
    "        fib_nums.append(b)\n",
    "\n",
    "    fib_nums.append(a+b)\n",
    "    return fib_nums"
   ]
  },
  {
   "cell_type": "code",
   "execution_count": 37,
   "metadata": {},
   "outputs": [
    {
     "name": "stdout",
     "output_type": "stream",
     "text": [
      "[0, 1, 1, 2, 3, 5, 8, 13, 21, 34, 55, 89]\n"
     ]
    }
   ],
   "source": [
    "print(fib_dp2(10))"
   ]
  },
  {
   "cell_type": "markdown",
   "metadata": {},
   "source": [
    "#### [fast fib](https://github.com/TheAlgorithms/Python/blob/master/dynamic_programming/fastfibonacci.py)"
   ]
  },
  {
   "cell_type": "code",
   "execution_count": 17,
   "metadata": {},
   "outputs": [],
   "source": [
    "# returns F(n)\n",
    "def fib_fast(n: int):  # noqa: E999 This syntax is Python 3 only\n",
    "    if n < 0:\n",
    "        raise ValueError(\"Negative arguments are not supported\")\n",
    "    return _fib(n)[0]\n",
    "\n",
    "\n",
    "# returns (F(n), F(n-1))\n",
    "def _fib(n: int):  # noqa: E999 This syntax is Python 3 only\n",
    "    if n < 2:\n",
    "        # (F(0), F(1))\n",
    "        return (1, 1)\n",
    "    else:\n",
    "        # F(2n) = F(n)[2F(n+1) − F(n)]\n",
    "        # F(2n+1) = F(n+1)^2+F(n)^2\n",
    "        a, b = _fib(n // 2)\n",
    "        c = a * (b * 2 - a)\n",
    "        d = a * a + b * b\n",
    "        if n % 2 == 0:\n",
    "            return (c, d)\n",
    "        else:\n",
    "            return (d, c + d)"
   ]
  },
  {
   "cell_type": "code",
   "execution_count": 18,
   "metadata": {},
   "outputs": [
    {
     "name": "stdout",
     "output_type": "stream",
     "text": [
      "fib[0]\t1\n",
      "fib[1]\t1\n",
      "fib[2]\t2\n",
      "fib[3]\t3\n",
      "fib[4]\t5\n",
      "fib[5]\t8\n",
      "fib[6]\t13\n",
      "fib[7]\t21\n",
      "fib[8]\t34\n",
      "fib[9]\t55\n"
     ]
    }
   ],
   "source": [
    "for i in range(12):\n",
    "    i -= 1\n",
    "    if i > 0:\n",
    "        print(f\"fib[{i-1}]\\t{fib_fast(i)}\")"
   ]
  },
  {
   "cell_type": "code",
   "execution_count": 19,
   "metadata": {},
   "outputs": [
    {
     "name": "stdout",
     "output_type": "stream",
     "text": [
      "fib[0]\t1\n",
      "fib[1]\t1\n",
      "fib[2]\t2\n",
      "fib[3]\t3\n",
      "fib[4]\t5\n",
      "fib[5]\t8\n",
      "fib[6]\t13\n",
      "fib[7]\t21\n",
      "fib[8]\t34\n",
      "fib[9]\t55\n"
     ]
    }
   ],
   "source": [
    "for i in range(10):\n",
    "    print(f\"fib[{i}]\\t{fib(i)}\")"
   ]
  },
  {
   "cell_type": "code",
   "execution_count": 20,
   "metadata": {},
   "outputs": [
    {
     "name": "stdout",
     "output_type": "stream",
     "text": [
      "fib[0]\t1\n",
      "fib[1]\t1\n",
      "fib[2]\t2\n",
      "fib[3]\t3\n",
      "fib[4]\t5\n",
      "fib[5]\t8\n",
      "fib[6]\t13\n",
      "fib[7]\t21\n",
      "fib[8]\t34\n",
      "fib[9]\t55\n"
     ]
    }
   ],
   "source": [
    "for k,v in fib_dp(9).items():\n",
    "    print(f\"fib[{k}]\\t{v}\")"
   ]
  },
  {
   "cell_type": "code",
   "execution_count": 31,
   "metadata": {},
   "outputs": [],
   "source": [
    "N = 30"
   ]
  },
  {
   "cell_type": "code",
   "execution_count": 38,
   "metadata": {},
   "outputs": [
    {
     "name": "stdout",
     "output_type": "stream",
     "text": [
      "1346269\n",
      "Wall time: 294 ms\n"
     ]
    }
   ],
   "source": [
    "%%time\n",
    "print(fib(N))"
   ]
  },
  {
   "cell_type": "code",
   "execution_count": 39,
   "metadata": {},
   "outputs": [
    {
     "name": "stdout",
     "output_type": "stream",
     "text": [
      "1346269\n",
      "Wall time: 0 ns\n"
     ]
    }
   ],
   "source": [
    "%%time\n",
    "print(fib_dp(N)[N])"
   ]
  },
  {
   "cell_type": "code",
   "execution_count": 41,
   "metadata": {},
   "outputs": [
    {
     "name": "stdout",
     "output_type": "stream",
     "text": [
      "1346269\n",
      "Wall time: 977 µs\n"
     ]
    }
   ],
   "source": [
    "%%time\n",
    "print(fib_dp2(N)[-1])"
   ]
  },
  {
   "cell_type": "code",
   "execution_count": 42,
   "metadata": {},
   "outputs": [
    {
     "name": "stdout",
     "output_type": "stream",
     "text": [
      "1346269\n",
      "Wall time: 0 ns\n"
     ]
    }
   ],
   "source": [
    "%%time\n",
    "print(fib_fast(N+1))"
   ]
  },
  {
   "cell_type": "markdown",
   "metadata": {},
   "source": [
    "In the recursive code, a lot of values are being recalculated multiple times. We could do good with calculating each unique quantity only once"
   ]
  },
  {
   "cell_type": "markdown",
   "metadata": {},
   "source": [
    "Majority of the Dynamic Programming problems can be categorized into two types:\n",
    "\n",
    "1. Optimization problems.\n",
    "2. Combinatorial problems.\n",
    "\n",
    "The optimization problems expect you to select a feasible solution, so that the value of the required function is minimized or maximized. Combinatorial problems expect you to figure out the number of ways to do something, or the probability of some event happening.\n",
    "\n",
    "Every Dynamic Programming problem has a schema to be followed:\n",
    "\n",
    "* Show that the problem can be broken down into optimal sub-problems.\n",
    "* Recursively define the value of the solution by expressing it in terms of optimal solutions for smaller sub-problems.\n",
    "* Compute the value of the optimal solution in bottom-up fashion.\n",
    "* Construct an optimal solution from the computed information."
   ]
  },
  {
   "cell_type": "code",
   "execution_count": null,
   "metadata": {},
   "outputs": [],
   "source": []
  }
 ],
 "metadata": {
  "kernelspec": {
   "display_name": "Python 3",
   "language": "python",
   "name": "python3"
  },
  "language_info": {
   "codemirror_mode": {
    "name": "ipython",
    "version": 3
   },
   "file_extension": ".py",
   "mimetype": "text/x-python",
   "name": "python",
   "nbconvert_exporter": "python",
   "pygments_lexer": "ipython3",
   "version": "3.6.5"
  }
 },
 "nbformat": 4,
 "nbformat_minor": 2
}
