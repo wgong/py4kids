{
 "cells": [
  {
   "cell_type": "markdown",
   "metadata": {},
   "source": [
    "## Functional programming\n",
    "\n",
    "__GITHUB__\n",
    "\n",
    "- [PyFunctional](https://github.com/EntilZha/PyFunctional)\n",
    "- [RxPY](https://github.com/ReactiveX/RxPY)  -- [DOC](https://rxpy.readthedocs.io/en/latest/)\n",
    "\n",
    "\n",
    "__Setup__\n",
    "```\n",
    "$ pip install pyfunctional\n",
    "$ pip install rx\n",
    "```\n",
    "\n",
    "__TUTORIAL__\n",
    "- [Tutorialspoint on RxPY](https://www.tutorialspoint.com/rxpy/rxpy_latest_release_updates.htm)  \n",
    "\n",
    "__BOOK__\n",
    "- [Introduction to ReactiveX and RxPY](https://subscription.packtpub.com/book/application_development/9781789138726/1/ch01lvl1sec11/introduction-to-reactivex-and-rxpy)  \n",
    "\n",
    "__SLIDE__\n",
    "- [reactive-programming-in-python](https://keitheis.github.io/reactive-programming-in-python/) \n",
    "    \n",
    "__PROJECT__\n",
    "- [functional-reactive-programming-in-python - scraping GitHub](https://jakubturek.com/functional-reactive-programming-in-python/)  "
   ]
  },
  {
   "cell_type": "markdown",
   "metadata": {},
   "source": [
    "### PyFunctional\n",
    "\n",
    "The project was created by [Pedro Rodriguez](https://www.pedro.ai/) taking the best ideas from Spark/Scala/LINQ APIs to provide an easy way to manipulate data when using Scala is not an option or PySpark is overkill"
   ]
  },
  {
   "cell_type": "markdown",
   "metadata": {},
   "source": [
    "PyFunctional has three types of functions:\n",
    "\n",
    "- __Streams__: read data for use by the collections API.\n",
    "- __Transformations__: transform data from streams with functions such as map, flat_map, and filter\n",
    "- __Actions__: These cause a series of transformations to lazy-evaluate to a concrete value. to_list, reduce, and to_dict are examples of actions."
   ]
  },
  {
   "cell_type": "code",
   "execution_count": 1,
   "metadata": {},
   "outputs": [],
   "source": [
    "from functional import seq"
   ]
  },
  {
   "cell_type": "markdown",
   "metadata": {},
   "source": [
    "#### Example - map/filter/reduce"
   ]
  },
  {
   "cell_type": "code",
   "execution_count": 2,
   "metadata": {},
   "outputs": [
    {
     "data": {
      "text/plain": [
       "84"
      ]
     },
     "execution_count": 2,
     "metadata": {},
     "output_type": "execute_result"
    }
   ],
   "source": [
    "# or if you don't like backslash continuation\n",
    "# put code inside ( ... )\n",
    "total = (\n",
    "seq(range(10))\n",
    "    .map(lambda x: x * 2)\n",
    "    .filter(lambda x: x > 4)\n",
    "    .reduce(lambda x, y: x + y)\n",
    ")\n",
    "# 84\n",
    "total"
   ]
  },
  {
   "cell_type": "markdown",
   "metadata": {},
   "source": [
    "#### Example - word count"
   ]
  },
  {
   "cell_type": "code",
   "execution_count": 3,
   "metadata": {},
   "outputs": [],
   "source": [
    "words = 'I do not know what I do not know , what do I know here and now ?'"
   ]
  },
  {
   "cell_type": "code",
   "execution_count": 4,
   "metadata": {},
   "outputs": [
    {
     "data": {
      "text/html": [
       "<table>\n",
       "<tbody>\n",
       "<tr><td>I   </td><td style=\"text-align: right;\">3</td></tr>\n",
       "<tr><td>do  </td><td style=\"text-align: right;\">3</td></tr>\n",
       "<tr><td>know</td><td style=\"text-align: right;\">3</td></tr>\n",
       "<tr><td>not </td><td style=\"text-align: right;\">2</td></tr>\n",
       "<tr><td>what</td><td style=\"text-align: right;\">2</td></tr>\n",
       "<tr><td>,   </td><td style=\"text-align: right;\">1</td></tr>\n",
       "<tr><td>here</td><td style=\"text-align: right;\">1</td></tr>\n",
       "<tr><td>and </td><td style=\"text-align: right;\">1</td></tr>\n",
       "<tr><td>now </td><td style=\"text-align: right;\">1</td></tr>\n",
       "<tr><td>?   </td><td style=\"text-align: right;\">1</td></tr>\n",
       "</tbody>\n",
       "</table>"
      ],
      "text/plain": [
       "[('I', 3), ('do', 3), ('know', 3), ('not', 2), ('what', 2), (',', 1), ('here', 1), ('and', 1), ('now', 1), ('?', 1)]"
      ]
     },
     "execution_count": 4,
     "metadata": {},
     "output_type": "execute_result"
    }
   ],
   "source": [
    "(\n",
    "seq(words.split(' '))\n",
    "    .map(lambda word: (word, 1))\n",
    "    .reduce_by_key(lambda x, y: x + y)\n",
    "    .order_by(lambda x: -x[1])\n",
    ")"
   ]
  },
  {
   "cell_type": "code",
   "execution_count": 5,
   "metadata": {},
   "outputs": [
    {
     "data": {
      "text/html": [
       "<table>\n",
       "<tbody>\n",
       "<tr><td style=\"text-align: right;\">3</td><td>[(&#x27;I&#x27;, 3), (&#x27;do&#x27;, 3), (&#x27;know&#x27;, 3)]                       </td></tr>\n",
       "<tr><td style=\"text-align: right;\">2</td><td>[(&#x27;not&#x27;, 2), (&#x27;what&#x27;, 2)]                                </td></tr>\n",
       "<tr><td style=\"text-align: right;\">1</td><td>[(&#x27;,&#x27;, 1), (&#x27;here&#x27;, 1), (&#x27;and&#x27;, 1), (&#x27;now&#x27;, 1), (&#x27;?&#x27;, 1)]</td></tr>\n",
       "</tbody>\n",
       "</table>"
      ],
      "text/plain": [
       "[(3, [('I', 3), ('do', 3), ('know', 3)]), (2, [('not', 2), ('what', 2)]), (1, [(',', 1), ('here', 1), ('and', 1), ('now', 1), ('?', 1)])]"
      ]
     },
     "execution_count": 5,
     "metadata": {},
     "output_type": "execute_result"
    }
   ],
   "source": [
    "(\n",
    "seq(words.split(' '))\n",
    "    .map(lambda word: (word, 1))\n",
    "    .reduce_by_key(lambda x, y: x + y)\n",
    "    .group_by(lambda x: x[1])\n",
    ")"
   ]
  },
  {
   "cell_type": "code",
   "execution_count": 6,
   "metadata": {},
   "outputs": [
    {
     "data": {
      "text/html": [
       "<table>\n",
       "<tbody>\n",
       "<tr><td>I   </td><td style=\"text-align: right;\">1</td></tr>\n",
       "<tr><td>do  </td><td style=\"text-align: right;\">1</td></tr>\n",
       "<tr><td>not </td><td style=\"text-align: right;\">1</td></tr>\n",
       "<tr><td>know</td><td style=\"text-align: right;\">1</td></tr>\n",
       "<tr><td>what</td><td style=\"text-align: right;\">1</td></tr>\n",
       "<tr><td>,   </td><td style=\"text-align: right;\">1</td></tr>\n",
       "<tr><td>here</td><td style=\"text-align: right;\">1</td></tr>\n",
       "<tr><td>and </td><td style=\"text-align: right;\">1</td></tr>\n",
       "<tr><td>now </td><td style=\"text-align: right;\">1</td></tr>\n",
       "<tr><td>?   </td><td style=\"text-align: right;\">1</td></tr>\n",
       "</tbody>\n",
       "</table>"
      ],
      "text/plain": [
       "[('I', 1), ('do', 1), ('not', 1), ('know', 1), ('what', 1), (',', 1), ('here', 1), ('and', 1), ('now', 1), ('?', 1)]"
      ]
     },
     "execution_count": 6,
     "metadata": {},
     "output_type": "execute_result"
    }
   ],
   "source": [
    "(\n",
    "seq(words.split(' '))\n",
    "    .map(lambda word: (word, 1))\n",
    "    .reduce_by_key(lambda x, y: x + y)\n",
    "    .count_by_key()\n",
    ")"
   ]
  },
  {
   "cell_type": "code",
   "execution_count": 7,
   "metadata": {},
   "outputs": [
    {
     "data": {
      "text/html": [
       "<table>\n",
       "<tbody>\n",
       "<tr><td>I   </td><td style=\"text-align: right;\">3</td></tr>\n",
       "<tr><td>do  </td><td style=\"text-align: right;\">3</td></tr>\n",
       "<tr><td>not </td><td style=\"text-align: right;\">2</td></tr>\n",
       "<tr><td>know</td><td style=\"text-align: right;\">3</td></tr>\n",
       "<tr><td>what</td><td style=\"text-align: right;\">2</td></tr>\n",
       "<tr><td>,   </td><td style=\"text-align: right;\">1</td></tr>\n",
       "<tr><td>here</td><td style=\"text-align: right;\">1</td></tr>\n",
       "<tr><td>and </td><td style=\"text-align: right;\">1</td></tr>\n",
       "<tr><td>now </td><td style=\"text-align: right;\">1</td></tr>\n",
       "<tr><td>?   </td><td style=\"text-align: right;\">1</td></tr>\n",
       "</tbody>\n",
       "</table>"
      ],
      "text/plain": [
       "[('I', 3), ('do', 3), ('not', 2), ('know', 3), ('what', 2), (',', 1), ('here', 1), ('and', 1), ('now', 1), ('?', 1)]"
      ]
     },
     "execution_count": 7,
     "metadata": {},
     "output_type": "execute_result"
    }
   ],
   "source": [
    "(\n",
    "seq(words.split(' '))\n",
    "    .count_by_value()\n",
    ")"
   ]
  },
  {
   "cell_type": "markdown",
   "metadata": {},
   "source": [
    "#### Example - set operators, joins"
   ]
  },
  {
   "cell_type": "code",
   "execution_count": 9,
   "metadata": {},
   "outputs": [],
   "source": [
    "sent1 = 'I do not know what I do not know ,'\n",
    "sent2 = 'what do I know here and now ?'"
   ]
  },
  {
   "cell_type": "code",
   "execution_count": 10,
   "metadata": {},
   "outputs": [
    {
     "data": {
      "text/plain": [
       "['I', 'and', '?', 'do', 'now', 'not', 'here', 'what', 'know', ',']"
      ]
     },
     "execution_count": 10,
     "metadata": {},
     "output_type": "execute_result"
    }
   ],
   "source": [
    "(\n",
    "seq(sent1.split(\" \"))\n",
    "    .union(seq(sent2.split(\" \")))\n",
    ")"
   ]
  },
  {
   "cell_type": "code",
   "execution_count": 11,
   "metadata": {},
   "outputs": [
    {
     "data": {
      "text/plain": [
       "['I', 'do', 'know', 'what']"
      ]
     },
     "execution_count": 11,
     "metadata": {},
     "output_type": "execute_result"
    }
   ],
   "source": [
    "(\n",
    "seq(sent1.split(\" \"))\n",
    "    .intersection(seq(sent2.split(\" \")))\n",
    ")"
   ]
  },
  {
   "cell_type": "code",
   "execution_count": 12,
   "metadata": {},
   "outputs": [
    {
     "data": {
      "text/plain": [
       "['not', ',']"
      ]
     },
     "execution_count": 12,
     "metadata": {},
     "output_type": "execute_result"
    }
   ],
   "source": [
    "(\n",
    "seq(sent1.split(\" \"))\n",
    "    .difference(seq(sent2.split(\" \")))\n",
    ")"
   ]
  },
  {
   "cell_type": "code",
   "execution_count": 13,
   "metadata": {},
   "outputs": [],
   "source": [
    "s1 = (\n",
    "seq(sent1.split(' '))\n",
    "    .map(lambda word: (word, 1))\n",
    "    .reduce_by_key(lambda x, y: x + y)\n",
    ")\n",
    "s2 = (\n",
    "seq(sent2.split(' '))\n",
    "    .map(lambda word: (word, 1))\n",
    "    .reduce_by_key(lambda x, y: x + y)\n",
    ")"
   ]
  },
  {
   "cell_type": "code",
   "execution_count": 14,
   "metadata": {},
   "outputs": [
    {
     "data": {
      "text/plain": [
       "([('I', 2), ('do', 2), ('not', 2), ('know', 2), ('what', 1), (',', 1)],\n",
       " [('what', 1), ('do', 1), ('I', 1), ('know', 1), ('here', 1), ('and', 1), ('now', 1), ('?', 1)])"
      ]
     },
     "execution_count": 14,
     "metadata": {},
     "output_type": "execute_result"
    }
   ],
   "source": [
    "s1, s2"
   ]
  },
  {
   "cell_type": "code",
   "execution_count": 16,
   "metadata": {},
   "outputs": [
    {
     "data": {
      "text/html": [
       "<table>\n",
       "<tbody>\n",
       "<tr><td>I   </td><td>(2, 1)</td></tr>\n",
       "<tr><td>do  </td><td>(2, 1)</td></tr>\n",
       "<tr><td>know</td><td>(2, 1)</td></tr>\n",
       "<tr><td>what</td><td>(1, 1)</td></tr>\n",
       "</tbody>\n",
       "</table>"
      ],
      "text/plain": [
       "[('I', (2, 1)), ('do', (2, 1)), ('know', (2, 1)), ('what', (1, 1))]"
      ]
     },
     "execution_count": 16,
     "metadata": {},
     "output_type": "execute_result"
    }
   ],
   "source": [
    "s1.join(s2)  # inner join"
   ]
  },
  {
   "cell_type": "code",
   "execution_count": 17,
   "metadata": {},
   "outputs": [
    {
     "data": {
      "text/html": [
       "<table>\n",
       "<tbody>\n",
       "<tr><td>I   </td><td>(2, 1)   </td></tr>\n",
       "<tr><td>do  </td><td>(2, 1)   </td></tr>\n",
       "<tr><td>not </td><td>(2, None)</td></tr>\n",
       "<tr><td>know</td><td>(2, 1)   </td></tr>\n",
       "<tr><td>what</td><td>(1, 1)   </td></tr>\n",
       "<tr><td>,   </td><td>(1, None)</td></tr>\n",
       "</tbody>\n",
       "</table>"
      ],
      "text/plain": [
       "[('I', (2, 1)), ('do', (2, 1)), ('not', (2, None)), ('know', (2, 1)), ('what', (1, 1)), (',', (1, None))]"
      ]
     },
     "execution_count": 17,
     "metadata": {},
     "output_type": "execute_result"
    }
   ],
   "source": [
    "s1.left_join(s2)"
   ]
  },
  {
   "cell_type": "code",
   "execution_count": 18,
   "metadata": {},
   "outputs": [
    {
     "data": {
      "text/html": [
       "<table>\n",
       "<tbody>\n",
       "<tr><td>what</td><td>(1, 1)   </td></tr>\n",
       "<tr><td>do  </td><td>(2, 1)   </td></tr>\n",
       "<tr><td>I   </td><td>(2, 1)   </td></tr>\n",
       "<tr><td>know</td><td>(2, 1)   </td></tr>\n",
       "<tr><td>here</td><td>(None, 1)</td></tr>\n",
       "<tr><td>and </td><td>(None, 1)</td></tr>\n",
       "<tr><td>now </td><td>(None, 1)</td></tr>\n",
       "<tr><td>?   </td><td>(None, 1)</td></tr>\n",
       "</tbody>\n",
       "</table>"
      ],
      "text/plain": [
       "[('what', (1, 1)), ('do', (2, 1)), ('I', (2, 1)), ('know', (2, 1)), ('here', (None, 1)), ('and', (None, 1)), ('now', (None, 1)), ('?', (None, 1))]"
      ]
     },
     "execution_count": 18,
     "metadata": {},
     "output_type": "execute_result"
    }
   ],
   "source": [
    "s1.right_join(s2)"
   ]
  },
  {
   "cell_type": "code",
   "execution_count": 19,
   "metadata": {},
   "outputs": [
    {
     "data": {
      "text/html": [
       "<table>\n",
       "<tbody>\n",
       "<tr><td>I   </td><td>(2, 1)   </td></tr>\n",
       "<tr><td>do  </td><td>(2, 1)   </td></tr>\n",
       "<tr><td>now </td><td>(None, 1)</td></tr>\n",
       "<tr><td>not </td><td>(2, None)</td></tr>\n",
       "<tr><td>here</td><td>(None, 1)</td></tr>\n",
       "<tr><td>and </td><td>(None, 1)</td></tr>\n",
       "<tr><td>what</td><td>(1, 1)   </td></tr>\n",
       "<tr><td>know</td><td>(2, 1)   </td></tr>\n",
       "<tr><td>,   </td><td>(1, None)</td></tr>\n",
       "<tr><td>?   </td><td>(None, 1)</td></tr>\n",
       "</tbody>\n",
       "</table>"
      ],
      "text/plain": [
       "[('I', (2, 1)), ('do', (2, 1)), ('now', (None, 1)), ('not', (2, None)), ('here', (None, 1)), ('and', (None, 1)), ('what', (1, 1)), ('know', (2, 1)), (',', (1, None)), ('?', (None, 1))]"
      ]
     },
     "execution_count": 19,
     "metadata": {},
     "output_type": "execute_result"
    }
   ],
   "source": [
    "s1.outer_join(s2)"
   ]
  },
  {
   "cell_type": "code",
   "execution_count": 20,
   "metadata": {},
   "outputs": [
    {
     "data": {
      "text/plain": [
       "(6, 6, [',', 1], True)"
      ]
     },
     "execution_count": 20,
     "metadata": {},
     "output_type": "execute_result"
    }
   ],
   "source": [
    "s1.len(), s1.size(), s1.last(), s1.all()"
   ]
  },
  {
   "cell_type": "code",
   "execution_count": 21,
   "metadata": {},
   "outputs": [
    {
     "data": {
      "text/html": [
       "<table>\n",
       "<tbody>\n",
       "<tr><td>I   </td><td>what</td></tr>\n",
       "<tr><td>do  </td><td>do  </td></tr>\n",
       "<tr><td>not </td><td>I   </td></tr>\n",
       "<tr><td>know</td><td>know</td></tr>\n",
       "<tr><td>what</td><td>here</td></tr>\n",
       "<tr><td>I   </td><td>and </td></tr>\n",
       "<tr><td>do  </td><td>now </td></tr>\n",
       "<tr><td>not </td><td>?   </td></tr>\n",
       "</tbody>\n",
       "</table>"
      ],
      "text/plain": [
       "[('I', 'what'), ('do', 'do'), ('not', 'I'), ('know', 'know'), ('what', 'here'), ('I', 'and'), ('do', 'now'), ('not', '?')]"
      ]
     },
     "execution_count": 21,
     "metadata": {},
     "output_type": "execute_result"
    }
   ],
   "source": [
    "(\n",
    "seq(sent1.split(\" \"))\n",
    "    .zip(seq(sent2.split(\" \")))\n",
    ")"
   ]
  },
  {
   "cell_type": "code",
   "execution_count": 22,
   "metadata": {},
   "outputs": [
    {
     "data": {
      "text/plain": [
       "('know', 2)"
      ]
     },
     "execution_count": 22,
     "metadata": {},
     "output_type": "execute_result"
    }
   ],
   "source": [
    "s1.find(lambda x: x[0] == \"know\")"
   ]
  },
  {
   "cell_type": "code",
   "execution_count": 23,
   "metadata": {},
   "outputs": [
    {
     "data": {
      "text/plain": [
       "{'I': 2, 'do': 2, 'not': 2, 'know': 2, 'what': 1, ',': 1}"
      ]
     },
     "execution_count": 23,
     "metadata": {},
     "output_type": "execute_result"
    }
   ],
   "source": [
    "s1.to_dict()"
   ]
  },
  {
   "cell_type": "code",
   "execution_count": 24,
   "metadata": {},
   "outputs": [
    {
     "data": {
      "text/plain": [
       "[('I', 2), ('do', 2), ('not', 2), ('know', 2), ('what', 1), (',', 1)]"
      ]
     },
     "execution_count": 24,
     "metadata": {},
     "output_type": "execute_result"
    }
   ],
   "source": [
    "s1.to_list()"
   ]
  },
  {
   "cell_type": "code",
   "execution_count": 25,
   "metadata": {},
   "outputs": [
    {
     "data": {
      "text/plain": [
       "{(',', 1), ('I', 2), ('do', 2), ('know', 2), ('not', 2), ('what', 1)}"
      ]
     },
     "execution_count": 25,
     "metadata": {},
     "output_type": "execute_result"
    }
   ],
   "source": [
    "s1.to_set()"
   ]
  },
  {
   "cell_type": "code",
   "execution_count": 26,
   "metadata": {},
   "outputs": [],
   "source": [
    "s1.to_json('sent1.json')"
   ]
  },
  {
   "cell_type": "code",
   "execution_count": 27,
   "metadata": {},
   "outputs": [],
   "source": [
    "s1.to_jsonl('sent1-1.json')"
   ]
  },
  {
   "cell_type": "code",
   "execution_count": 28,
   "metadata": {},
   "outputs": [],
   "source": [
    "s1.to_csv('sent1.csv')"
   ]
  },
  {
   "cell_type": "code",
   "execution_count": 29,
   "metadata": {},
   "outputs": [
    {
     "name": "stdout",
     "output_type": "stream",
     "text": [
      "I\n",
      "DO\n",
      "NOT\n",
      "KNOW\n",
      "WHAT\n",
      ",\n"
     ]
    }
   ],
   "source": [
    "s1.for_each(lambda x: print(x[0].upper()))"
   ]
  },
  {
   "cell_type": "markdown",
   "metadata": {},
   "source": [
    "#### Example - flat_map()"
   ]
  },
  {
   "cell_type": "code",
   "execution_count": 30,
   "metadata": {},
   "outputs": [],
   "source": [
    "def int_list(iterable):\n",
    "    return [int(var) for var in iterable]\n",
    "\n",
    "nrow,ncol = 1000, 1000\n",
    "str_lists = [[str(i*ncol+j) for i in range(ncol)] for j in range(nrow)]\n"
   ]
  },
  {
   "cell_type": "code",
   "execution_count": 31,
   "metadata": {},
   "outputs": [
    {
     "name": "stdout",
     "output_type": "stream",
     "text": [
      "CPU times: user 290 ms, sys: 20.1 ms, total: 310 ms\n",
      "Wall time: 309 ms\n"
     ]
    },
    {
     "data": {
      "text/plain": [
       "[0, 1000, 2000, 3000, 4000, 5000, 6000, 7000, 8000, 9000]"
      ]
     },
     "execution_count": 31,
     "metadata": {},
     "output_type": "execute_result"
    }
   ],
   "source": [
    "%%time\n",
    "list2 = seq(str_lists).flat_map(int_list)\n",
    "\n",
    "# \" \".join(list2[:10])\n",
    "list2[:10]"
   ]
  },
  {
   "cell_type": "code",
   "execution_count": 32,
   "metadata": {},
   "outputs": [
    {
     "name": "stdout",
     "output_type": "stream",
     "text": [
      "CPU times: user 505 ms, sys: 16.2 ms, total: 521 ms\n",
      "Wall time: 537 ms\n"
     ]
    },
    {
     "data": {
      "text/plain": [
       "[0, 1000, 2000, 3000, 4000, 5000, 6000, 7000, 8000, 9000]"
      ]
     },
     "execution_count": 32,
     "metadata": {},
     "output_type": "execute_result"
    }
   ],
   "source": [
    "%%time\n",
    "list1 = []\n",
    "for str_list in str_lists:\n",
    "    for var in str_list:\n",
    "        list1.append(int(var))\n",
    "        \n",
    "# \" \".join(list1[:10])\n",
    "list1[:10]"
   ]
  },
  {
   "cell_type": "markdown",
   "metadata": {},
   "source": [
    "#### Example - process records"
   ]
  },
  {
   "cell_type": "code",
   "execution_count": 33,
   "metadata": {},
   "outputs": [],
   "source": [
    "from functional import seq\n",
    "from collections import namedtuple\n",
    "\n",
    "Transaction = namedtuple('Transaction', 'reason amount')\n",
    "transactions = [\n",
    "    Transaction('github', 7),\n",
    "    Transaction('food', 10),\n",
    "    Transaction('coffee', 5),\n",
    "    Transaction('digitalocean', 5),\n",
    "    Transaction('food', 5),\n",
    "    Transaction('riotgames', 25),\n",
    "    Transaction('food', 10),\n",
    "    Transaction('amazon', 200),\n",
    "    Transaction('paycheck', -1000)\n",
    "]"
   ]
  },
  {
   "cell_type": "code",
   "execution_count": 34,
   "metadata": {},
   "outputs": [
    {
     "data": {
      "text/plain": [
       "25"
      ]
     },
     "execution_count": 34,
     "metadata": {},
     "output_type": "execute_result"
    }
   ],
   "source": [
    "# Using the Scala/Spark inspired APIs\n",
    "food_cost = (\n",
    "seq(transactions)\n",
    "    .filter(lambda x: x.reason == 'food')\n",
    "    .map(lambda x: x.amount)\n",
    "    .sum()\n",
    ")\n",
    "food_cost"
   ]
  },
  {
   "cell_type": "code",
   "execution_count": 35,
   "metadata": {},
   "outputs": [
    {
     "data": {
      "text/plain": [
       "25"
      ]
     },
     "execution_count": 35,
     "metadata": {},
     "output_type": "execute_result"
    }
   ],
   "source": [
    "# Using the LINQ inspired APIs\n",
    "food_cost = (\n",
    "seq(transactions)\n",
    "    .where(lambda x: x.reason == 'food')\n",
    "    .select(lambda x: x.amount)\n",
    "    .sum()\n",
    ")\n",
    "food_cost"
   ]
  },
  {
   "cell_type": "markdown",
   "metadata": {},
   "source": [
    "### Rx\n",
    "\n",
    "[ReactiveX](http://reactivex.io), or Rx for short, is an API for programming with observable event streams. [RxPY](https://rxpy.readthedocs.io/en/latest/) is a port of ReactiveX to Python.\n",
    "\n",
    "Rx is about processing streams of events. With Rx you:\n",
    "\n",
    "*  Tell what you want to process (Observable)\n",
    "*  How you want to process it (A composition of operators)\n",
    "*  What you want to do with the result (Observer)\n",
    "\n",
    "the pattern is that you `subscribe` to an `Observable` using an `Observer`:\n",
    "\n",
    "```python\n",
    "subscription = Observable.subscribe(observer)\n",
    "```\n",
    "\n",
    "#### Why Observables\n",
    "Observable model allows you to treat streams of Asynchronous events with the same sort of operations that you use for collections of data items like arrays. It frees you from callbacks, and thereby makes your code more readable and less prone to bugs.\n",
    "\n",
    "#### What is Observables\n",
    "To support receiving events via push, an Observable/Observer pair connect via subscription. The Observable represents the stream of data and can be subscribed to by an Observer."
   ]
  },
  {
   "cell_type": "markdown",
   "metadata": {},
   "source": [
    "#### generate a sequence"
   ]
  },
  {
   "cell_type": "code",
   "execution_count": 36,
   "metadata": {},
   "outputs": [
    {
     "name": "stdout",
     "output_type": "stream",
     "text": [
      "0\n",
      "1\n",
      "2\n",
      "3\n",
      "4\n"
     ]
    }
   ],
   "source": [
    "import rx\n",
    "\n",
    "xs = rx.from_(range(5))\n",
    "d = xs.subscribe(print)"
   ]
  },
  {
   "cell_type": "code",
   "execution_count": 37,
   "metadata": {},
   "outputs": [
    {
     "data": {
      "text/plain": [
       "rx.disposable.disposable.Disposable"
      ]
     },
     "execution_count": 37,
     "metadata": {},
     "output_type": "execute_result"
    }
   ],
   "source": [
    "type(d)"
   ]
  },
  {
   "cell_type": "code",
   "execution_count": 38,
   "metadata": {},
   "outputs": [
    {
     "name": "stdout",
     "output_type": "stream",
     "text": [
      "0\n",
      "2\n",
      "4\n",
      "6\n",
      "8\n"
     ]
    },
    {
     "data": {
      "text/plain": [
       "<rx.disposable.disposable.Disposable at 0x7f843544ecf8>"
      ]
     },
     "execution_count": 38,
     "metadata": {},
     "output_type": "execute_result"
    }
   ],
   "source": [
    "def is_even(x):\n",
    "    if x%2 == 0:\n",
    "        print(x)\n",
    "xs = rx.from_(range(10))\n",
    "xs.subscribe(is_even)"
   ]
  },
  {
   "cell_type": "code",
   "execution_count": 39,
   "metadata": {},
   "outputs": [
    {
     "name": "stdout",
     "output_type": "stream",
     "text": [
      "Got: 0\n",
      "Got: 1\n",
      "Got: 2\n",
      "Got: 3\n",
      "Got: 4\n",
      "Got: 5\n",
      "Got: 6\n",
      "Got: 7\n",
      "Got: 8\n",
      "Got: 9\n",
      "Done!\n"
     ]
    },
    {
     "data": {
      "text/plain": [
       "<rx.disposable.disposable.Disposable at 0x7f843545f080>"
      ]
     },
     "execution_count": 39,
     "metadata": {},
     "output_type": "execute_result"
    }
   ],
   "source": [
    "xs.subscribe(\n",
    "    on_next = lambda x: print(f\"Got: {x}\"),\n",
    "    on_error = lambda e: print(f\"Error Occurred: {e}\"),\n",
    "    on_completed = lambda: print(\"Done!\"),\n",
    ")"
   ]
  },
  {
   "cell_type": "code",
   "execution_count": 40,
   "metadata": {},
   "outputs": [],
   "source": [
    "l = [1, \"a\", 2, \"b\"]"
   ]
  },
  {
   "cell_type": "code",
   "execution_count": 41,
   "metadata": {},
   "outputs": [
    {
     "name": "stdout",
     "output_type": "stream",
     "text": [
      "1 True\n",
      "a False\n",
      "2 True\n",
      "b False\n",
      "\n",
      "Done!\n"
     ]
    }
   ],
   "source": [
    "xs = rx.from_(l)\n",
    "d = xs.subscribe(\n",
    "    on_next = lambda x: print(x, isinstance(x,int)),\n",
    "    on_error = lambda e: print(f\"Error Occurred: {e}\"),\n",
    "    on_completed = lambda: print(\"\\nDone!\"),\n",
    ")"
   ]
  },
  {
   "cell_type": "code",
   "execution_count": 42,
   "metadata": {},
   "outputs": [
    {
     "name": "stdout",
     "output_type": "stream",
     "text": [
      "Received ('Alpha', 5)\n",
      "Received ('Gamma', 5)\n",
      "Received ('Delta', 5)\n",
      "Received ('Epsilon', 7)\n"
     ]
    },
    {
     "data": {
      "text/plain": [
       "<rx.disposable.disposable.Disposable at 0x7f843541a3c8>"
      ]
     },
     "execution_count": 42,
     "metadata": {},
     "output_type": "execute_result"
    }
   ],
   "source": [
    "import rx\n",
    "from rx import operators as ops\n",
    "\n",
    "source = rx.of(\"Alpha\", \"Beta\", \"Gamma\", \"Delta\", \"Epsilon\")\n",
    "\n",
    "composed = source.pipe(\n",
    "    ops.map(lambda s: (s,len(s))),\n",
    "    ops.filter(lambda i: i[1] >= 5)\n",
    ")\n",
    "composed.subscribe(lambda x: print(f\"Received {x}\"))"
   ]
  },
  {
   "cell_type": "code",
   "execution_count": 43,
   "metadata": {},
   "outputs": [
    {
     "name": "stdout",
     "output_type": "stream",
     "text": [
      "(0, 0)\n",
      "(1, 1)\n",
      "(2, 4)\n",
      "(3, 9)\n",
      "(5, 25)\n",
      "(4, 16)\n",
      "(6, 36)\n",
      "(7, 49)\n",
      "(8, 64)\n",
      "(9, 81)\n"
     ]
    }
   ],
   "source": [
    "import time\n",
    "import concurrent.futures\n",
    "import rx\n",
    "from rx import operators as ops\n",
    "\n",
    "num_stream = list(range(10))\n",
    "\n",
    "def work_slowly(data):\n",
    "    time.sleep(int(data/2))\n",
    "    return (data, data * data)\n",
    "\n",
    "with concurrent.futures.ProcessPoolExecutor(5) as worker:\n",
    "    rx.from_(num_stream).pipe(\n",
    "        ops.flat_map(\n",
    "            lambda num: worker.submit(work_slowly, num)),\n",
    "    ).subscribe(print)"
   ]
  },
  {
   "cell_type": "markdown",
   "metadata": {},
   "source": [
    "#### merge streams\n",
    "\n",
    "one way to learn Rx APIs is to peek into the test cases."
   ]
  },
  {
   "cell_type": "code",
   "execution_count": 44,
   "metadata": {},
   "outputs": [
    {
     "name": "stdout",
     "output_type": "stream",
     "text": [
      "3.1.0\n"
     ]
    }
   ],
   "source": [
    "print(rx.__version__)"
   ]
  },
  {
   "cell_type": "code",
   "execution_count": 45,
   "metadata": {},
   "outputs": [],
   "source": [
    "import rx\n",
    "from rx import operators as ops\n",
    "from rx.testing import TestScheduler, ReactiveTest"
   ]
  },
  {
   "cell_type": "code",
   "execution_count": 46,
   "metadata": {},
   "outputs": [],
   "source": [
    "on_next = ReactiveTest.on_next\n",
    "on_completed = ReactiveTest.on_completed\n",
    "on_error = ReactiveTest.on_error\n",
    "subscribe = ReactiveTest.subscribe\n",
    "subscribed = ReactiveTest.subscribed\n",
    "disposed = ReactiveTest.disposed\n",
    "created = ReactiveTest.created"
   ]
  },
  {
   "cell_type": "code",
   "execution_count": 47,
   "metadata": {},
   "outputs": [],
   "source": [
    "scheduler = TestScheduler()\n",
    "msgs1 = [on_next(150, 1), on_next(210, 2), on_next(225, 5), on_next(240, 8), on_completed(245)]\n",
    "msgs2 = [on_next(150, 1), on_next(215, 3), on_next(230, 6), on_next(245, 9), on_completed(250)]\n",
    "msgs3 = [on_next(150, 1), on_next(220, 4), on_next(235, 7), on_completed(240)]\n",
    "o1 = scheduler.create_hot_observable(msgs1)\n",
    "o2 = scheduler.create_hot_observable(msgs2)\n",
    "o3 = scheduler.create_hot_observable(msgs3)\n",
    "\n",
    "def create_ops():\n",
    "    return rx.merge(o1, o2, o3)\n",
    "\n",
    "results = scheduler.start(create_ops).messages"
   ]
  },
  {
   "cell_type": "code",
   "execution_count": 48,
   "metadata": {},
   "outputs": [
    {
     "name": "stdout",
     "output_type": "stream",
     "text": [
      "N 210.0 2\n",
      "N 215.0 3\n",
      "N 220.0 4\n",
      "N 225.0 5\n",
      "N 230.0 6\n",
      "N 235.0 7\n",
      "N 240.0 8\n",
      "N 245.0 9\n",
      "C 250.0 None\n"
     ]
    }
   ],
   "source": [
    "for i, result in enumerate(results):\n",
    "    print(results[i].value.kind, results[i].time, results[i].value.value)"
   ]
  },
  {
   "cell_type": "markdown",
   "metadata": {},
   "source": [
    "#### CPU Concurrency\n",
    "\n",
    "To achieve concurrency, you use two operators: subscribe_on() and observe_on(). Both need a Scheduler which provides a thread for each subscription to do work (see section on Schedulers below). The ThreadPoolScheduler is a good choice to create a pool of reusable worker threads.\n",
    "\n"
   ]
  },
  {
   "cell_type": "code",
   "execution_count": 49,
   "metadata": {},
   "outputs": [
    {
     "data": {
      "text/plain": [
       "<rx.disposable.disposable.Disposable at 0x7f8435328eb8>"
      ]
     },
     "execution_count": 49,
     "metadata": {},
     "output_type": "execute_result"
    },
    {
     "name": "stdout",
     "output_type": "stream",
     "text": [
      "PROCESS 1: ThreadPoolExecutor-0_0 Alpha\n",
      "\t\tPROCESS 3: ThreadPoolExecutor-0_2 100\n",
      "PROCESS 1: ThreadPoolExecutor-0_0 Beta\n",
      "\tPROCESS 2: ThreadPoolExecutor-0_1 1\n",
      "\t\tPROCESS 3: ThreadPoolExecutor-0_3 200\n",
      "PROCESS 1: ThreadPoolExecutor-0_0 Gamma\n",
      "\tPROCESS 2: ThreadPoolExecutor-0_1 2\n",
      "PROCESS 1: ThreadPoolExecutor-0_0 Delta\n",
      "\t\tPROCESS 3: ThreadPoolExecutor-0_3 300\n",
      "PROCESS 1: ThreadPoolExecutor-0_0 Epsilon\n",
      "PROCESS 1 done!\n",
      "\tPROCESS 2: ThreadPoolExecutor-0_1 3\n",
      "\t\tPROCESS 3: ThreadPoolExecutor-0_3 400\n",
      "\t\tPROCESS 3: ThreadPoolExecutor-0_3 500\n",
      "\tPROCESS 2: ThreadPoolExecutor-0_1 4\n",
      "\tPROCESS 2: ThreadPoolExecutor-0_1 5\n",
      "\t\tPROCESS 3: ThreadPoolExecutor-0_3 600\n",
      "\t\tPROCESS 3: ThreadPoolExecutor-0_3 700\n",
      "\t\tPROCESS 3: ThreadPoolExecutor-0_3 800\n",
      "\tPROCESS 2: ThreadPoolExecutor-0_1 6\n",
      "\tPROCESS 2: ThreadPoolExecutor-0_1 7\n",
      "\t\tPROCESS 3: ThreadPoolExecutor-0_3 900\n",
      "\tPROCESS 2: ThreadPoolExecutor-0_1 8\n",
      "\tPROCESS 2: ThreadPoolExecutor-0_1 9\n",
      "\tPROCESS 2 done!\n",
      "\t\tPROCESS 3: ThreadPoolExecutor-0_3 1000\n",
      "\t\tPROCESS 3: ThreadPoolExecutor-0_3 1100\n",
      "\t\tPROCESS 3: ThreadPoolExecutor-0_3 1200\n",
      "\t\tPROCESS 3: ThreadPoolExecutor-0_3 1300\n",
      "\t\tPROCESS 3: ThreadPoolExecutor-0_3 1400\n",
      "\t\tPROCESS 3: ThreadPoolExecutor-0_3 1500\n",
      "\t\tPROCESS 3: ThreadPoolExecutor-0_3 1600\n",
      "\t\tPROCESS 3: ThreadPoolExecutor-0_3 1700\n",
      "\t\tPROCESS 3: ThreadPoolExecutor-0_3 1800\n",
      "\t\tPROCESS 3: ThreadPoolExecutor-0_3 1900\n",
      "\t\tPROCESS 3 done!\n"
     ]
    }
   ],
   "source": [
    "import multiprocessing\n",
    "import random\n",
    "import time\n",
    "from threading import current_thread\n",
    "\n",
    "import rx\n",
    "from rx.scheduler import ThreadPoolScheduler\n",
    "from rx import operators as ops\n",
    "\n",
    "\n",
    "def intense_calculation(value):\n",
    "    # sleep for a random short duration between 0.5 to 2.0 seconds to simulate a long-running calculation\n",
    "    time.sleep(random.randint(5, 20) * 0.1)\n",
    "    return value\n",
    "\n",
    "\n",
    "# calculate number of CPUs, then create a ThreadPoolScheduler with that number of threads\n",
    "optimal_thread_count = multiprocessing.cpu_count()\n",
    "pool_scheduler = ThreadPoolScheduler(optimal_thread_count)\n",
    "\n",
    "# Create Process 1\n",
    "rx.of(\"Alpha\", \"Beta\", \"Gamma\", \"Delta\", \"Epsilon\").pipe(\n",
    "    ops.map(lambda s: intense_calculation(s)), ops.subscribe_on(pool_scheduler)\n",
    ").subscribe(\n",
    "    on_next=lambda s: print(\"PROCESS 1: {0} {1}\".format(current_thread().name, s)),\n",
    "    on_error=lambda e: print(e),\n",
    "    on_completed=lambda: print(\"PROCESS 1 done!\"),\n",
    ")\n",
    "\n",
    "# Create Process 2\n",
    "rx.range(1, 10).pipe(\n",
    "    ops.map(lambda s: intense_calculation(s)), ops.subscribe_on(pool_scheduler)\n",
    ").subscribe(\n",
    "    on_next=lambda i: print(\"\\tPROCESS 2: {0} {1}\".format(current_thread().name, i)),\n",
    "    on_error=lambda e: print(e),\n",
    "    on_completed=lambda: print(\"\\tPROCESS 2 done!\"),\n",
    ")\n",
    "\n",
    "# Create Process 3, which is infinite\n",
    "# rx.interval(1).pipe(\n",
    "rx.range(1, 20).pipe(    \n",
    "    ops.map(lambda i: i * 100),\n",
    "    ops.observe_on(pool_scheduler),\n",
    "    ops.map(lambda s: intense_calculation(s)),\n",
    ").subscribe(\n",
    "    on_next=lambda i: print(\"\\t\\tPROCESS 3: {0} {1}\".format(current_thread().name, i)),\n",
    "    on_error=lambda e: print(e),\n",
    "    on_completed=lambda: print(\"\\t\\tPROCESS 3 done!\"),\n",
    ")\n",
    "\n",
    "# input(\"Press any key to exit\\n\")"
   ]
  },
  {
   "cell_type": "markdown",
   "metadata": {},
   "source": [
    "following examples are taken from [RxPy at TutorialsPoint](https://www.tutorialspoint.com/rxpy/rxpy_examples.htm)"
   ]
  },
  {
   "cell_type": "code",
   "execution_count": 52,
   "metadata": {},
   "outputs": [
    {
     "name": "stdout",
     "output_type": "stream",
     "text": [
      "Got - aws-lambda-developer-guide\n",
      "Got - aws-serverless-workshops\n",
      "\n",
      "Job Done!\n"
     ]
    },
    {
     "data": {
      "text/plain": [
       "<rx.disposable.disposable.Disposable at 0x7f8434a55b70>"
      ]
     },
     "execution_count": 52,
     "metadata": {},
     "output_type": "execute_result"
    }
   ],
   "source": [
    "import requests\n",
    "import rx\n",
    "import json\n",
    "from rx import operators as ops\n",
    "def filternames(x):\n",
    "   if (x[\"name\"].startswith(\"aws\")):\n",
    "      return x[\"name\"]\n",
    "   else :\n",
    "      return \"\"\n",
    "\n",
    "# fetch repo starts with \"aws\"\n",
    "github_url = \"https://api.github.com/users/wgong/repos\"\n",
    "content = requests.get(github_url)\n",
    "y = json.loads(content.text)\n",
    "source = rx.from_(y)\n",
    "case1 = source.pipe(\n",
    "   ops.filter(lambda c: filternames(c)),\n",
    "   ops.map(lambda a: a[\"name\"])\n",
    ")\n",
    "case1.subscribe(\n",
    "   on_next = lambda i: print(\"Got - {0}\".format(i)),\n",
    "   on_error = lambda e: print(\"Error : {0}\".format(e)),\n",
    "   on_completed = lambda: print(\"\\nJob Done!\"),\n",
    ")"
   ]
  },
  {
   "cell_type": "markdown",
   "metadata": {},
   "source": [
    "#### Difference between observable and subject"
   ]
  },
  {
   "cell_type": "code",
   "execution_count": 53,
   "metadata": {},
   "outputs": [
    {
     "name": "stdout",
     "output_type": "stream",
     "text": [
      "From first subscriber\n",
      "From sub1 1.8351182635319636\n",
      "From sub1 2.0938081046555266\n",
      "From sub1 3.9649042587138466\n",
      "From sub1 4.491310300435769\n",
      "From sub1 5.80175770539422\n",
      "From second subscriber\n",
      "From sub2 1.7978921810693764\n",
      "From sub2 2.224069541628566\n",
      "From sub2 3.0965829803317044\n",
      "From sub2 4.426677395554019\n",
      "From sub2 5.632634159736532\n"
     ]
    }
   ],
   "source": [
    "from rx import of, operators as op\n",
    "import random\n",
    "test1 = of(1,2,3,4,5)\n",
    "sub1 = test1.pipe(\n",
    "   op.map(lambda a : a+random.random())\n",
    ")\n",
    "print(\"From first subscriber\")\n",
    "subscriber1 = sub1.subscribe(lambda i: print(\"From sub1 {0}\".format(i)))\n",
    "print(\"From second subscriber\")\n",
    "subscriber2 = sub1.subscribe(lambda i: print(\"From sub2 {0}\".format(i)))"
   ]
  },
  {
   "cell_type": "code",
   "execution_count": 54,
   "metadata": {},
   "outputs": [
    {
     "name": "stdout",
     "output_type": "stream",
     "text": [
      "From sub1 1.1730852728979415\n",
      "From sub2 1.1730852728979415\n",
      "From sub1 2.4501165009972476\n",
      "From sub2 2.4501165009972476\n",
      "From sub1 3.2745541946620613\n",
      "From sub2 3.2745541946620613\n",
      "From sub1 4.523644819624818\n",
      "From sub2 4.523644819624818\n",
      "From sub1 5.234264818789197\n",
      "From sub2 5.234264818789197\n"
     ]
    }
   ],
   "source": [
    "from rx import of, operators as op\n",
    "import random\n",
    "from rx.subject import Subject\n",
    "subject_test = Subject()\n",
    "subject_test.subscribe(\n",
    "   lambda x: print(\"From sub1 {0}\".format(x))\n",
    ")\n",
    "subject_test.subscribe(\n",
    "   lambda x: print(\"From sub2 {0}\".format(x))\n",
    ")\n",
    "test1 = of(1,2,3,4,5)\n",
    "sub1 = test1.pipe(\n",
    "   op.map(lambda a : a+random.random())\n",
    ")\n",
    "subscriber = sub1.subscribe(subject_test)"
   ]
  },
  {
   "cell_type": "markdown",
   "metadata": {},
   "source": [
    "- Cold Observable: every time you subscribe to the observable, it will give you new values.\n",
    "- Hot Observable: values are shared, between both subscribers using the subject."
   ]
  },
  {
   "cell_type": "code",
   "execution_count": null,
   "metadata": {},
   "outputs": [],
   "source": []
  }
 ],
 "metadata": {
  "kernelspec": {
   "display_name": "Python 3",
   "language": "python",
   "name": "python3"
  },
  "language_info": {
   "codemirror_mode": {
    "name": "ipython",
    "version": 3
   },
   "file_extension": ".py",
   "mimetype": "text/x-python",
   "name": "python",
   "nbconvert_exporter": "python",
   "pygments_lexer": "ipython3",
   "version": "3.7.1"
  }
 },
 "nbformat": 4,
 "nbformat_minor": 2
}
