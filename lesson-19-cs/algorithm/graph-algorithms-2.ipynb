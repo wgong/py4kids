{
 "cells": [
  {
   "cell_type": "markdown",
   "metadata": {},
   "source": [
    "https://cran.r-project.org/web/packages/ggdag/vignettes/intro-to-dags.html"
   ]
  },
  {
   "cell_type": "code",
   "execution_count": 54,
   "metadata": {},
   "outputs": [
    {
     "data": {
      "image/png": "[encoded data removed]",
      "text/plain": [
       "<Figure size 432x288 with 1 Axes>"
      ]
     },
     "metadata": {},
     "output_type": "display_data"
    }
   ],
   "source": [
    "import networkx as nx\n",
    "#import matplotlib.pyplot as plt\n",
    "\n",
    "G = {\n",
    "    'S' : ['A', 'B', 'C'],\n",
    "    'A' : ['D', 'S'],\n",
    "    'B' : ['E', 'S'],\n",
    "    'C' : ['F', 'S'],\n",
    "    'D' : ['G', 'A'],\n",
    "    'E' : ['G', 'B'],\n",
    "    'F' : ['G', 'C'],\n",
    "    'G' : ['D', 'E', 'F']\n",
    "}\n",
    "\n",
    "# g = nx.DiGraph(G)\n",
    "g = nx.Graph(G)\n",
    "nx.draw(g,with_labels=True)"
   ]
  },
  {
   "cell_type": "markdown",
   "metadata": {},
   "source": [
    "[DFS](https://github.com/TheAlgorithms/Python/blob/master/Graphs/DFS.py)\n",
    "\n",
    "```\n",
    "DFS(graph G, start vertex s):\n",
    "// all nodes initially unexplored\n",
    "mark s as explored\n",
    "for every edge (s, v):\n",
    "    if v unexplored:\n",
    "        DFS(G, v)\n",
    "```\n",
    "\n",
    "<img src=dfs.png>"
   ]
  },
  {
   "cell_type": "markdown",
   "metadata": {},
   "source": [
    "[BFS](https://github.com/TheAlgorithms/Python/blob/master/Graphs/BFS.py)\n",
    "\n",
    "```\n",
    "BFS(graph G, start vertex s):\n",
    "// all nodes initially unexplored\n",
    "mark s as explored\n",
    "let Q = queue data structure, initialized with s\n",
    "while Q is non-empty:\n",
    "    remove the first node of Q, call it v\n",
    "    for each edge(v, w):  // for w in graph[v]\n",
    "        if w unexplored:\n",
    "            mark w as explored\n",
    "            add w to Q (at the end)\n",
    "```\n",
    "\n",
    "<img src=bfs.png>"
   ]
  },
  {
   "cell_type": "code",
   "execution_count": 55,
   "metadata": {},
   "outputs": [],
   "source": [
    "def dfs(graph, start, target=None):\n",
    "    \"\"\"The DFS function simply calls itself recursively for every unvisited child of its argument. We can emulate that\n",
    "     behaviour precisely using a stack of iterators. Instead of recursively calling with a node, we'll push an iterator\n",
    "      to the node's children onto the iterator stack. When the iterator at the top of the stack terminates, we'll pop\n",
    "       it off the stack.\"\"\"\n",
    "    explored, stack = [], []\n",
    "    explored.append(start)\n",
    "    if target == explored[-1]: return explored\n",
    "    stack.append(start)\n",
    "    while stack:\n",
    "        v = stack.pop()  # the only difference from BFS is to pop last element here instead of first one\n",
    "        if target in explored:\n",
    "            break\n",
    "        for w in graph[v]:\n",
    "            if w not in explored:\n",
    "                explored.append(w)\n",
    "                if target == explored[-1]: return explored\n",
    "                stack.append(w)\n",
    "    return explored\n",
    "\n",
    "def bfs(graph, start, target=None):\n",
    "    explored, queue = [], []\n",
    "    explored.append(start)\n",
    "    if target == explored[-1]: return explored\n",
    "    queue.append(start)\n",
    "    while queue:\n",
    "        v = queue.pop(0)     # FIFO\n",
    "        for w in graph[v]:\n",
    "            if w not in explored:\n",
    "                explored.append(w)\n",
    "                if target == explored[-1]: return explored\n",
    "                queue.append(w)\n",
    "    return explored"
   ]
  },
  {
   "cell_type": "code",
   "execution_count": 56,
   "metadata": {},
   "outputs": [
    {
     "name": "stdout",
     "output_type": "stream",
     "text": [
      "['S', 'A', 'B', 'C', 'F', 'G', 'D', 'E']\n"
     ]
    }
   ],
   "source": [
    "print(dfs(G2, 'S'))"
   ]
  },
  {
   "cell_type": "code",
   "execution_count": 57,
   "metadata": {},
   "outputs": [
    {
     "name": "stdout",
     "output_type": "stream",
     "text": [
      "['S', 'A', 'B', 'C', 'D', 'E', 'F', 'G']\n"
     ]
    }
   ],
   "source": [
    "print(bfs(G2, 'S'))"
   ]
  },
  {
   "cell_type": "code",
   "execution_count": 58,
   "metadata": {},
   "outputs": [
    {
     "name": "stdout",
     "output_type": "stream",
     "text": [
      "['S', 'A', 'B', 'C', 'D', 'E', 'F']\n"
     ]
    }
   ],
   "source": [
    "print(bfs(G2, 'S', 'F'))"
   ]
  },
  {
   "cell_type": "code",
   "execution_count": 59,
   "metadata": {},
   "outputs": [
    {
     "name": "stdout",
     "output_type": "stream",
     "text": [
      "['S', 'A', 'B', 'C', 'F']\n"
     ]
    }
   ],
   "source": [
    "print(dfs(G2, 'S', 'F'))"
   ]
  },
  {
   "cell_type": "code",
   "execution_count": null,
   "metadata": {},
   "outputs": [],
   "source": []
  }
 ],
 "metadata": {
  "kernelspec": {
   "display_name": "Python 3",
   "language": "python",
   "name": "python3"
  },
  "language_info": {
   "codemirror_mode": {
    "name": "ipython",
    "version": 3
   },
   "file_extension": ".py",
   "mimetype": "text/x-python",
   "name": "python",
   "nbconvert_exporter": "python",
   "pygments_lexer": "ipython3",
   "version": "3.6.5"
  }
 },
 "nbformat": 4,
 "nbformat_minor": 2
}
