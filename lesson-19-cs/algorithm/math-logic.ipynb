{
 "cells": [
  {
   "cell_type": "markdown",
   "metadata": {},
   "source": [
    "## Prime Numbers"
   ]
  },
  {
   "cell_type": "code",
   "execution_count": 1,
   "metadata": {},
   "outputs": [],
   "source": [
    "def prime_naive(n):\n",
    "    if n < 2: return False\n",
    "    for i in range(2, n, 1):\n",
    "        if n%i == 0: return False\n",
    "    return True"
   ]
  },
  {
   "cell_type": "code",
   "execution_count": 2,
   "metadata": {},
   "outputs": [],
   "source": [
    "n = 11311111011117"
   ]
  },
  {
   "cell_type": "code",
   "execution_count": 3,
   "metadata": {},
   "outputs": [
    {
     "name": "stdout",
     "output_type": "stream",
     "text": [
      "False\n",
      "Wall time: 0 ns\n"
     ]
    }
   ],
   "source": [
    "%%time\n",
    "print(prime_naive(n))"
   ]
  },
  {
   "cell_type": "code",
   "execution_count": 4,
   "metadata": {},
   "outputs": [],
   "source": [
    "def prime_better(n):\n",
    "    import math\n",
    "    if n < 2: return False\n",
    "    for i in range(2, int(math.sqrt(n)), 1):\n",
    "        if n%i == 0: return False\n",
    "    return True"
   ]
  },
  {
   "cell_type": "code",
   "execution_count": 5,
   "metadata": {},
   "outputs": [
    {
     "name": "stdout",
     "output_type": "stream",
     "text": [
      "False\n",
      "Wall time: 0 ns\n"
     ]
    }
   ],
   "source": [
    "%%time\n",
    "print(prime_better(n))"
   ]
  },
  {
   "cell_type": "code",
   "execution_count": 9,
   "metadata": {},
   "outputs": [
    {
     "name": "stdout",
     "output_type": "stream",
     "text": [
      "Following are the prime numbers smaller than or equal to 30\n",
      "[2, 3, 5, 7, 11, 13, 17, 19, 23, 29]\n"
     ]
    }
   ],
   "source": [
    "# Python program to print all primes smaller than or equal to \n",
    "# n using Sieve of Eratosthenes \n",
    "\n",
    "def SieveOfEratosthenes(n): \n",
    "\n",
    "\t# Create a boolean array \"prime[0..n]\" and initialize \n",
    "\t# all entries it as true. A value in prime[i] will \n",
    "\t# finally be false if i is Not a prime, else true. \n",
    "\tprime = [True for i in range(n+1)] \n",
    "\tp = 2\n",
    "\twhile (p * p <= n): \n",
    "\t\t\n",
    "\t\t# If prime[p] is not changed, then it is a prime \n",
    "\t\tif (prime[p] == True): \n",
    "\t\t\t\n",
    "\t\t\t# Update all multiples of p \n",
    "\t\t\tfor i in range(p * 2, n+1, p): \n",
    "\t\t\t\tprime[i] = False\n",
    "\t\tp += 1\n",
    "\n",
    "\t# Print all prime numbers \n",
    "\tprimes = []\n",
    "\tfor p in range(2, n): \n",
    "\t\tif prime[p]: \n",
    "\t\t\tprimes.append(p) \n",
    "\treturn primes\n",
    "\n",
    "\n",
    "# driver program \n",
    "if __name__== '__main__':\n",
    "    n = 30\n",
    "    print(\"Following are the prime numbers smaller than or equal to\", n)\n",
    "    res = SieveOfEratosthenes(n)\n",
    "    print(res)\n"
   ]
  },
  {
   "cell_type": "code",
   "execution_count": 43,
   "metadata": {},
   "outputs": [
    {
     "name": "stdout",
     "output_type": "stream",
     "text": [
      "[2, 3, 5, 7, 11, 13, 17, 19, 23, 29, 31, 37, 41, 43, 47, 53, 59, 61, 67, 71, 73, 79, 83, 89, 97, 101, 103, 107, 109, 113, 127, 131, 137, 139, 149, 151, 157, 163, 167, 173, 179, 181, 191, 193, 197, 199, 211, 223, 227, 229, 233, 239, 241, 251, 257, 263, 269, 271, 277, 281, 283, 293, 307, 311, 313, 317, 331, 337, 347, 349, 353, 359, 367, 373, 379, 383, 389, 397, 401, 409, 419, 421, 431, 433, 439, 443, 449, 457, 461, 463, 467, 479, 487, 491, 499, 503, 509, 521, 523, 541, 547, 557, 563, 569, 571, 577, 587, 593, 599, 601, 607, 613, 617, 619, 631, 641, 643, 647, 653, 659, 661, 673, 677, 683, 691, 701, 709, 719, 727, 733, 739, 743, 751, 757, 761, 769, 773, 787, 797, 809, 811, 821, 823, 827, 829, 839, 853, 857, 859, 863, 877, 881, 883, 887, 907, 911, 919, 929, 937, 941, 947, 953, 967, 971, 977, 983, 991, 997]\n",
      "Wall time: 0 ns\n"
     ]
    }
   ],
   "source": [
    "%%time\n",
    "print(SieveOfEratosthenes(1000))"
   ]
  },
  {
   "cell_type": "code",
   "execution_count": null,
   "metadata": {},
   "outputs": [],
   "source": []
  }
 ],
 "metadata": {
  "kernelspec": {
   "display_name": "Python 3 (ipykernel)",
   "language": "python",
   "name": "python3"
  },
  "language_info": {
   "codemirror_mode": {
    "name": "ipython",
    "version": 3
   },
   "file_extension": ".py",
   "mimetype": "text/x-python",
   "name": "python",
   "nbconvert_exporter": "python",
   "pygments_lexer": "ipython3",
   "version": "3.9.13"
  }
 },
 "nbformat": 4,
 "nbformat_minor": 4
}
