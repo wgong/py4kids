{
 "cells": [
  {
   "cell_type": "markdown",
   "metadata": {
    "tags": []
   },
   "source": [
    "## Binary Search\n",
    "| Algorithm | Time Complexity | Space Complexity |\n",
    "|-----------|----------------|------------------|\n",
    "| **Binary Search (Iterative)** | Best: O(1)<br>Avg: O(log n)<br>Worst: O(log n) | Best: O(1)<br>Avg: O(1)<br>Worst: O(1) |\n",
    "| **Binary Search (Recursive)** | Best: O(1)<br>Avg: O(log n)<br>Worst: O(log n) | Best: O(1)<br>Avg: O(log n)<br>Worst: O(log n) |\n",
    "| **Quick Sort** | Best: O(n log n)<br>Avg: O(n log n)<br>Worst: O(n²) | Best: O(log n)<br>Avg: O(log n)<br>Worst: O(n) |\n",
    "\n"
   ]
  },
  {
   "cell_type": "code",
   "execution_count": 30,
   "metadata": {},
   "outputs": [],
   "source": [
    "def binary_search(sorted_collection, item):\n",
    "    \"\"\"Pure implementation of binary search algorithm in Python\n",
    "\n",
    "    Be careful collection must be sorted, otherwise result will be\n",
    "    unpredictable\n",
    "\n",
    "    :param sorted_collection: some sorted collection with comparable items\n",
    "    :param item: item value to search\n",
    "    :return: index of found item or None if item is not found\n",
    "\n",
    "    Examples:\n",
    "    >>> binary_search(lst, 0)\n",
    "    0\n",
    "\n",
    "    >>> binary_search(lst, 15)\n",
    "    4\n",
    "\n",
    "    >>> binary_search([0, 5, 7, 10, 15], 5)\n",
    "    1\n",
    "\n",
    "    >>> binary_search([0, 5, 7, 10, 15], 6)\n",
    "\n",
    "    \"\"\"\n",
    "    left, right = 0, len(sorted_collection) - 1\n",
    "    while left <= right:\n",
    "        mid_point = (left + right) // 2\n",
    "        mid_item = sorted_collection[mid_point]\n",
    "        if item == mid_item:\n",
    "            return mid_point\n",
    "        elif item < mid_item:\n",
    "            right = mid_point - 1\n",
    "        else:\n",
    "            left = mid_point + 1\n",
    "    return None"
   ]
  },
  {
   "cell_type": "code",
   "execution_count": 31,
   "metadata": {},
   "outputs": [],
   "source": [
    "def binary_search_recursive(sorted_collection, item, left, right):\n",
    "\n",
    "    \"\"\"Pure implementation of binary search algorithm in Python by recursion\n",
    "\n",
    "    Be careful collection must be sorted, otherwise result will be\n",
    "    unpredictable\n",
    "    First recursion should be started with left=0 and right=(len(sorted_collection)-1)\n",
    "\n",
    "    :param sorted_collection: some sorted collection with comparable items\n",
    "    :param item: item value to search\n",
    "    :return: index of found item or None if item is not found\n",
    "\n",
    "    Examples:\n",
    "    >>> binary_search_recursive([0, 5, 7, 10, 15], 0)\n",
    "    0\n",
    "\n",
    "    >>> binary_search_recursive([0, 5, 7, 10, 15], 15)\n",
    "    4\n",
    "\n",
    "    >>> binary_search_recursive([0, 5, 7, 10, 15], 5)\n",
    "    1\n",
    "\n",
    "    >>> binary_search_recursive([0, 5, 7, 10, 15], 6)\n",
    "\n",
    "    \"\"\"\n",
    "    if (left > right):\n",
    "        return None\n",
    "\n",
    "    mid_point = (left + right) // 2\n",
    "    mid_item = sorted_collection[mid_point]\n",
    "    if item == mid_item:\n",
    "        # found\n",
    "        return mid_point\n",
    "    elif item < mid_item:\n",
    "        # search left\n",
    "        return binary_search_recursive(sorted_collection, item, left, mid_point-1)\n",
    "    else:\n",
    "        # search right\n",
    "        return binary_search_recursive(sorted_collection, item, mid_point+1, right)"
   ]
  },
  {
   "cell_type": "code",
   "execution_count": 32,
   "metadata": {},
   "outputs": [],
   "source": [
    "lst = [0, 5, 7, 10, 15]"
   ]
  },
  {
   "cell_type": "code",
   "execution_count": 33,
   "metadata": {},
   "outputs": [],
   "source": [
    "binary_search(lst, 6)"
   ]
  },
  {
   "cell_type": "code",
   "execution_count": 34,
   "metadata": {},
   "outputs": [
    {
     "data": {
      "text/plain": [
       "4"
      ]
     },
     "execution_count": 34,
     "metadata": {},
     "output_type": "execute_result"
    }
   ],
   "source": [
    "binary_search(lst, 15)"
   ]
  },
  {
   "cell_type": "code",
   "execution_count": 35,
   "metadata": {},
   "outputs": [
    {
     "data": {
      "text/plain": [
       "0"
      ]
     },
     "execution_count": 35,
     "metadata": {},
     "output_type": "execute_result"
    }
   ],
   "source": [
    "binary_search(lst, 0)"
   ]
  },
  {
   "cell_type": "code",
   "execution_count": 36,
   "metadata": {},
   "outputs": [
    {
     "data": {
      "text/plain": [
       "4"
      ]
     },
     "execution_count": 36,
     "metadata": {},
     "output_type": "execute_result"
    }
   ],
   "source": [
    "binary_search_recursive(lst, 15, 0, len(lst))"
   ]
  },
  {
   "cell_type": "code",
   "execution_count": 37,
   "metadata": {},
   "outputs": [],
   "source": [
    "binary_search_recursive(lst, 11, 0, len(lst))"
   ]
  },
  {
   "cell_type": "code",
   "execution_count": null,
   "metadata": {},
   "outputs": [],
   "source": []
  },
  {
   "cell_type": "code",
   "execution_count": null,
   "metadata": {},
   "outputs": [],
   "source": []
  }
 ],
 "metadata": {
  "kernelspec": {
   "display_name": "Python 3 (ipykernel)",
   "language": "python",
   "name": "python3"
  },
  "language_info": {
   "codemirror_mode": {
    "name": "ipython",
    "version": 3
   },
   "file_extension": ".py",
   "mimetype": "text/x-python",
   "name": "python",
   "nbconvert_exporter": "python",
   "pygments_lexer": "ipython3",
   "version": "3.12.5"
  }
 },
 "nbformat": 4,
 "nbformat_minor": 4
}
