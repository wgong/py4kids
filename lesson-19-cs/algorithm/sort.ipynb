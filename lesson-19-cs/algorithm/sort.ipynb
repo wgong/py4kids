{
 "cells": [
  {
   "cell_type": "markdown",
   "metadata": {},
   "source": [
    "## Sorting - Comprehensive Summary Table\n",
    "\n",
    "| Algorithm | Time Complexity | Space Complexity | Stability | In-Place |\n",
    "|-----------|----------------|------------------|-----------|----------|\n",
    "| **Quick Sort** | Best: O(n log n)<br>Avg: O(n log n)<br>Worst: O(n²) | Best: O(log n)<br>Avg: O(log n)<br>Worst: O(n) | ❌ Unstable | ✅ In-Place |\n",
    "| **Insertion Sort** | Best: O(n)<br>Avg: O(n²)<br>Worst: O(n²) | Best: O(1)<br>Avg: O(1)<br>Worst: O(1) | ✅ Stable | ✅ In-Place |\n",
    "| **Merge Sort** | Best: O(n log n)<br>Avg: O(n log n)<br>Worst: O(n log n) | Best: O(n)<br>Avg: O(n)<br>Worst: O(n) | ✅ Stable | ❌ Not In-Place |\n",
    "| **TimSort** | Best: O(n)<br>Avg: O(n log n)<br>Worst: O(n log n) | Best: O(n)<br>Avg: O(n)<br>Worst: O(n) | ✅ Stable | ❌ Not In-Place |\n",
    "| **Bucket Sort** | Best: O(n + k)<br>Avg: O(n + k)<br>Worst: O(n²) | Best: O(n + k)<br>Avg: O(n + k)<br>Worst: O(n²) | ✅ Stable* | ❌ Not In-Place |\n",
    "\n",
    "*Bucket sort stability depends on the sorting algorithm used within buckets"
   ]
  },
  {
   "cell_type": "markdown",
   "metadata": {},
   "source": [
    "### [Insertion Sort](https://www.wikiwand.com/en/articles/Insertion_sort)\n",
    "\n",
    "* Avg: O(n^2)\n",
    "* Best: O(n)\n",
    "* Worst: O(n^2)"
   ]
  },
  {
   "cell_type": "code",
   "execution_count": 1,
   "metadata": {},
   "outputs": [],
   "source": [
    "def insertion_sort(collection):\n",
    "    \"\"\"Pure implementation of the insertion sort algorithm in Python\n",
    "\n",
    "    :param collection: some mutable ordered collection with heterogeneous\n",
    "    comparable items inside\n",
    "    :return: the same collection ordered by ascending\n",
    "\n",
    "    Examples:\n",
    "    >>> insertion_sort([0, 5, 3, 2, 2])\n",
    "    [0, 2, 2, 3, 5]\n",
    "\n",
    "    >>> insertion_sort([])\n",
    "    []\n",
    "\n",
    "    >>> insertion_sort([-2, -5, -45])\n",
    "    [-45, -5, -2]\n",
    "    \"\"\"\n",
    "    for index in range(1, len(collection)):\n",
    "        while index > 0 and collection[index - 1] > collection[index]:\n",
    "            collection[index], collection[index - 1] = collection[index - 1], collection[index]\n",
    "            index -= 1\n",
    "\n",
    "    return collection"
   ]
  },
  {
   "cell_type": "code",
   "execution_count": 2,
   "metadata": {},
   "outputs": [
    {
     "data": {
      "text/plain": [
       "[0, 2, 2, 3, 5]"
      ]
     },
     "execution_count": 2,
     "metadata": {},
     "output_type": "execute_result"
    }
   ],
   "source": [
    "insertion_sort([0, 5, 3, 2, 2])"
   ]
  },
  {
   "cell_type": "markdown",
   "metadata": {},
   "source": [
    "### [quick sort](https://www.wikiwand.com/en/articles/Quicksort)\n",
    "\n",
    "- **Best:** O(n log n) - balanced partitions\n",
    "- **Average:** O(n log n) - reasonably balanced partitions  \n",
    "- **Worst:** O(n²) - highly unbalanced partitions (e.g., already sorted with first element as pivot)"
   ]
  },
  {
   "cell_type": "code",
   "execution_count": 7,
   "metadata": {},
   "outputs": [],
   "source": [
    "def quick_sort(ARRAY):\n",
    "    \"\"\"Pure implementation of quick sort algorithm in Python\n",
    "\n",
    "    :param collection: some mutable ordered collection with heterogeneous\n",
    "    comparable items inside\n",
    "    :return: the same collection ordered by ascending\n",
    "\n",
    "    Examples:\n",
    "    >>> quick_sort([0, 5, 3, 2, 2])\n",
    "    [0, 2, 2, 3, 5]\n",
    "\n",
    "    >>> quick_sort([])\n",
    "    []\n",
    "\n",
    "    >>> quick_sort([-2, -5, -45])\n",
    "    [-45, -5, -2]\n",
    "    \"\"\"\n",
    "    if ARRAY is None or len(ARRAY) <= 1:\n",
    "        return ARRAY\n",
    "\n",
    "    PIVOT = ARRAY[0]\n",
    "    GREATER = [ element for element in ARRAY[1:] if element > PIVOT ]\n",
    "    LESSER = [ element for element in ARRAY[1:] if element <= PIVOT ]\n",
    "    return \\\n",
    "        quick_sort(LESSER)\\\n",
    "        + [PIVOT]\\\n",
    "        + quick_sort(GREATER)"
   ]
  },
  {
   "cell_type": "code",
   "execution_count": 8,
   "metadata": {},
   "outputs": [],
   "source": [
    "quick_sort(None)"
   ]
  },
  {
   "cell_type": "code",
   "execution_count": 9,
   "metadata": {},
   "outputs": [
    {
     "data": {
      "text/plain": [
       "[]"
      ]
     },
     "execution_count": 9,
     "metadata": {},
     "output_type": "execute_result"
    }
   ],
   "source": [
    "quick_sort([])"
   ]
  },
  {
   "cell_type": "code",
   "execution_count": 5,
   "metadata": {},
   "outputs": [
    {
     "data": {
      "text/plain": [
       "[-45, -5, -2]"
      ]
     },
     "execution_count": 5,
     "metadata": {},
     "output_type": "execute_result"
    }
   ],
   "source": [
    "quick_sort([-2, -5, -45])"
   ]
  },
  {
   "cell_type": "code",
   "execution_count": 6,
   "metadata": {},
   "outputs": [
    {
     "data": {
      "text/plain": [
       "[0, 2, 2, 3, 5]"
      ]
     },
     "execution_count": 6,
     "metadata": {},
     "output_type": "execute_result"
    }
   ],
   "source": [
    "quick_sort([0, 5, 3, 2, 2])"
   ]
  },
  {
   "cell_type": "markdown",
   "metadata": {},
   "source": [
    "### [Merge Sort](https://www.wikiwand.com/en/articles/Merge_sort)\n",
    "\n",
    "* Avg: O(NlogN)\n",
    "* Best: O(NlogN)\n",
    "* Worst: O(NlogN)"
   ]
  },
  {
   "cell_type": "code",
   "execution_count": 9,
   "metadata": {},
   "outputs": [],
   "source": [
    "def merge_sort(collection):\n",
    "    \"\"\"Pure implementation of the merge sort algorithm in Python\n",
    "\n",
    "    :param collection: some mutable ordered collection with heterogeneous\n",
    "    comparable items inside\n",
    "    :return: the same collection ordered by ascending\n",
    "\n",
    "    Examples:\n",
    "    >>> merge_sort([0, 5, 3, 2, 2])\n",
    "    [0, 2, 2, 3, 5]\n",
    "\n",
    "    >>> merge_sort([])\n",
    "    []\n",
    "\n",
    "    >>> merge_sort([-2, -5, -45])\n",
    "    [-45, -5, -2]\n",
    "    \"\"\"\n",
    "    length = len(collection)\n",
    "    if length > 1:\n",
    "        midpoint = length // 2\n",
    "        left_half = merge_sort(collection[:midpoint])\n",
    "        right_half = merge_sort(collection[midpoint:])\n",
    "        i = 0\n",
    "        j = 0\n",
    "        k = 0\n",
    "        left_length = len(left_half)\n",
    "        right_length = len(right_half)\n",
    "        while i < left_length and j < right_length:\n",
    "            if left_half[i] < right_half[j]:\n",
    "                collection[k] = left_half[i]\n",
    "                i += 1\n",
    "            else:\n",
    "                collection[k] = right_half[j]\n",
    "                j += 1\n",
    "            k += 1\n",
    "\n",
    "        while i < left_length:\n",
    "            collection[k] = left_half[i]\n",
    "            i += 1\n",
    "            k += 1\n",
    "\n",
    "        while j < right_length:\n",
    "            collection[k] = right_half[j]\n",
    "            j += 1\n",
    "            k += 1\n",
    "\n",
    "    return collection"
   ]
  },
  {
   "cell_type": "code",
   "execution_count": 6,
   "metadata": {},
   "outputs": [
    {
     "data": {
      "text/plain": [
       "[0, 2, 2, 3, 5]"
      ]
     },
     "execution_count": 6,
     "metadata": {},
     "output_type": "execute_result"
    }
   ],
   "source": [
    "merge_sort([0, 5, 3, 2, 2])"
   ]
  },
  {
   "cell_type": "markdown",
   "metadata": {},
   "source": [
    "### Bucket sort\n",
    "\n",
    "* Avg: O(n+k)\n",
    "* Best: O(n+k)\n",
    "* Worst: O(n^2)"
   ]
  },
  {
   "cell_type": "code",
   "execution_count": 10,
   "metadata": {},
   "outputs": [],
   "source": [
    "# from insertion_sort import insertion_sort\n",
    "import math\n",
    "\n",
    "DEFAULT_BUCKET_SIZE = 5\n",
    "\n",
    "def bucketSort(myList, bucketSize=DEFAULT_BUCKET_SIZE):\n",
    "    if(len(myList) == 0):\n",
    "        print('You don\\'t have any elements in array!')\n",
    "\n",
    "    minValue = myList[0]\n",
    "    maxValue = myList[0]\n",
    "\n",
    "    # For finding minimum and maximum values\n",
    "    for i in range(0, len(myList)):\n",
    "        if myList[i] < minValue:\n",
    "            minValue = myList[i]\n",
    "        elif myList[i] > maxValue:\n",
    "            maxValue = myList[i]\n",
    "\n",
    "    # Initialize buckets\n",
    "    bucketCount = math.floor((maxValue - minValue) / bucketSize) + 1\n",
    "    buckets = []\n",
    "    for i in range(0, bucketCount):\n",
    "        buckets.append([])\n",
    "\n",
    "    # For putting values in buckets\n",
    "    for i in range(0, len(myList)):\n",
    "        buckets[math.floor((myList[i] - minValue) / bucketSize)].append(myList[i])\n",
    "\n",
    "    # Sort buckets and place back into input array\n",
    "    sortedArray = []\n",
    "    for i in range(0, len(buckets)):\n",
    "        insertion_sort(buckets[i])\n",
    "        for j in range(0, len(buckets[i])):\n",
    "            sortedArray.append(buckets[i][j])\n",
    "\n",
    "    return sortedArray"
   ]
  },
  {
   "cell_type": "code",
   "execution_count": 11,
   "metadata": {},
   "outputs": [
    {
     "data": {
      "text/plain": [
       "[2, 3, 4, 5, 12, 12, 23, 56, 81, 95]"
      ]
     },
     "execution_count": 11,
     "metadata": {},
     "output_type": "execute_result"
    }
   ],
   "source": [
    "bucketSort([12, 23, 4, 5, 3, 2, 12, 81, 56, 95])"
   ]
  },
  {
   "cell_type": "code",
   "execution_count": null,
   "metadata": {},
   "outputs": [],
   "source": []
  }
 ],
 "metadata": {
  "kernelspec": {
   "display_name": "Python 3 (ipykernel)",
   "language": "python",
   "name": "python3"
  },
  "language_info": {
   "codemirror_mode": {
    "name": "ipython",
    "version": 3
   },
   "file_extension": ".py",
   "mimetype": "text/x-python",
   "name": "python",
   "nbconvert_exporter": "python",
   "pygments_lexer": "ipython3",
   "version": "3.12.5"
  }
 },
 "nbformat": 4,
 "nbformat_minor": 4
}
