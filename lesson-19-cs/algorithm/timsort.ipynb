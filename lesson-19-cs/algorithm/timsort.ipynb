{
 "cells": [
  {
   "cell_type": "code",
   "execution_count": 3,
   "metadata": {},
   "outputs": [],
   "source": [
    "def binary_search(lst, item, start, end):\n",
    "    if start == end:\n",
    "        if lst[start] > item:\n",
    "            return start\n",
    "        else:\n",
    "            return start + 1\n",
    "    if start > end:\n",
    "        return start\n",
    "\n",
    "    mid = (start + end) // 2\n",
    "    if lst[mid] < item:\n",
    "        return binary_search(lst, item, mid + 1, end)\n",
    "    elif lst[mid] > item:\n",
    "        return binary_search(lst, item, start, mid - 1)\n",
    "    else:\n",
    "        return mid\n",
    "\n",
    "\n",
    "def insertion_sort(lst):\n",
    "    length = len(lst)\n",
    "\n",
    "    for index in range(1, length):\n",
    "        value = lst[index]\n",
    "        # find the right position in the sorted list\n",
    "        pos = binary_search(lst, value, 0, index - 1)  \n",
    "        # insert in-place\n",
    "        lst = lst[:pos] + [value] + lst[pos:index] + lst[index+1:]\n",
    "        #print(f\"index={index}, value={value}, pos={pos}, lst={lst}\")\n",
    "\n",
    "    return lst\n",
    "\n",
    "#print(insertion_sort([10,4,5,20,1]))\n",
    "\n",
    "\n",
    "def merge(left, right):\n",
    "    if not left:\n",
    "        return right\n",
    "\n",
    "    if not right:\n",
    "        return left\n",
    "\n",
    "    if left[0] < right[0]:\n",
    "        return [left[0]] + merge(left[1:], right)\n",
    "\n",
    "    return [right[0]] + merge(left, right[1:])\n",
    "\n",
    "\n",
    "def timsort(lst):\n",
    "    length = len(lst)\n",
    "    if length < 2: return lst\n",
    "\n",
    "    # init\n",
    "    new_run = [lst[0]]\n",
    "    runs, sorted_runs = [], []\n",
    "    sorted_array = []\n",
    "\n",
    "    # build list of run\n",
    "    for i in range(1, length):\n",
    "        if i == length - 1:\n",
    "            new_run.append(lst[i])\n",
    "            runs.append(new_run)\n",
    "            break   # last item\n",
    "\n",
    "        if lst[i] < lst[i - 1]:\n",
    "            if new_run:\n",
    "                runs.append(new_run)\n",
    "                new_run = []\n",
    "            else:\n",
    "                runs.append([lst[i - 1]])\n",
    "                new_run.append(lst[i])\n",
    "        else:   # already sorted\n",
    "            new_run.append(lst[i])\n",
    "\n",
    "    # insertion_sort on list of each run\n",
    "    for run in runs:\n",
    "        sorted_runs.append(insertion_sort(run))\n",
    "\n",
    "    # merge sorted_runs\n",
    "    for run in sorted_runs:\n",
    "        sorted_array = merge(sorted_array, run)\n",
    "\n",
    "    return sorted_array\n",
    "\n",
    "\n",
    "def main():\n",
    "\n",
    "    lst = [5, 9, 10 ,3, -4, 5, 178, 92, 46, -18, 0, 7]\n",
    "    res = timsort(lst)\n",
    "    print(len(lst), len(res))\n",
    "    print(res)"
   ]
  },
  {
   "cell_type": "code",
   "execution_count": 4,
   "metadata": {},
   "outputs": [
    {
     "name": "stdout",
     "output_type": "stream",
     "text": [
      "12 11\n",
      "[-4, 0, 3, 5, 5, 7, 9, 10, 46, 92, 178]\n"
     ]
    }
   ],
   "source": [
    "main()"
   ]
  },
  {
   "cell_type": "code",
   "execution_count": null,
   "metadata": {},
   "outputs": [],
   "source": []
  }
 ],
 "metadata": {
  "kernelspec": {
   "display_name": "Python 3 (ipykernel)",
   "language": "python",
   "name": "python3"
  },
  "language_info": {
   "codemirror_mode": {
    "name": "ipython",
    "version": 3
   },
   "file_extension": ".py",
   "mimetype": "text/x-python",
   "name": "python",
   "nbconvert_exporter": "python",
   "pygments_lexer": "ipython3",
   "version": "3.9.13"
  }
 },
 "nbformat": 4,
 "nbformat_minor": 4
}
