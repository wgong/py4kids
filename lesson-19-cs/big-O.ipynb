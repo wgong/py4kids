{
 "cells": [
  {
   "cell_type": "markdown",
   "id": "db67e5ed",
   "metadata": {},
   "source": [
    "- [Big-O: Orders of common functions](https://www.wikiwand.com/en/articles/Big_O_notation#Orders_of_common_functions)\n",
    "\n",
    "\n",
    "![graph-of-time-complexity-functions](https://upload.wikimedia.org/wikipedia/commons/thumb/7/7e/Comparison_computational_complexity.svg/480px-Comparison_computational_complexity.svg.png)"
   ]
  },
  {
   "cell_type": "markdown",
   "id": "ffbba459",
   "metadata": {},
   "source": []
  }
 ],
 "metadata": {
  "language_info": {
   "name": "python"
  }
 },
 "nbformat": 4,
 "nbformat_minor": 5
}
