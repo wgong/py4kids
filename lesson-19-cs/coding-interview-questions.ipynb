{
 "cells": [
  {
   "cell_type": "code",
   "execution_count": 53,
   "metadata": {},
   "outputs": [],
   "source": [
    "# determine if a string has all unique characters\n",
    "def is_unique(s):\n",
    "    if s is None: return True\n",
    "    dict_ch = {}\n",
    "    for c in s:\n",
    "        if c in dict_ch: return False\n",
    "        else: dict_ch[c] = True\n",
    "    return True"
   ]
  },
  {
   "cell_type": "code",
   "execution_count": 56,
   "metadata": {},
   "outputs": [
    {
     "name": "stdout",
     "output_type": "stream",
     "text": [
      "True\n",
      "True\n",
      "True\n",
      "False\n",
      "True\n"
     ]
    }
   ],
   "source": [
    "for s in [None, \"\", \"a\", \"aa\", \"ab\"]:\n",
    "    print(is_unique(s))"
   ]
  },
  {
   "cell_type": "code",
   "execution_count": 16,
   "metadata": {},
   "outputs": [],
   "source": [
    "def is_diff(s1, s2):\n",
    "    if s1 is None or s2 is None or len(s1) != len(s2):\n",
    "        return True\n",
    "    \n",
    "    if len(s1) == 0:\n",
    "        return False\n",
    "    else:\n",
    "        if s1[0] != s2[0]:\n",
    "            return True\n",
    "        else:\n",
    "            return is_diff(s1[1:],s2[1:])"
   ]
  },
  {
   "cell_type": "code",
   "execution_count": 18,
   "metadata": {},
   "outputs": [
    {
     "name": "stdout",
     "output_type": "stream",
     "text": [
      "(None, None)  :  True\n",
      "(None, 'b')  :  True\n",
      "('1', 'b')  :  True\n",
      "('b', 'b')  :  False\n",
      "('1a', 'b')  :  True\n"
     ]
    }
   ],
   "source": [
    "for p in [(None, None), (None, \"b\"), (\"1\", \"b\"), (\"b\", \"b\"), (\"1a\", \"b\")]:\n",
    "    print(p,\" : \", is_diff(p[0], p[1]))"
   ]
  },
  {
   "cell_type": "code",
   "execution_count": 25,
   "metadata": {},
   "outputs": [],
   "source": [
    "def one_edit_away(s1, s2):\n",
    "    if abs(len(s1) - len(s2)) > 1: return False\n",
    "    # make s1 the shorter string\n",
    "    if len(s1) > len(s2): s1, s2 = s2, s1\n",
    "        \n",
    "    for c in s1:\n",
    "        s2 = s2.replace(c,'')\n",
    "    if len(s2) > 1: return False\n",
    "    return True"
   ]
  },
  {
   "cell_type": "code",
   "execution_count": 26,
   "metadata": {},
   "outputs": [
    {
     "name": "stdout",
     "output_type": "stream",
     "text": [
      "('pale', 'ple')  :  True\n",
      "('pales', 'pale')  :  True\n",
      "('pale', 'bale')  :  True\n",
      "('pale', 'bae')  :  False\n"
     ]
    }
   ],
   "source": [
    "for p in [(\"pale\", \"ple\"), (\"pales\", \"pale\"), (\"pale\", \"bale\"), (\"pale\", \"bae\")]:\n",
    "    print(p,\" : \", one_edit_away(p[0], p[1]))"
   ]
  },
  {
   "cell_type": "code",
   "execution_count": 2,
   "metadata": {},
   "outputs": [],
   "source": [
    "# Given two strings, write a method to decide if one is a permutation of the other\n",
    "def is_permutation(s1,s2):\n",
    "    return len(s1) == len(s2) and set(s1.lower()) == set(s2.lower())"
   ]
  },
  {
   "cell_type": "code",
   "execution_count": 4,
   "metadata": {},
   "outputs": [
    {
     "data": {
      "text/plain": [
       "{' ', 'a', 'b', 'c', 'x', 'y', 'z'}"
      ]
     },
     "execution_count": 4,
     "metadata": {},
     "output_type": "execute_result"
    }
   ],
   "source": [
    "set(\"ABC XYZ\".lower())"
   ]
  },
  {
   "cell_type": "code",
   "execution_count": 5,
   "metadata": {},
   "outputs": [
    {
     "data": {
      "text/plain": [
       "True"
      ]
     },
     "execution_count": 5,
     "metadata": {},
     "output_type": "execute_result"
    }
   ],
   "source": [
    "is_permutation(\"s2\",\"2s\")"
   ]
  },
  {
   "cell_type": "code",
   "execution_count": 23,
   "metadata": {},
   "outputs": [],
   "source": [
    "# URLify: Write a method to replace all spaces in a string with '%20:\n",
    "def urlify(s):\n",
    "    return \"%20\".join(s.split())"
   ]
  },
  {
   "cell_type": "code",
   "execution_count": 24,
   "metadata": {},
   "outputs": [
    {
     "data": {
      "text/plain": [
       "'hello%20world%20of%20python'"
      ]
     },
     "execution_count": 24,
     "metadata": {},
     "output_type": "execute_result"
    }
   ],
   "source": [
    "urlify(\"hello world of python\")"
   ]
  },
  {
   "cell_type": "markdown",
   "metadata": {},
   "source": [
    "`Palindrome` Permutation: Given a string, write a function to check if it is a permutation of a palindrome. A palindrome is a word or phrase that is the same forwards and backwards. A permutation\n",
    "is a rearrangement of letters.The palindrome does not need to be limited to just dictionary words"
   ]
  },
  {
   "cell_type": "code",
   "execution_count": 25,
   "metadata": {},
   "outputs": [],
   "source": [
    "def palindrome(s):\n",
    "    if len(s) < 2:\n",
    "        return True\n",
    "    else:\n",
    "        return s[0] == s[-1] and palindrome(s[1:-2])    "
   ]
  },
  {
   "cell_type": "code",
   "execution_count": 26,
   "metadata": {},
   "outputs": [
    {
     "name": "stdout",
     "output_type": "stream",
     "text": [
      "aba True\n",
      "a True\n",
      " True\n",
      "anna True\n",
      "a a True\n",
      "a c False\n",
      "ABC False\n"
     ]
    }
   ],
   "source": [
    "for s in [\"aba\", \"a\", \"\", \"anna\", \"a a\", \"a c\", \"ABC\"]:\n",
    "    print(s,palindrome(s))"
   ]
  },
  {
   "cell_type": "code",
   "execution_count": 34,
   "metadata": {},
   "outputs": [],
   "source": [
    "def is_permutation_of_palindrome(s):\n",
    "    dic = {}\n",
    "    for c in s:\n",
    "        dic[c] = dic.get(c,0) + 1\n",
    "    # can have {0,1} of odd entry\n",
    "    n_odd = 0\n",
    "    for c in dic:\n",
    "        if dic[c]%2:\n",
    "            n_odd += 1\n",
    "        if n_odd > 1:\n",
    "            return False\n",
    "    return True"
   ]
  },
  {
   "cell_type": "code",
   "execution_count": 12,
   "metadata": {},
   "outputs": [
    {
     "ename": "NameError",
     "evalue": "name 'is_permutation_of_palindrome' is not defined",
     "output_type": "error",
     "traceback": [
      "\u001b[0;31m---------------------------------------------------------------------------\u001b[0m",
      "\u001b[0;31mNameError\u001b[0m                                 Traceback (most recent call last)",
      "\u001b[0;32m<ipython-input-12-e9c352b27655>\u001b[0m in \u001b[0;36m<module>\u001b[0;34m()\u001b[0m\n\u001b[1;32m      1\u001b[0m \u001b[0;32mfor\u001b[0m \u001b[0ms\u001b[0m \u001b[0;32min\u001b[0m \u001b[0;34m[\u001b[0m\u001b[0;34m\"anna\"\u001b[0m\u001b[0;34m,\u001b[0m \u001b[0;34m\"aann\"\u001b[0m\u001b[0;34m,\u001b[0m \u001b[0;34m\"a ann\"\u001b[0m\u001b[0;34m,\u001b[0m \u001b[0;34m\"abann\"\u001b[0m\u001b[0;34m,\u001b[0m \u001b[0;34m\"a bann\"\u001b[0m\u001b[0;34m]\u001b[0m\u001b[0;34m:\u001b[0m\u001b[0;34m\u001b[0m\u001b[0m\n\u001b[0;32m----> 2\u001b[0;31m     \u001b[0mprint\u001b[0m\u001b[0;34m(\u001b[0m\u001b[0ms\u001b[0m\u001b[0;34m,\u001b[0m \u001b[0mis_permutation_of_palindrome\u001b[0m\u001b[0;34m(\u001b[0m\u001b[0ms\u001b[0m\u001b[0;34m)\u001b[0m\u001b[0;34m)\u001b[0m\u001b[0;34m\u001b[0m\u001b[0m\n\u001b[0m",
      "\u001b[0;31mNameError\u001b[0m: name 'is_permutation_of_palindrome' is not defined"
     ]
    }
   ],
   "source": [
    "for s in [\"anna\", \"aann\", \"a ann\", \"abann\", \"a bann\"]:\n",
    "    print(s, is_permutation_of_palindrome(s))"
   ]
  },
  {
   "cell_type": "code",
   "execution_count": 11,
   "metadata": {},
   "outputs": [],
   "source": [
    "def is_permutation_of_palindrome2(s):\n",
    "    # replace space and case\n",
    "    s = \"\".join(s.lower().split())\n",
    "    dic = {}\n",
    "    for c in s:\n",
    "        dic[c] = not dic.get(c,False)   # toggle\n",
    "    # can have {0,1} of odd entry\n",
    "    n_odd = 0\n",
    "    for c in dic:\n",
    "        if dic[c]:\n",
    "            n_odd += 1\n",
    "        if n_odd > 1:\n",
    "            return False\n",
    "    return True"
   ]
  },
  {
   "cell_type": "code",
   "execution_count": 14,
   "metadata": {},
   "outputs": [
    {
     "name": "stdout",
     "output_type": "stream",
     "text": [
      "anna True\n",
      "aann True\n",
      "a ann True\n",
      "abann True\n",
      "a bcnn False\n"
     ]
    }
   ],
   "source": [
    "for s in [\"anna\", \"aann\", \"a ann\", \"abann\", \"a bcnn\"]:\n",
    "    print(s, is_permutation_of_palindrome2(s))"
   ]
  },
  {
   "cell_type": "code",
   "execution_count": 32,
   "metadata": {},
   "outputs": [],
   "source": [
    "def compres(s):\n",
    "    if len(s) < 3: return s\n",
    "    \n",
    "    s2 = \"\"\n",
    "    CH, ct = s[0], 1\n",
    "    for i in range(1,len(s)-1):\n",
    "        if s[i] == s[i-1]: \n",
    "            ct += 1\n",
    "        else:\n",
    "            s2 += CH + str(ct)\n",
    "            CH = s[i]\n",
    "            ct = 1\n",
    "    if s[-2] == s[-1]:\n",
    "        ct += 1\n",
    "        s2 += CH + str(ct)\n",
    "    else:\n",
    "        s2 += CH + str(ct) + s[-1] + str(1)\n",
    "        \n",
    "    if len(s2) >= len(s): return s\n",
    "    else: return s2\n",
    "        "
   ]
  },
  {
   "cell_type": "code",
   "execution_count": 36,
   "metadata": {},
   "outputs": [
    {
     "name": "stdout",
     "output_type": "stream",
     "text": [
      "a a\n",
      "ab ab\n",
      "aaa a3\n",
      "aab aab\n",
      "aabb aabb\n",
      "aaabb a3b2\n",
      "aabcccccaaa a2b1c5a3\n"
     ]
    }
   ],
   "source": [
    "for s in [\"a\", \"ab\", \"aaa\", \"aab\", \"aabb\", \"aaabb\", \"aabcccccaaa\",]:\n",
    "    print(s, compres(s))"
   ]
  },
  {
   "cell_type": "code",
   "execution_count": 42,
   "metadata": {},
   "outputs": [],
   "source": [
    "# 1.9 rotate string\n",
    "def rotate_str(s1, s2):\n",
    "    return s2 in 2*s1"
   ]
  },
  {
   "cell_type": "code",
   "execution_count": 43,
   "metadata": {},
   "outputs": [
    {
     "name": "stdout",
     "output_type": "stream",
     "text": [
      "('waterbottle', 'erbottlewat') True\n"
     ]
    }
   ],
   "source": [
    "for s in [(\"waterbottle\", \"erbottlewat\")]:\n",
    "    print(s, rotate_str(s[0],s[1]))"
   ]
  },
  {
   "cell_type": "code",
   "execution_count": 41,
   "metadata": {},
   "outputs": [
    {
     "data": {
      "text/plain": [
       "'abcabcabcabc'"
      ]
     },
     "execution_count": 41,
     "metadata": {},
     "output_type": "execute_result"
    }
   ],
   "source": [
    "2*\"abc\"*2"
   ]
  },
  {
   "cell_type": "code",
   "execution_count": null,
   "metadata": {},
   "outputs": [],
   "source": []
  }
 ],
 "metadata": {
  "kernelspec": {
   "display_name": "Python 3 (ipykernel)",
   "language": "python",
   "name": "python3"
  },
  "language_info": {
   "codemirror_mode": {
    "name": "ipython",
    "version": 3
   },
   "file_extension": ".py",
   "mimetype": "text/x-python",
   "name": "python",
   "nbconvert_exporter": "python",
   "pygments_lexer": "ipython3",
   "version": "3.9.13"
  },
  "nbTranslate": {
   "displayLangs": [
    "*"
   ],
   "hotkey": "alt-t",
   "langInMainMenu": true,
   "sourceLang": "en",
   "targetLang": "fr",
   "useGoogleTranslate": true
  },
  "toc": {
   "base_numbering": 1,
   "nav_menu": {},
   "number_sections": true,
   "sideBar": true,
   "skip_h1_title": false,
   "title_cell": "Table of Contents",
   "title_sidebar": "Contents",
   "toc_cell": false,
   "toc_position": {},
   "toc_section_display": true,
   "toc_window_display": false
  }
 },
 "nbformat": 4,
 "nbformat_minor": 2
}
