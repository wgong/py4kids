{
 "cells": [
  {
   "cell_type": "markdown",
   "metadata": {},
   "source": [
    "## Deque\n",
    "\n",
    "generalization of stacks and queues (the name is pronounced “deck” and is short for “double-ended queue”). Deques support thread-safe, memory efficient appends and pops from either side of the deque with approximately the same O(1) performance in either direction\n",
    "\n",
    "https://docs.python.org/3.6/library/collections.html#collections.deque"
   ]
  },
  {
   "cell_type": "code",
   "execution_count": 1,
   "metadata": {},
   "outputs": [],
   "source": [
    "from collections import deque"
   ]
  },
  {
   "cell_type": "code",
   "execution_count": 35,
   "metadata": {},
   "outputs": [],
   "source": [
    "d = deque('ghi')        # make a new deque with three items"
   ]
  },
  {
   "cell_type": "code",
   "execution_count": 36,
   "metadata": {},
   "outputs": [
    {
     "name": "stdout",
     "output_type": "stream",
     "text": [
      "g\n",
      "h\n",
      "i\n"
     ]
    }
   ],
   "source": [
    "for elem in d:\n",
    "    print(elem)"
   ]
  },
  {
   "cell_type": "code",
   "execution_count": 37,
   "metadata": {},
   "outputs": [],
   "source": [
    "d.append('>J')                    # add a new entry to the right side"
   ]
  },
  {
   "cell_type": "code",
   "execution_count": 38,
   "metadata": {},
   "outputs": [],
   "source": [
    "d.appendleft('F<')                # add a new entry to the left side"
   ]
  },
  {
   "cell_type": "code",
   "execution_count": 39,
   "metadata": {},
   "outputs": [
    {
     "data": {
      "text/plain": [
       "deque(['F<', 'g', 'h', 'i', '>J'])"
      ]
     },
     "execution_count": 39,
     "metadata": {},
     "output_type": "execute_result"
    }
   ],
   "source": [
    "d"
   ]
  },
  {
   "cell_type": "code",
   "execution_count": 40,
   "metadata": {},
   "outputs": [
    {
     "data": {
      "text/plain": [
       "'>J'"
      ]
     },
     "execution_count": 40,
     "metadata": {},
     "output_type": "execute_result"
    }
   ],
   "source": [
    "d.pop()"
   ]
  },
  {
   "cell_type": "code",
   "execution_count": 41,
   "metadata": {},
   "outputs": [
    {
     "data": {
      "text/plain": [
       "deque(['F<', 'g', 'h', 'i'])"
      ]
     },
     "execution_count": 41,
     "metadata": {},
     "output_type": "execute_result"
    }
   ],
   "source": [
    "d"
   ]
  },
  {
   "cell_type": "code",
   "execution_count": 42,
   "metadata": {},
   "outputs": [
    {
     "data": {
      "text/plain": [
       "'F<'"
      ]
     },
     "execution_count": 42,
     "metadata": {},
     "output_type": "execute_result"
    }
   ],
   "source": [
    "d.popleft()"
   ]
  },
  {
   "cell_type": "code",
   "execution_count": 43,
   "metadata": {},
   "outputs": [
    {
     "data": {
      "text/plain": [
       "deque(['g', 'h', 'i'])"
      ]
     },
     "execution_count": 43,
     "metadata": {},
     "output_type": "execute_result"
    }
   ],
   "source": [
    "d"
   ]
  },
  {
   "cell_type": "code",
   "execution_count": 44,
   "metadata": {},
   "outputs": [
    {
     "data": {
      "text/plain": [
       "['g', 'h', 'i']"
      ]
     },
     "execution_count": 44,
     "metadata": {},
     "output_type": "execute_result"
    }
   ],
   "source": [
    "list(d)"
   ]
  },
  {
   "cell_type": "code",
   "execution_count": 45,
   "metadata": {},
   "outputs": [
    {
     "data": {
      "text/plain": [
       "('g', 'i')"
      ]
     },
     "execution_count": 45,
     "metadata": {},
     "output_type": "execute_result"
    }
   ],
   "source": [
    "d[0], d[-1]"
   ]
  },
  {
   "cell_type": "code",
   "execution_count": 46,
   "metadata": {},
   "outputs": [
    {
     "data": {
      "text/plain": [
       "['i', 'h', 'g']"
      ]
     },
     "execution_count": 46,
     "metadata": {},
     "output_type": "execute_result"
    }
   ],
   "source": [
    "list(reversed(d))"
   ]
  },
  {
   "cell_type": "code",
   "execution_count": 47,
   "metadata": {},
   "outputs": [
    {
     "data": {
      "text/plain": [
       "False"
      ]
     },
     "execution_count": 47,
     "metadata": {},
     "output_type": "execute_result"
    }
   ],
   "source": [
    "'a' in d"
   ]
  },
  {
   "cell_type": "code",
   "execution_count": 48,
   "metadata": {},
   "outputs": [],
   "source": [
    "d.extend('jkl')                  # add multiple elements at once"
   ]
  },
  {
   "cell_type": "code",
   "execution_count": 49,
   "metadata": {},
   "outputs": [
    {
     "data": {
      "text/plain": [
       "deque(['g', 'h', 'i', 'j', 'k', 'l'])"
      ]
     },
     "execution_count": 49,
     "metadata": {},
     "output_type": "execute_result"
    }
   ],
   "source": [
    "d"
   ]
  },
  {
   "cell_type": "code",
   "execution_count": 50,
   "metadata": {},
   "outputs": [
    {
     "data": {
      "text/plain": [
       "deque(['l', 'g', 'h', 'i', 'j', 'k'])"
      ]
     },
     "execution_count": 50,
     "metadata": {},
     "output_type": "execute_result"
    }
   ],
   "source": [
    "d.rotate(1)                      # right rotation\n",
    "d"
   ]
  },
  {
   "cell_type": "code",
   "execution_count": 51,
   "metadata": {},
   "outputs": [
    {
     "data": {
      "text/plain": [
       "deque(['g', 'h', 'i', 'j', 'k', 'l'])"
      ]
     },
     "execution_count": 51,
     "metadata": {},
     "output_type": "execute_result"
    }
   ],
   "source": [
    "d.rotate(-1)                     # left rotation\n",
    "d"
   ]
  },
  {
   "cell_type": "code",
   "execution_count": 53,
   "metadata": {},
   "outputs": [
    {
     "data": {
      "text/plain": [
       "['l', 'k', 'j', 'i', 'h', 'g']"
      ]
     },
     "execution_count": 53,
     "metadata": {},
     "output_type": "execute_result"
    }
   ],
   "source": [
    "list(reversed(d))"
   ]
  },
  {
   "cell_type": "code",
   "execution_count": 54,
   "metadata": {},
   "outputs": [
    {
     "data": {
      "text/plain": [
       "deque(['g', 'h', 'i', 'j', 'k', 'l'])"
      ]
     },
     "execution_count": 54,
     "metadata": {},
     "output_type": "execute_result"
    }
   ],
   "source": [
    "d"
   ]
  },
  {
   "cell_type": "code",
   "execution_count": 55,
   "metadata": {},
   "outputs": [
    {
     "data": {
      "text/plain": [
       "collections.deque"
      ]
     },
     "execution_count": 55,
     "metadata": {},
     "output_type": "execute_result"
    }
   ],
   "source": [
    "type(d)"
   ]
  },
  {
   "cell_type": "code",
   "execution_count": 56,
   "metadata": {},
   "outputs": [],
   "source": [
    "d2 = deque(d)"
   ]
  },
  {
   "cell_type": "code",
   "execution_count": 57,
   "metadata": {},
   "outputs": [
    {
     "data": {
      "text/plain": [
       "deque(['g', 'h', 'i', 'j', 'k', 'l'])"
      ]
     },
     "execution_count": 57,
     "metadata": {},
     "output_type": "execute_result"
    }
   ],
   "source": [
    "d2"
   ]
  },
  {
   "cell_type": "code",
   "execution_count": 59,
   "metadata": {},
   "outputs": [],
   "source": [
    "d2.clear()"
   ]
  },
  {
   "cell_type": "code",
   "execution_count": 60,
   "metadata": {},
   "outputs": [
    {
     "data": {
      "text/plain": [
       "deque([])"
      ]
     },
     "execution_count": 60,
     "metadata": {},
     "output_type": "execute_result"
    }
   ],
   "source": [
    "d2"
   ]
  },
  {
   "cell_type": "code",
   "execution_count": 61,
   "metadata": {},
   "outputs": [
    {
     "data": {
      "text/plain": [
       "deque(['c', 'b', 'a'])"
      ]
     },
     "execution_count": 61,
     "metadata": {},
     "output_type": "execute_result"
    }
   ],
   "source": [
    "d2.extendleft('abc')   # extendleft() reverses the input order\n",
    "d2"
   ]
  },
  {
   "cell_type": "markdown",
   "metadata": {},
   "source": [
    "an example"
   ]
  },
  {
   "cell_type": "code",
   "execution_count": 66,
   "metadata": {},
   "outputs": [],
   "source": [
    "import itertools\n",
    "def moving_average(iterable, n=3):\n",
    "    # moving_average([40, 30, 50, 46, 39, 44]) --> 40.0 42.0 45.0 43.0\n",
    "    # http://en.wikipedia.org/wiki/Moving_average\n",
    "    it = iter(iterable)\n",
    "    d = deque(itertools.islice(it, n-1))\n",
    "    d.appendleft(0)\n",
    "    s = sum(d)\n",
    "    for elem in it:\n",
    "        s += elem - d.popleft()\n",
    "        d.append(elem)\n",
    "        yield s / n"
   ]
  },
  {
   "cell_type": "code",
   "execution_count": 67,
   "metadata": {},
   "outputs": [
    {
     "name": "stdout",
     "output_type": "stream",
     "text": [
      "40.0\n",
      "42.0\n",
      "45.0\n",
      "43.0\n"
     ]
    }
   ],
   "source": [
    "for i in moving_average([40, 30, 50, 46, 39, 44]):\n",
    "    print(i)"
   ]
  },
  {
   "cell_type": "code",
   "execution_count": 71,
   "metadata": {},
   "outputs": [
    {
     "name": "stdout",
     "output_type": "stream",
     "text": [
      "2.0\n",
      "3.0\n",
      "4.0\n",
      "5.0\n"
     ]
    }
   ],
   "source": [
    "for i in moving_average((1,2,3,4,5,6), 3):\n",
    "    print(i)"
   ]
  },
  {
   "cell_type": "markdown",
   "metadata": {},
   "source": [
    "### Binary Search Tree\n",
    "\n",
    "https://www.geeksforgeeks.org/binary-search-tree-set-1-search-and-insertion/"
   ]
  },
  {
   "cell_type": "code",
   "execution_count": null,
   "metadata": {},
   "outputs": [],
   "source": [
    "# Python program to demonstrate insert operation in binary search tree  \n",
    "  \n",
    "# A utility class that represents an individual node in a BST \n",
    "class Node: \n",
    "    def __init__(self,key): \n",
    "        self.left = None\n",
    "        self.right = None\n",
    "        self.val = key \n",
    "\n",
    "# A utility function to insert a new node with the given key \n",
    "def insert(root,node): \n",
    "    if root is None: \n",
    "        root = node \n",
    "    else: \n",
    "        if root.val < node.val: \n",
    "            if root.right is None: \n",
    "                root.right = node \n",
    "            else: \n",
    "                insert(root.right, node) \n",
    "        else: \n",
    "            if root.left is None: \n",
    "                root.left = node \n",
    "            else: \n",
    "                insert(root.left, node) \n",
    "\n",
    "# A utility function to search a given key in BST \n",
    "def search(root,key): \n",
    "      \n",
    "    # Base Cases: root is null or key is present at root \n",
    "    if root is None or root.val == key: \n",
    "        return root \n",
    "  \n",
    "    # Key is greater than root's key \n",
    "    if root.val < key: \n",
    "        return search(root.right,key) \n",
    "    \n",
    "    # Key is smaller than root's key \n",
    "    return search(root.left,key) \n",
    "                \n",
    "# A utility function to do pre-order tree traversal \n",
    "def preOrder(root): \n",
    "    if root: \n",
    "        print(root.val) \n",
    "        preOrder(root.left) \n",
    "        preOrder(root.right) \n",
    "        \n",
    "# A utility function to do in-order tree traversal \n",
    "def inOrder(root): \n",
    "    if root: \n",
    "        inOrder(root.left) \n",
    "        print(root.val) \n",
    "        inOrder(root.right) \n",
    "\n",
    "# A utility function to do pre-order tree traversal \n",
    "def postOrder(root): \n",
    "    if root: \n",
    "        postOrder(root.left) \n",
    "        postOrder(root.right) \n",
    "        print(root.val) "
   ]
  },
  {
   "cell_type": "code",
   "execution_count": 8,
   "metadata": {},
   "outputs": [],
   "source": [
    "# Driver program to test the above functions \n",
    "# Let us create the following BST \n",
    "#       50 \n",
    "#     /    \\ \n",
    "#    30    70 \n",
    "#   / \\   /  \\ \n",
    "#  20 40 60  75\n",
    "#              \\\n",
    "#              80\n",
    "r = Node(50) \n",
    "insert(r,Node(30)) \n",
    "insert(r,Node(20)) \n",
    "insert(r,Node(40)) \n",
    "insert(r,Node(70)) \n",
    "insert(r,Node(75)) \n",
    "insert(r,Node(60)) \n",
    "insert(r,Node(80)) \n",
    "\n",
    "# This code is contributed by Bhavya Jain "
   ]
  },
  {
   "cell_type": "code",
   "execution_count": 7,
   "metadata": {},
   "outputs": [
    {
     "name": "stdout",
     "output_type": "stream",
     "text": [
      "20\n",
      "30\n",
      "40\n",
      "50\n",
      "60\n",
      "70\n",
      "75\n",
      "80\n"
     ]
    }
   ],
   "source": [
    "# Print inoder traversal of the BST \n",
    "inOrder(r) "
   ]
  },
  {
   "cell_type": "code",
   "execution_count": 4,
   "metadata": {},
   "outputs": [
    {
     "name": "stdout",
     "output_type": "stream",
     "text": [
      "50\n",
      "30\n",
      "20\n",
      "40\n",
      "70\n",
      "60\n",
      "75\n",
      "80\n"
     ]
    }
   ],
   "source": [
    "preOrder(r)"
   ]
  },
  {
   "cell_type": "code",
   "execution_count": 5,
   "metadata": {},
   "outputs": [
    {
     "name": "stdout",
     "output_type": "stream",
     "text": [
      "20\n",
      "40\n",
      "30\n",
      "60\n",
      "80\n",
      "75\n",
      "70\n",
      "50\n"
     ]
    }
   ],
   "source": [
    "postOrder(r)"
   ]
  },
  {
   "cell_type": "code",
   "execution_count": 11,
   "metadata": {},
   "outputs": [
    {
     "data": {
      "text/plain": [
       "(75, None, <__main__.Node at 0x7efe5c69c240>)"
      ]
     },
     "execution_count": 11,
     "metadata": {},
     "output_type": "execute_result"
    }
   ],
   "source": [
    "n = search(r,75)\n",
    "\n",
    "n.val, n.left, n.right"
   ]
  },
  {
   "cell_type": "code",
   "execution_count": 12,
   "metadata": {},
   "outputs": [
    {
     "data": {
      "text/plain": [
       "(60, None, None)"
      ]
     },
     "execution_count": 12,
     "metadata": {},
     "output_type": "execute_result"
    }
   ],
   "source": [
    "n = search(r,60)\n",
    "\n",
    "n.val, n.left, n.right"
   ]
  },
  {
   "cell_type": "markdown",
   "metadata": {},
   "source": [
    "###  min-Heap \n",
    "\n",
    "is a complete binary tree (that is, totally filled other than the rightmost elements on the last level) where each node is smaller than its children. The root, therefore, is the minimum element in the tree."
   ]
  },
  {
   "cell_type": "markdown",
   "metadata": {},
   "source": [
    "### Bloom Filter\n",
    "\n",
    "https://www.geeksforgeeks.org/bloom-filters-introduction-and-python-implementation/"
   ]
  },
  {
   "cell_type": "code",
   "execution_count": null,
   "metadata": {},
   "outputs": [],
   "source": []
  }
 ],
 "metadata": {
  "kernelspec": {
   "display_name": "Python 3 (ipykernel)",
   "language": "python",
   "name": "python3"
  },
  "language_info": {
   "codemirror_mode": {
    "name": "ipython",
    "version": 3
   },
   "file_extension": ".py",
   "mimetype": "text/x-python",
   "name": "python",
   "nbconvert_exporter": "python",
   "pygments_lexer": "ipython3",
   "version": "3.9.13"
  },
  "nbTranslate": {
   "displayLangs": [
    "*"
   ],
   "hotkey": "alt-t",
   "langInMainMenu": true,
   "sourceLang": "en",
   "targetLang": "fr",
   "useGoogleTranslate": true
  },
  "toc": {
   "base_numbering": 1,
   "nav_menu": {},
   "number_sections": true,
   "sideBar": true,
   "skip_h1_title": false,
   "title_cell": "Table of Contents",
   "title_sidebar": "Contents",
   "toc_cell": false,
   "toc_position": {},
   "toc_section_display": true,
   "toc_window_display": false
  }
 },
 "nbformat": 4,
 "nbformat_minor": 2
}
