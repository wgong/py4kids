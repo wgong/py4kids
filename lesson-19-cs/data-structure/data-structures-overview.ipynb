{
 "cells": [
  {
   "cell_type": "markdown",
   "metadata": {},
   "source": [
    "## [Data structures in Python](https://medium.com/@kojinoshiba/data-structures-in-python-series-1-linked-lists-d9f848537b4d)"
   ]
  },
  {
   "cell_type": "markdown",
   "metadata": {},
   "source": [
    "The series covers a range of essential data structures, including:\n",
    "\n",
    "- [Linked Lists](https://medium.com/@kojinoshiba/data-structures-in-python-series-1-linked-lists-d9f848537b4d)\n",
    "Explaining the concept of linked lists, their types (singly, doubly), and operations like insertion, deletion, and traversal.\n",
    "\n",
    "\n",
    "- [Stacks and Queues](https://medium.com/@kojinoshiba/data-structures-in-python-series-2-stacks-queues-8e2a1703d67b)\n",
    "Detailing these linear data structures, their Last-In-First-Out (LIFO) and First-In-First-Out (FIFO) principles, and common operations.\n",
    "\n",
    "\n",
    "- [Hashes (HashMaps/Dictionaries)](https://www.interviewcake.com/concept/java/hash-map)\n",
    "Discussing hash tables, their use in efficient key-value storage, and how Python's built-in dictionary serves as an implementation.\n",
    "\n",
    "\n",
    "- [Heaps](https://python.plainenglish.io/lets-learn-heap-in-an-easy-way-0275c6d32769)\n",
    "Covering heap data structures, their properties (min-heap, max-heap), and applications like priority queues.\n",
    "    - [Learn Heap](https://python.plainenglish.io/lets-learn-heap-in-an-easy-way-0275c6d32769)\n",
    "\n",
    "\n",
    "- [Trees](https://python.plainenglish.io/all-you-need-to-know-about-tree-data-structure-d503c9e4508b)\n",
    "Exploring various tree structures, such as binary trees, binary search trees, and potentially more complex tree types, along with their traversal methods and applications."
   ]
  },
  {
   "cell_type": "markdown",
   "metadata": {},
   "source": [
    "### [Linked List](https://medium.com/@kojinoshiba/data-structures-in-python-series-1-linked-lists-d9f848537b4d)\n",
    "\n",
    "consistes of nodes, each node consists of value and pointer to another node\n",
    "\n",
    "a linked list can have its elements to be dynamically allocated\n",
    "\n",
    "Pros:\n",
    "* save memory (vs array)\n",
    "* flexible with its location in memory\n",
    "* add/remove item from front is O(1)\n",
    "\n",
    "Cons:\n",
    "* lookup time in O(n) (array is O(1))"
   ]
  },
  {
   "cell_type": "code",
   "execution_count": 20,
   "metadata": {},
   "outputs": [],
   "source": [
    "class Node:\n",
    "    def __init__(self,val):\n",
    "        self.val = val\n",
    "        self.next = None  # the pointer initially points to nothing\n",
    "        \n",
    "    def traverse(self):\n",
    "        node = self # start from self\n",
    "        while node:\n",
    "            print(node.val)  # access the node value\n",
    "            node = node.next # move on to the next node"
   ]
  },
  {
   "cell_type": "code",
   "execution_count": 21,
   "metadata": {},
   "outputs": [],
   "source": [
    "node1 = Node(100) \n",
    "node2 = Node(200) \n",
    "node3 = Node(300) \n",
    "node1.next = node2 \n",
    "node2.next = node3 \n",
    "# the entire linked list now looks like: 12->99->37"
   ]
  },
  {
   "cell_type": "code",
   "execution_count": 22,
   "metadata": {},
   "outputs": [
    {
     "data": {
      "text/plain": [
       "(100, <__main__.Node at 0x231ccbdf340>)"
      ]
     },
     "execution_count": 22,
     "metadata": {},
     "output_type": "execute_result"
    }
   ],
   "source": [
    "node1.val, node1.next"
   ]
  },
  {
   "cell_type": "code",
   "execution_count": 23,
   "metadata": {},
   "outputs": [
    {
     "name": "stdout",
     "output_type": "stream",
     "text": [
      "100\n",
      "200\n",
      "300\n"
     ]
    }
   ],
   "source": [
    "node1.traverse()"
   ]
  },
  {
   "cell_type": "code",
   "execution_count": 8,
   "metadata": {},
   "outputs": [],
   "source": [
    "def convert_to_int_l2r(node, debug=False):\n",
    "    s = \"\"  # convert node value to string, then back to number\n",
    "    n = node\n",
    "    while n != None:\n",
    "        s = str(n.val) + s   # add from left\n",
    "        if debug: print(f\"n={n.val}: s={s}\")\n",
    "        n = n.next\n",
    "    return int(s)\n",
    "\n",
    "def convert_to_int_r2l(node, debug=False):\n",
    "    s = \"\"  # convert node value to string, then back to number\n",
    "    n = node\n",
    "    while n != None:\n",
    "        s = s + str(n.val)   # add from right\n",
    "        if debug: print(f\"n={n.val}: s={s}\")\n",
    "        n = n.next\n",
    "    return int(s)"
   ]
  },
  {
   "cell_type": "raw",
   "metadata": {},
   "source": [
    "x = None\n",
    "print(x is None)\n",
    "print(x==None)"
   ]
  },
  {
   "cell_type": "code",
   "execution_count": 9,
   "metadata": {},
   "outputs": [
    {
     "name": "stdout",
     "output_type": "stream",
     "text": [
      "1\n",
      "2\n",
      "3\n",
      "8\n",
      "7\n"
     ]
    },
    {
     "data": {
      "text/plain": [
       "(None, None)"
      ]
     },
     "execution_count": 9,
     "metadata": {},
     "output_type": "execute_result"
    }
   ],
   "source": [
    "# initializing two linked lists\n",
    "\n",
    "n1 = Node(1); n2 = Node(2); n3 = Node(3)\n",
    "n1.next=n2; n2.next=n3\n",
    "# 1 > 2 > 3\n",
    "\n",
    "n4 = Node(8); n5 = Node(7); \n",
    "n4.next=n5\n",
    "# 8 > 7\n",
    "\n",
    "n1.traverse(), n4.traverse()"
   ]
  },
  {
   "cell_type": "code",
   "execution_count": 10,
   "metadata": {},
   "outputs": [
    {
     "name": "stdout",
     "output_type": "stream",
     "text": [
      "n=1: s=1\n",
      "n=2: s=21\n",
      "n=3: s=321\n",
      "321\n"
     ]
    }
   ],
   "source": [
    "print(convert_to_int_l2r(n1, True))"
   ]
  },
  {
   "cell_type": "code",
   "execution_count": 11,
   "metadata": {},
   "outputs": [
    {
     "name": "stdout",
     "output_type": "stream",
     "text": [
      "n=8: s=8\n",
      "n=7: s=78\n",
      "78\n"
     ]
    }
   ],
   "source": [
    "print(convert_to_int_l2r(n4, True))"
   ]
  },
  {
   "cell_type": "code",
   "execution_count": 7,
   "metadata": {},
   "outputs": [
    {
     "name": "stdout",
     "output_type": "stream",
     "text": [
      "399\n",
      "210\n"
     ]
    }
   ],
   "source": [
    "print(convert_to_int_l2r(n1) + convert_to_int_l2r(n4))\n",
    "\n",
    "print(convert_to_int_r2l(n1) + convert_to_int_r2l(n4))"
   ]
  },
  {
   "cell_type": "markdown",
   "metadata": {},
   "source": [
    "#### Doubly linked list\n",
    "\n",
    "each node points to two nodes : prev and next\n",
    "\n",
    "Pros:\n",
    "* traverse in both forward/backward direction\n",
    "* delete is more efficient \n",
    "\n",
    "Cons:\n",
    "* extra space for prev pointer"
   ]
  },
  {
   "cell_type": "code",
   "execution_count": 18,
   "metadata": {},
   "outputs": [],
   "source": [
    "class DoublyNode:\n",
    "    def __init__(self, val):\n",
    "        self.val = val\n",
    "        self.next = None\n",
    "        self.prev = None"
   ]
  },
  {
   "cell_type": "markdown",
   "metadata": {},
   "source": [
    "### [Stacks/Queues](https://medium.com/@kojinoshiba/data-structures-in-python-series-2-stacks-queues-8e2a1703d67b)\n",
    "\n",
    "\n",
    "#### stack \n",
    "\n",
    "a data structure with two main operations: push and pop.\n",
    "\n",
    "First-In-Last-Out (FILO)\n",
    "\n"
   ]
  },
  {
   "cell_type": "code",
   "execution_count": 95,
   "metadata": {},
   "outputs": [],
   "source": [
    "class Stack:\n",
    "    def __init__(self):\n",
    "        self.stack = []   # implement stack as list\n",
    "        \n",
    "    def size(self):\n",
    "        return len(self.stack)\n",
    "    \n",
    "    def is_empty(self):\n",
    "        return self.size() == 0\n",
    "    \n",
    "    def pop(self):\n",
    "        if self.is_empty():\n",
    "            return None\n",
    "        else:\n",
    "            return self.stack.pop()\n",
    "        \n",
    "    def push(self,val):\n",
    "        return self.stack.append(val)\n",
    "    \n",
    "    def peek(self):\n",
    "        if self.is_empty():\n",
    "            return None\n",
    "        else:\n",
    "            return self.stack[-1]\n",
    "        "
   ]
  },
  {
   "cell_type": "code",
   "execution_count": 96,
   "metadata": {},
   "outputs": [],
   "source": [
    "s = Stack()\n",
    "s.push(100)\n",
    "s.push(200)\n",
    "s.push(300)"
   ]
  },
  {
   "cell_type": "code",
   "execution_count": 97,
   "metadata": {},
   "outputs": [
    {
     "data": {
      "text/plain": [
       "300"
      ]
     },
     "execution_count": 97,
     "metadata": {},
     "output_type": "execute_result"
    }
   ],
   "source": [
    "s.peek()"
   ]
  },
  {
   "cell_type": "code",
   "execution_count": 98,
   "metadata": {},
   "outputs": [
    {
     "data": {
      "text/plain": [
       "[100, 200, 300]"
      ]
     },
     "execution_count": 98,
     "metadata": {},
     "output_type": "execute_result"
    }
   ],
   "source": [
    "s.stack"
   ]
  },
  {
   "cell_type": "code",
   "execution_count": 99,
   "metadata": {},
   "outputs": [
    {
     "data": {
      "text/plain": [
       "3"
      ]
     },
     "execution_count": 99,
     "metadata": {},
     "output_type": "execute_result"
    }
   ],
   "source": [
    "s.size()"
   ]
  },
  {
   "cell_type": "code",
   "execution_count": 100,
   "metadata": {},
   "outputs": [
    {
     "data": {
      "text/plain": [
       "300"
      ]
     },
     "execution_count": 100,
     "metadata": {},
     "output_type": "execute_result"
    }
   ],
   "source": [
    "s.pop()"
   ]
  },
  {
   "cell_type": "code",
   "execution_count": 101,
   "metadata": {},
   "outputs": [
    {
     "data": {
      "text/plain": [
       "[100, 200]"
      ]
     },
     "execution_count": 101,
     "metadata": {},
     "output_type": "execute_result"
    }
   ],
   "source": [
    "s.stack"
   ]
  },
  {
   "cell_type": "markdown",
   "metadata": {},
   "source": [
    "#### Queue\n",
    "\n",
    "data structure with two main operations: \n",
    "   * enqueue - append from tail\n",
    "   * dequeue - remove from head\n",
    "   \n",
    "First-In-First-Out: FIFO"
   ]
  },
  {
   "cell_type": "code",
   "execution_count": 81,
   "metadata": {},
   "outputs": [],
   "source": [
    "class Queue:\n",
    "    def __init__(self):\n",
    "        self.queue = []\n",
    "\n",
    "    def size(self):\n",
    "        return len(self.queue)\n",
    "    \n",
    "    def is_empty(self):\n",
    "        return self.size() == 0\n",
    "    \n",
    "    def enqueue(self,val):\n",
    "        self.queue.insert(0,val)\n",
    "        \n",
    "    def dequeue(self):\n",
    "        if self.is_empty():\n",
    "            return None\n",
    "        else:\n",
    "            return self.queue.pop()\n",
    "\n",
    "    def peek(self):\n",
    "        if self.is_empty():\n",
    "            return None\n",
    "        else:\n",
    "            return self.queue[-1]"
   ]
  },
  {
   "cell_type": "code",
   "execution_count": 88,
   "metadata": {},
   "outputs": [],
   "source": [
    "q = Queue()\n",
    "q.enqueue(100)\n",
    "q.enqueue(200)\n",
    "q.enqueue(300)"
   ]
  },
  {
   "cell_type": "code",
   "execution_count": 89,
   "metadata": {},
   "outputs": [
    {
     "data": {
      "text/plain": [
       "[300, 200, 100]"
      ]
     },
     "execution_count": 89,
     "metadata": {},
     "output_type": "execute_result"
    }
   ],
   "source": [
    "q.queue"
   ]
  },
  {
   "cell_type": "code",
   "execution_count": 90,
   "metadata": {},
   "outputs": [
    {
     "data": {
      "text/plain": [
       "100"
      ]
     },
     "execution_count": 90,
     "metadata": {},
     "output_type": "execute_result"
    }
   ],
   "source": [
    "q.dequeue()"
   ]
  },
  {
   "cell_type": "code",
   "execution_count": 91,
   "metadata": {},
   "outputs": [
    {
     "data": {
      "text/plain": [
       "[300, 200]"
      ]
     },
     "execution_count": 91,
     "metadata": {},
     "output_type": "execute_result"
    }
   ],
   "source": [
    "q.queue "
   ]
  },
  {
   "cell_type": "code",
   "execution_count": 92,
   "metadata": {},
   "outputs": [],
   "source": [
    "q.enqueue(500)"
   ]
  },
  {
   "cell_type": "code",
   "execution_count": 93,
   "metadata": {},
   "outputs": [
    {
     "data": {
      "text/plain": [
       "[500, 300, 200]"
      ]
     },
     "execution_count": 93,
     "metadata": {},
     "output_type": "execute_result"
    }
   ],
   "source": [
    "q.queue "
   ]
  },
  {
   "cell_type": "code",
   "execution_count": 86,
   "metadata": {},
   "outputs": [
    {
     "data": {
      "text/plain": [
       "200"
      ]
     },
     "execution_count": 86,
     "metadata": {},
     "output_type": "execute_result"
    }
   ],
   "source": [
    "q.peek()"
   ]
  },
  {
   "cell_type": "markdown",
   "metadata": {},
   "source": [
    "#### Stack Queue\n",
    "\n",
    "Queue implementation in 2 stacks"
   ]
  },
  {
   "cell_type": "code",
   "execution_count": 103,
   "metadata": {},
   "outputs": [],
   "source": [
    "class StackQueue:\n",
    "    def __init__(self):\n",
    "        self.stack_enq = Stack()     # used for enqueue\n",
    "        self.stack_deq = Stack()     # used for dequeue\n",
    "    def enqueue(self,val):\n",
    "        self.stack_enq.push(val)\n",
    "    def dequeue(self):\n",
    "        if self.is_empty():\n",
    "            return None\n",
    "        else:\n",
    "            if self.stack_deq.size() == 0:\n",
    "                # copy from stack_enq\n",
    "                for i in range(self.stack_enq.size()):\n",
    "                    self.stack_deq.push(self.stack_enq.pop())\n",
    "            return self.stack_deq.pop()\n",
    "       \n",
    "    def size(self):\n",
    "        return self.stack_enq.size() + self.stack_deq.size()\n",
    "    def is_empty(self):\n",
    "        return self.size() == 0"
   ]
  },
  {
   "cell_type": "code",
   "execution_count": 111,
   "metadata": {},
   "outputs": [
    {
     "name": "stdout",
     "output_type": "stream",
     "text": [
      "0\n",
      "1\n",
      "2\n",
      "3\n",
      "4\n",
      "[0, 1, 2, 3, 4] []\n",
      "0\n",
      "1\n",
      "2\n",
      "3\n",
      "4\n"
     ]
    }
   ],
   "source": [
    "sq = StackQueue()\n",
    "\n",
    "for i in range(5):\n",
    "    print(i)\n",
    "    sq.enqueue(i)\n",
    "\n",
    "print(sq.stack_enq.stack, sq.stack_deq.stack)\n",
    "\n",
    "for i in range(5):\n",
    "    print(sq.dequeue())\n"
   ]
  },
  {
   "cell_type": "code",
   "execution_count": 112,
   "metadata": {},
   "outputs": [
    {
     "name": "stdout",
     "output_type": "stream",
     "text": [
      "0\n",
      "1\n",
      "2\n",
      "3\n",
      "4\n",
      "0\n",
      "1\n",
      "2\n",
      "3\n",
      "4\n"
     ]
    }
   ],
   "source": [
    "q = Queue()\n",
    "\n",
    "for i in range(5):\n",
    "    print(i)\n",
    "    q.enqueue(i)\n",
    "\n",
    "for i in range(5):\n",
    "    print(q.dequeue())\n"
   ]
  },
  {
   "cell_type": "code",
   "execution_count": 113,
   "metadata": {},
   "outputs": [
    {
     "name": "stdout",
     "output_type": "stream",
     "text": [
      "0\n",
      "1\n",
      "2\n",
      "3\n",
      "4\n",
      "4\n",
      "3\n",
      "2\n",
      "1\n",
      "0\n"
     ]
    }
   ],
   "source": [
    "sk = Stack()\n",
    "\n",
    "for i in range(5):\n",
    "    print(i)\n",
    "    sk.push(i)\n",
    "\n",
    "for i in range(5):\n",
    "    print(sk.pop())\n"
   ]
  },
  {
   "cell_type": "code",
   "execution_count": 109,
   "metadata": {},
   "outputs": [
    {
     "data": {
      "text/plain": [
       "1"
      ]
     },
     "execution_count": 109,
     "metadata": {},
     "output_type": "execute_result"
    }
   ],
   "source": [
    "sq.dequeue()"
   ]
  },
  {
   "cell_type": "markdown",
   "metadata": {},
   "source": [
    "#### practice"
   ]
  },
  {
   "cell_type": "markdown",
   "metadata": {},
   "source": [
    "Given a string of brackets, determine if the string is balanced"
   ]
  },
  {
   "cell_type": "code",
   "execution_count": 38,
   "metadata": {},
   "outputs": [],
   "source": [
    "# check brackets to be balanced\n",
    "def balanced_brackets(s):\n",
    "    bra_stack = Stack()\n",
    "    count_right_bra = 0\n",
    "    for c in s:\n",
    "        if c == '(':\n",
    "            bra_stack.push(c)\n",
    "        elif c == ')':\n",
    "            if bra_stack.size() < 1: # empty\n",
    "                count_right_bra += 1\n",
    "#                 return \"brackets unbalanced - found more ')'\"\n",
    "            else:\n",
    "                bra_stack.pop()\n",
    "\n",
    "    if bra_stack.size(): # remaining\n",
    "        return f\"brackets unbalanced - found {bra_stack.size()} more '('\"\n",
    "    elif count_right_bra:\n",
    "        return f\"brackets unbalanced - found {count_right_bra} more ')'\"\n",
    "    else:\n",
    "        return \"brackets balanced\""
   ]
  },
  {
   "cell_type": "code",
   "execution_count": 39,
   "metadata": {},
   "outputs": [
    {
     "data": {
      "text/plain": [
       "\"brackets unbalanced - found 2 more '('\""
      ]
     },
     "execution_count": 39,
     "metadata": {},
     "output_type": "execute_result"
    }
   ],
   "source": [
    "s = \"((((( )))\"\n",
    "balanced_brackets(s)"
   ]
  },
  {
   "cell_type": "code",
   "execution_count": 42,
   "metadata": {},
   "outputs": [
    {
     "data": {
      "text/plain": [
       "\"brackets unbalanced - found 3 more ')'\""
      ]
     },
     "execution_count": 42,
     "metadata": {},
     "output_type": "execute_result"
    }
   ],
   "source": [
    "s = \"( ))))\"\n",
    "balanced_brackets(s)"
   ]
  },
  {
   "cell_type": "code",
   "execution_count": 41,
   "metadata": {},
   "outputs": [
    {
     "data": {
      "text/plain": [
       "'brackets balanced'"
      ]
     },
     "execution_count": 41,
     "metadata": {},
     "output_type": "execute_result"
    }
   ],
   "source": [
    "s = \"(( ))\"\n",
    "balanced_brackets(s)"
   ]
  },
  {
   "cell_type": "markdown",
   "metadata": {},
   "source": [
    "Write a program to sort a stack in ascending order (with biggest items on top). Only use one additional stack."
   ]
  },
  {
   "cell_type": "code",
   "execution_count": 98,
   "metadata": {},
   "outputs": [],
   "source": [
    "l = [1000, -1, 6,1,5, 0, 100]\n",
    "\n",
    "def sort_stack(l):\n",
    "    sk1 = Stack()\n",
    "    for i in l:\n",
    "        sk1.push(i)\n",
    "\n",
    "    sk2 = Stack()  # sorted   \n",
    "\n",
    "    while sk1.size():\n",
    "        print(\"==> \", sk1.stack, sk2.stack)        \n",
    "        n1 = sk1.pop()\n",
    "        print(\"*******\\nn1=\",n1)\n",
    "\n",
    "        n2 = sk2.peak()\n",
    "        if n2 is None or n1 >= n2:\n",
    "            sk2.push(n1)\n",
    "            continue\n",
    "\n",
    "        # insert n1 into stack2 in right order\n",
    "        n_tmp_push = 0\n",
    "        for i in range(sk2.size()+1):\n",
    "            n2 = sk2.peak()\n",
    "            print(\"\\t peak n2=\",n2)\n",
    "            if n2 is None or n1 >= n2:\n",
    "                sk2.push(n1)\n",
    "                # copy back from sk1\n",
    "                for j in range(n_tmp_push):\n",
    "                    n1t = sk1.pop()\n",
    "                    print(\"\\t push back=\",n1t)\n",
    "                    sk2.push(n1t)\n",
    "                n_tmp_push = 0\n",
    "                break\n",
    "\n",
    "            n2 = sk2.pop()\n",
    "            print(\"\\t pop n2=\",n2)\n",
    "            sk1.push(n2)  # store n2 in stack1 temporarily\n",
    "            n_tmp_push += 1\n",
    "            print(\"\\t n_tmp_push=\",n_tmp_push)\n",
    "\n",
    "\n",
    "    return sk2.stack       "
   ]
  },
  {
   "cell_type": "code",
   "execution_count": 99,
   "metadata": {
    "scrolled": true
   },
   "outputs": [
    {
     "name": "stdout",
     "output_type": "stream",
     "text": [
      "==>  [1000, -1, 6, 1, 5, 0, 100] []\n",
      "*******\n",
      "n1= 100\n",
      "==>  [1000, -1, 6, 1, 5, 0] [100]\n",
      "*******\n",
      "n1= 0\n",
      "\t peak n2= 100\n",
      "\t pop n2= 100\n",
      "\t n_tmp_push= 1\n",
      "\t peak n2= None\n",
      "\t push back= 100\n",
      "==>  [1000, -1, 6, 1, 5] [0, 100]\n",
      "*******\n",
      "n1= 5\n",
      "\t peak n2= 100\n",
      "\t pop n2= 100\n",
      "\t n_tmp_push= 1\n",
      "\t peak n2= 0\n",
      "\t push back= 100\n",
      "==>  [1000, -1, 6, 1] [0, 5, 100]\n",
      "*******\n",
      "n1= 1\n",
      "\t peak n2= 100\n",
      "\t pop n2= 100\n",
      "\t n_tmp_push= 1\n",
      "\t peak n2= 5\n",
      "\t pop n2= 5\n",
      "\t n_tmp_push= 2\n",
      "\t peak n2= 0\n",
      "\t push back= 5\n",
      "\t push back= 100\n",
      "==>  [1000, -1, 6] [0, 1, 5, 100]\n",
      "*******\n",
      "n1= 6\n",
      "\t peak n2= 100\n",
      "\t pop n2= 100\n",
      "\t n_tmp_push= 1\n",
      "\t peak n2= 5\n",
      "\t push back= 100\n",
      "==>  [1000, -1] [0, 1, 5, 6, 100]\n",
      "*******\n",
      "n1= -1\n",
      "\t peak n2= 100\n",
      "\t pop n2= 100\n",
      "\t n_tmp_push= 1\n",
      "\t peak n2= 6\n",
      "\t pop n2= 6\n",
      "\t n_tmp_push= 2\n",
      "\t peak n2= 5\n",
      "\t pop n2= 5\n",
      "\t n_tmp_push= 3\n",
      "\t peak n2= 1\n",
      "\t pop n2= 1\n",
      "\t n_tmp_push= 4\n",
      "\t peak n2= 0\n",
      "\t pop n2= 0\n",
      "\t n_tmp_push= 5\n",
      "\t peak n2= None\n",
      "\t push back= 0\n",
      "\t push back= 1\n",
      "\t push back= 5\n",
      "\t push back= 6\n",
      "\t push back= 100\n",
      "==>  [1000] [-1, 0, 1, 5, 6, 100]\n",
      "*******\n",
      "n1= 1000\n",
      "[-1, 0, 1, 5, 6, 100, 1000]\n"
     ]
    }
   ],
   "source": [
    "print(sort_stack(l))"
   ]
  },
  {
   "cell_type": "markdown",
   "metadata": {},
   "source": [
    "# [Heap](https://claude.ai/chat/fd741cd4-35fb-41dc-852b-c32975bd7d74)\n",
    "\n",
    "https://www.geeksforgeeks.org/heap-queue-or-heapq-in-python/"
   ]
  },
  {
   "cell_type": "markdown",
   "metadata": {},
   "source": [
    "A heap in computer science refers to a specialized tree-based data structure that satisfies the heap property. \n",
    "\n",
    "In Python, heaps are implemented as min-heaps by default, meaning the smallest element is always at the root of the structure, making it efficient to access.\n",
    "\n",
    "Useful priority queue.\n",
    "\n",
    "There are two main types:\n",
    "\n",
    "## Types of Heaps\n",
    "\n",
    "**Max Heap**: The parent node is always greater than or equal to its children. The largest element is at the root.\n",
    "\n",
    "**Min Heap**: The parent node is always less than or equal to its children. The smallest element is at the root.\n",
    "\n",
    "## Key Properties\n",
    "\n",
    "The heap is typically implemented as a complete binary tree, meaning all levels are filled except possibly the last level, which fills from left to right. This allows efficient array representation where for any element at index i:\n",
    "- Left child is at index 2i + 1\n",
    "- Right child is at index 2i + 2\n",
    "- Parent is at index (i-1)/2\n",
    "\n",
    "## Common Operations\n",
    "\n",
    "Heaps support several essential operations that help manage data efficiently while maintaining heap property. These operations are crucial in scenarios like priority queues, scheduling and graph algorithms. Operations are:\n",
    "\n",
    "- Create (heapify): Convert a regular list into a valid min-heap using heapq.heapify().\n",
    "- Push (heappush): Adds an element to the heap while keeping the heap property intact.\n",
    "- Pop (heappop): Removes and returns the smallest element from the heap.\n",
    "- Peek: Access the smallest element without removing it using heap[0].\n",
    "- Push and Pop (heappushpop): Push a new element and pop the smallest in a single step.\n",
    "- Replace (heapreplace): Pop the smallest and push a new element in one step.\n",
    "\n",
    "\n",
    "**Insertion**: Add the new element at the end of the heap, then \"bubble up\" by comparing with parent and swapping if necessary until heap property is restored. Time complexity: O(log n)\n",
    "\n",
    "**Extraction**: Remove the root (min/max element), replace it with the last element, then \"bubble down\" by comparing with children and swapping with the appropriate child until heap property is restored. Time complexity: O(log n)\n",
    "\n",
    "**Peek**: View the root element without removing it. Time complexity: O(1)\n",
    "\n",
    "## Common Applications\n",
    "\n",
    "- Priority Queues: Process tasks by importance\n",
    "- Dijkstra's Algorithm: Find shortest paths\n",
    "- Heap Sort: Sort arrays in O(n log n)\n",
    "- Top K Problems: Find k largest/smallest elements\n",
    "\n",
    "## Time Complexities\n",
    "\n",
    "- Insert: O(log n)\n",
    "- Extract min/max: O(log n)\n",
    "- Peek (view root): O(1)\n",
    "- Build heap from array: O(n)\n",
    "\n",
    "\n",
    "The heap's efficiency in maintaining the min/max element at the root while allowing relatively fast insertions and deletions makes it invaluable for many algorithmic applications."
   ]
  },
  {
   "cell_type": "markdown",
   "metadata": {},
   "source": [
    "### Built-in type in python"
   ]
  },
  {
   "cell_type": "code",
   "execution_count": 47,
   "metadata": {},
   "outputs": [],
   "source": [
    "# Python code to demonstrate working of  \n",
    "# heapify(), heappush() and heappop() \n",
    "  \n",
    "# importing \"heapq\" to implement heap queue \n",
    "import heapq \n",
    "  "
   ]
  },
  {
   "cell_type": "code",
   "execution_count": 52,
   "metadata": {},
   "outputs": [
    {
     "name": "stdout",
     "output_type": "stream",
     "text": [
      "The created heap is as a complete binary tree :\n",
      "[1, 3, 9, 7, 5, 10, 15]\n"
     ]
    }
   ],
   "source": [
    "# initializing list \n",
    "li = [5, 7, 9, 1, 3, 10, 15] \n",
    "  \n",
    "# using heapify to convert list into heap \n",
    "heapq.heapify(li) \n",
    "  \n",
    "# printing created heap \n",
    "print (\"The created heap is as a complete binary tree :\") \n",
    "print (list(li)) \n",
    "  "
   ]
  },
  {
   "cell_type": "code",
   "execution_count": 54,
   "metadata": {},
   "outputs": [
    {
     "name": "stdout",
     "output_type": "stream",
     "text": [
      "The modified heap after push is : \n",
      "[1, 3, 9, 4, 5, 10, 15, 7, 4]\n"
     ]
    }
   ],
   "source": [
    "# using heappush() to push elements into heap \n",
    "# pushes 4 \n",
    "heapq.heappush(li,4) \n",
    "  \n",
    "# printing modified heap \n",
    "print (\"The modified heap after push is : \") \n",
    "print (list(li)) \n",
    "  "
   ]
  },
  {
   "cell_type": "code",
   "execution_count": 55,
   "metadata": {},
   "outputs": [
    {
     "name": "stdout",
     "output_type": "stream",
     "text": [
      "The popped and smallest element is : \n",
      "1\n",
      "The modified heap after pop is : \n",
      "[3, 4, 9, 4, 5, 10, 15, 7]\n"
     ]
    }
   ],
   "source": [
    "# using heappop() to pop smallest element \n",
    "print (\"The popped and smallest element is : \") \n",
    "print (heapq.heappop(li)) \n",
    "\n",
    "print (\"The modified heap after pop is : \") \n",
    "print (list(li)) "
   ]
  },
  {
   "cell_type": "markdown",
   "metadata": {},
   "source": [
    "### Custom Implementation in python list\n",
    "\n",
    "\n",
    "https://claude.ai/chat/fd741cd4-35fb-41dc-852b-c32975bd7d74"
   ]
  },
  {
   "cell_type": "code",
   "execution_count": 66,
   "metadata": {},
   "outputs": [],
   "source": [
    "import math\n",
    "\n",
    "class MinHeap:\n",
    "    def __init__(self, initial_list=None, allow_duplicates=True):\n",
    "        \"\"\"\n",
    "        Initialize MinHeap with optional initial list and duplicate policy\n",
    "        \n",
    "        Args:\n",
    "            initial_list: List to convert into heap\n",
    "            allow_duplicates: If False, prevents duplicate elements\n",
    "        \"\"\"\n",
    "        self.allow_duplicates = allow_duplicates\n",
    "        self.heap = []\n",
    "        self.elements_set = set() if not allow_duplicates else None\n",
    "        \n",
    "        if initial_list is not None:\n",
    "            if not allow_duplicates:\n",
    "                # Remove duplicates while preserving order\n",
    "                seen = set()\n",
    "                unique_items = []\n",
    "                for item in initial_list:\n",
    "                    if item not in seen:\n",
    "                        unique_items.append(item)\n",
    "                        seen.add(item)\n",
    "                self.heap = unique_items\n",
    "                self.elements_set = seen.copy()\n",
    "            else:\n",
    "                self.heap = initial_list.copy()\n",
    "            \n",
    "            self.heapify()\n",
    "    \n",
    "    def _parent_index(self, i):\n",
    "        \"\"\"Get parent index\"\"\"\n",
    "        return (i - 1) // 2\n",
    "    \n",
    "    def _left_child_index(self, i):\n",
    "        \"\"\"Get left child index\"\"\"\n",
    "        return 2 * i + 1\n",
    "    \n",
    "    def _right_child_index(self, i):\n",
    "        \"\"\"Get right child index\"\"\"\n",
    "        return 2 * i + 2\n",
    "    \n",
    "    def _has_parent(self, i):\n",
    "        \"\"\"Check if node has parent\"\"\"\n",
    "        return self._parent_index(i) >= 0\n",
    "    \n",
    "    def _has_left_child(self, i):\n",
    "        \"\"\"Check if node has left child\"\"\"\n",
    "        return self._left_child_index(i) < len(self.heap)\n",
    "    \n",
    "    def _has_right_child(self, i):\n",
    "        \"\"\"Check if node has right child\"\"\"\n",
    "        return self._right_child_index(i) < len(self.heap)\n",
    "    \n",
    "    def _parent(self, i):\n",
    "        \"\"\"Get parent value\"\"\"\n",
    "        return self.heap[self._parent_index(i)]\n",
    "    \n",
    "    def _left_child(self, i):\n",
    "        \"\"\"Get left child value\"\"\"\n",
    "        return self.heap[self._left_child_index(i)]\n",
    "    \n",
    "    def _right_child(self, i):\n",
    "        \"\"\"Get right child value\"\"\"\n",
    "        return self.heap[self._right_child_index(i)]\n",
    "    \n",
    "    def _swap(self, i, j):\n",
    "        \"\"\"Swap elements at indices i and j\"\"\"\n",
    "        self.heap[i], self.heap[j] = self.heap[j], self.heap[i]\n",
    "    \n",
    "    def _bubble_up(self, index):\n",
    "        \"\"\"\n",
    "        Bubble up element at index to maintain heap property\n",
    "        Used after insertion\n",
    "        \"\"\"\n",
    "        while (self._has_parent(index) and \n",
    "               self._parent(index) > self.heap[index]):\n",
    "            parent_idx = self._parent_index(index)\n",
    "            self._swap(index, parent_idx)\n",
    "            index = parent_idx\n",
    "    \n",
    "    def _bubble_down(self, index):\n",
    "        \"\"\"\n",
    "        Bubble down element at index to maintain heap property\n",
    "        Used after extraction\n",
    "        \"\"\"\n",
    "        while self._has_left_child(index):\n",
    "            # Find smallest child\n",
    "            smaller_child_idx = self._left_child_index(index)\n",
    "            \n",
    "            if (self._has_right_child(index) and \n",
    "                self._right_child(index) < self._left_child(index)):\n",
    "                smaller_child_idx = self._right_child_index(index)\n",
    "            \n",
    "            # If current element is smaller than smallest child, we're done\n",
    "            if self.heap[index] < self.heap[smaller_child_idx]:\n",
    "                break\n",
    "            \n",
    "            # Otherwise, swap with smaller child and continue\n",
    "            self._swap(index, smaller_child_idx)\n",
    "            index = smaller_child_idx\n",
    "    \n",
    "    def heapify(self):\n",
    "        \"\"\"\n",
    "        Convert current list into a valid min-heap from scratch\n",
    "        Uses bottom-up approach - start from last non-leaf node\n",
    "        Time complexity: O(n)\n",
    "        \"\"\"\n",
    "        if len(self.heap) <= 1:\n",
    "            return\n",
    "        \n",
    "        # Start from last non-leaf node and bubble down\n",
    "        start_idx = self._parent_index(len(self.heap) - 1)\n",
    "        \n",
    "        for i in range(start_idx, -1, -1):\n",
    "            self._bubble_down(i)\n",
    "        \n",
    "        print(f\"Heapified: {self.heap}\")\n",
    "    \n",
    "    def push(self, val):\n",
    "        \"\"\"\n",
    "        Add element to heap (manual implementation of heappush)\n",
    "        Time complexity: O(log n)\n",
    "        \"\"\"\n",
    "        # Check for duplicates if not allowed\n",
    "        if not self.allow_duplicates:\n",
    "            if val in self.elements_set:\n",
    "                print(f\"Duplicate {val} not allowed!\")\n",
    "                return False\n",
    "            self.elements_set.add(val)\n",
    "        \n",
    "        # Add to end of heap\n",
    "        self.heap.append(val)\n",
    "        \n",
    "        # Bubble up to maintain heap property\n",
    "        self._bubble_up(len(self.heap) - 1)\n",
    "        \n",
    "        print(f\"Pushed {val}: {self.heap}\")\n",
    "        return True\n",
    "    \n",
    "    def pop(self):\n",
    "        \"\"\"\n",
    "        Remove and return smallest element (manual implementation of heappop)\n",
    "        Time complexity: O(log n)\n",
    "        \"\"\"\n",
    "        if len(self.heap) == 0:\n",
    "            print(\"Cannot pop from empty heap\")\n",
    "            return None\n",
    "        \n",
    "        if len(self.heap) == 1:\n",
    "            val = self.heap.pop()\n",
    "            if not self.allow_duplicates:\n",
    "                self.elements_set.remove(val)\n",
    "            print(f\"Popped {val}: {self.heap}\")\n",
    "            return val\n",
    "        \n",
    "        # Store min value\n",
    "        min_val = self.heap[0]\n",
    "        \n",
    "        # Move last element to root\n",
    "        self.heap[0] = self.heap.pop()\n",
    "        \n",
    "        # Update set if needed\n",
    "        if not self.allow_duplicates:\n",
    "            self.elements_set.remove(min_val)\n",
    "        \n",
    "        # Bubble down to maintain heap property\n",
    "        self._bubble_down(0)\n",
    "        \n",
    "        print(f\"Popped {min_val}: {self.heap}\")\n",
    "        return min_val\n",
    "    \n",
    "    def peek(self):\n",
    "        \"\"\"\n",
    "        Access smallest element without removing it\n",
    "        Time complexity: O(1)\n",
    "        \"\"\"\n",
    "        if len(self.heap) == 0:\n",
    "            return None\n",
    "        return self.heap[0]\n",
    "    \n",
    "    def heappushpop(self, val):\n",
    "        \"\"\"\n",
    "        Push new element and pop smallest in single step (manual implementation)\n",
    "        More efficient than separate push() and pop()\n",
    "        Time complexity: O(log n)\n",
    "        \"\"\"\n",
    "        # Check for duplicates if not allowed\n",
    "        if not self.allow_duplicates and val in self.elements_set:\n",
    "            print(f\"Duplicate {val} detected in pushpop, only popping\")\n",
    "            return self.pop()\n",
    "        \n",
    "        if len(self.heap) == 0:\n",
    "            if not self.allow_duplicates:\n",
    "                self.elements_set.add(val)\n",
    "            print(f\"Empty heap, pushpop just returns {val}\")\n",
    "            return val\n",
    "        \n",
    "        # If new value is smaller than root, just return it\n",
    "        if val < self.heap[0]:\n",
    "            print(f\"Pushpop {val} (immediately returned as it's smallest): {self.heap}\")\n",
    "            return val\n",
    "        \n",
    "        # Otherwise, replace root with new value and bubble down\n",
    "        result = self.heap[0]\n",
    "        self.heap[0] = val\n",
    "        \n",
    "        # Update set if needed\n",
    "        if not self.allow_duplicates:\n",
    "            self.elements_set.remove(result)\n",
    "            self.elements_set.add(val)\n",
    "        \n",
    "        self._bubble_down(0)\n",
    "        \n",
    "        print(f\"Pushpop {val} (returned {result}): {self.heap}\")\n",
    "        return result\n",
    "    \n",
    "    def heapreplace(self, val):\n",
    "        \"\"\"\n",
    "        Pop smallest and push new element in one step (manual implementation)\n",
    "        More efficient than separate pop() and push()\n",
    "        Time complexity: O(log n)\n",
    "        \"\"\"\n",
    "        if len(self.heap) == 0:\n",
    "            if not self.allow_duplicates:\n",
    "                if val in self.elements_set:\n",
    "                    print(f\"Cannot replace in empty heap with duplicate {val}\")\n",
    "                    return None\n",
    "                self.elements_set.add(val)\n",
    "            self.heap.append(val)\n",
    "            print(f\"Empty heap, replace just adds {val}\")\n",
    "            return None\n",
    "        \n",
    "        # Check for duplicates if not allowed\n",
    "        if not self.allow_duplicates and val in self.elements_set:\n",
    "            print(f\"Duplicate {val} detected in replace, operation cancelled\")\n",
    "            return None\n",
    "        \n",
    "        # Replace root with new value\n",
    "        result = self.heap[0]\n",
    "        self.heap[0] = val\n",
    "        \n",
    "        # Update set if needed\n",
    "        if not self.allow_duplicates:\n",
    "            self.elements_set.remove(result)\n",
    "            self.elements_set.add(val)\n",
    "        \n",
    "        # Bubble down to maintain heap property\n",
    "        self._bubble_down(0)\n",
    "        \n",
    "        print(f\"Replace {result} with {val}: {self.heap}\")\n",
    "        return result\n",
    "    \n",
    "    def size(self):\n",
    "        \"\"\"Return number of elements in heap\"\"\"\n",
    "        return len(self.heap)\n",
    "    \n",
    "    def is_empty(self):\n",
    "        \"\"\"Check if heap is empty\"\"\"\n",
    "        return len(self.heap) == 0\n",
    "    \n",
    "    def contains(self, val):\n",
    "        \"\"\"\n",
    "        Check if element exists in heap\n",
    "        O(1) if duplicates not allowed, O(n) otherwise\n",
    "        \"\"\"\n",
    "        if not self.allow_duplicates:\n",
    "            return val in self.elements_set\n",
    "        return val in self.heap\n",
    "    \n",
    "    def get_heap_list(self):\n",
    "        \"\"\"Return copy of heap array\"\"\"\n",
    "        return self.heap.copy()\n",
    "    \n",
    "    def clear(self):\n",
    "        \"\"\"Clear all elements from heap\"\"\"\n",
    "        self.heap.clear()\n",
    "        if not self.allow_duplicates:\n",
    "            self.elements_set.clear()\n",
    "    \n",
    "    def show_tree(self, sep=\"#\"):\n",
    "        \"\"\"\n",
    "        Visualize this heap as a complete binary tree\n",
    "        \n",
    "        Args:\n",
    "            sep: Separator between left and right children (default: \"#\")\n",
    "        \"\"\"\n",
    "        self.show_heap_as_complete_binary_tree(self.heap, sep)\n",
    "    \n",
    "    @staticmethod\n",
    "    def show_heap_as_complete_binary_tree(heap, sep=\"#\"):\n",
    "        \"\"\"\n",
    "        Static method to visualize any heap array as a complete binary tree\n",
    "        Can be called on any list/array representing a heap\n",
    "        \n",
    "        Usage:\n",
    "            MinHeap.show_heap_as_complete_binary_tree([1, 3, 2, 4, 5, 6])\n",
    "            # or\n",
    "            my_heap.show_tree()\n",
    "        \"\"\"\n",
    "        if not heap:\n",
    "            print(\"Empty heap\")\n",
    "            return\n",
    "        \n",
    "        n = len(heap)\n",
    "        height = int(math.log2(n)) + 1 if n > 0 else 0\n",
    "        \n",
    "        print(f\"\\nHeap as Complete Binary Tree (size={n}, height={height}):\")\n",
    "        print(\"=\" * 50)\n",
    "        \n",
    "        level = 0\n",
    "        index = 0\n",
    "        \n",
    "        while index < n:\n",
    "            nodes_in_level = min(2**level, n - index)\n",
    "            spaces_before = \" \" * (4 * (2**(height - level - 1) - 1))\n",
    "            spaces_between = \" \" * (4 * (2**(height - level) - 1))\n",
    "            \n",
    "            print(spaces_before, end=\"\")\n",
    "            for i in range(nodes_in_level):\n",
    "                if i > 0:\n",
    "                    # Add separator between siblings (left and right children of same parent)\n",
    "                    if i % 2 == 1:  # Right child (odd index in level)\n",
    "                        print(f\"   {sep} \", end=\"\")\n",
    "                    else:  # Left child of different parent\n",
    "                        print(spaces_between, end=\"\")\n",
    "                print(f\"{heap[index + i]:3}\", end=\"\")\n",
    "            print()\n",
    "            \n",
    "            index += nodes_in_level\n",
    "            level += 1\n",
    "        \n",
    "        print(f\"\\nArray representation: {heap}\")\n",
    "\n",
    "\n",
    "\n",
    "\n",
    "def demonstrate_heap_operations(allow_duplicates=True):\n",
    "    \"\"\"Demonstrate all heap operations implemented from scratch\"\"\"\n",
    "    print(\"=== MinHeap Implementation From Scratch ===\\n\")\n",
    "    \n",
    "    # Test with duplicates allowed\n",
    "    print(\"--- Testing with duplicates allowed ---\")\n",
    "    initial_data = [4, 1, 3, 2, 16, 9, 10, 14, 8, 7, 3, 1]\n",
    "    print(f\"Initial data: {initial_data}\")\n",
    "    \n",
    "    heap1 = MinHeap(initial_data, allow_duplicates=allow_duplicates)\n",
    "    heap1.show_tree()\n",
    "    \n",
    "    print(f\"\\nPeek: {heap1.peek()}\")\n",
    "    \n",
    "    # Test push\n",
    "    heap1.push(0)\n",
    "    heap1.show_tree()\n",
    "    \n",
    "    # Test pop\n",
    "    print(f\"\\nPopping 3 elements:\")\n",
    "    for _ in range(3):\n",
    "        heap1.pop()\n",
    "    heap1.show_tree()\n",
    "    \n",
    "    # Test heappushpop\n",
    "    print(f\"\\nTesting heappushpop(5):\")\n",
    "    result = heap1.heappushpop(5)\n",
    "    heap1.show_tree()\n",
    "    \n",
    "    # Test heapreplace\n",
    "    print(f\"\\nTesting heapreplace(12):\")\n",
    "    result = heap1.heapreplace(12)\n",
    "    heap1.show_tree()\n",
    "    \n",
    "    # Test with duplicates NOT allowed\n",
    "    print(f\"\\n{'='*60}\")\n",
    "    print(\"--- Testing with duplicates NOT allowed ---\")\n",
    "    \n",
    "    heap2 = MinHeap(initial_data, allow_duplicates=False)\n",
    "    heap2.show_tree()\n",
    "    \n",
    "    print(f\"\\nTrying to push duplicate:\")\n",
    "    heap2.push(3)  # Should fail\n",
    "    \n",
    "    print(f\"\\nTrying to push new element:\")\n",
    "    heap2.push(0)  # Should succeed\n",
    "    heap2.show_tree()\n",
    "    \n",
    "    print(f\"\\nTesting heappushpop with duplicate:\")\n",
    "    result = heap2.heappushpop(1)  # 1 already exists\n",
    "    \n",
    "    print(f\"\\nTesting heapreplace with duplicate:\")\n",
    "    result = heap2.heapreplace(2)  # 2 already exists\n",
    "\n",
    "\n",
    "def demonstrate_heapify_process(allow_duplicates=True):\n",
    "    \"\"\"Show step-by-step heapify process\"\"\"\n",
    "    print(f\"\\n{'='*60}\")\n",
    "    print(\"=== Understanding Heapify Process ===\\n\")\n",
    "    \n",
    "    data = [9, 5, 6, 2, 3, 7, 1, 4, 8]\n",
    "    print(f\"Original array: {data}\")\n",
    "    \n",
    "    # Show the tree before heapify\n",
    "    print(f\"\\nBefore heapify (not a valid heap):\")\n",
    "    MinHeap.show_heap_as_complete_binary_tree(data, sep=\"<>\")\n",
    "    \n",
    "    # Manual step-by-step heapify explanation\n",
    "    print(f\"\\nHeapify process:\")\n",
    "    print(f\"1. Start from last non-leaf node (index {(len(data)-1-1)//2})\")\n",
    "    print(f\"2. For each node, bubble down to maintain min-heap property\")\n",
    "    print(f\"3. Continue until we reach the root\")\n",
    "    \n",
    "    heap = MinHeap(data, allow_duplicates)\n",
    "    print(f\"\\nAfter heapify (using different separator):\")\n",
    "    heap.show_tree(sep=\"||\")\n",
    "    \n",
    "    print(f\"\\nTime complexity analysis:\")\n",
    "    print(f\"- Heapify: O(n) - more efficient than n insertions\")\n",
    "    print(f\"- Individual operations: O(log n)\")\n",
    "    print(f\"- Space complexity: O(1) additional space\")\n",
    "\n",
    "\n",
    "    \n",
    "def print_summary():\n",
    "    print(f\"\\n{'='*60}\")\n",
    "    print(\"=== Educational Summary ===\")\n",
    "    print(\"Key concepts implemented from scratch:\")\n",
    "    print(\"1. Heapify: Bottom-up approach, O(n) time\")\n",
    "    print(\"2. Push: Add to end, bubble up, O(log n) time\")\n",
    "    print(\"3. Pop: Replace root with last, bubble down, O(log n) time\")\n",
    "    print(\"4. Peek: Direct access to root, O(1) time\")\n",
    "    print(\"5. Pushpop: Optimized push+pop, O(log n) time\")\n",
    "    print(\"6. Replace: Optimized pop+push, O(log n) time\")\n",
    "    print(\"7. Duplicate handling: Optional O(1) detection with set\")\n",
    "    \n",
    "\n",
    "if __name__ == \"__main__\":\n",
    "    allow_duplicates=False\n",
    "\n",
    "    demonstrate_heap_operations(allow_duplicates)\n",
    "    demonstrate_heapify_process(allow_duplicates)\n",
    "    \n",
    "    print_summary()"
   ]
  },
  {
   "cell_type": "code",
   "execution_count": 73,
   "metadata": {},
   "outputs": [
    {
     "name": "stdout",
     "output_type": "stream",
     "text": [
      "=== MinHeap Implementation From Scratch ===\n",
      "\n",
      "--- Testing with duplicates allowed ---\n",
      "Initial data: [4, 1, 3, 2, 16, 9, 10, 14, 8, 7, 3, 1]\n",
      "Heapified: [1, 2, 1, 4, 3, 3, 10, 14, 8, 7, 16, 9]\n",
      "\n",
      "Heap as Complete Binary Tree (size=12, height=4):\n",
      "==================================================\n",
      "                              1\n",
      "              2   #   1\n",
      "      4   #   3              3   #  10\n",
      " 14   #   8      7   #  16      9\n",
      "\n",
      "Array representation: [1, 2, 1, 4, 3, 3, 10, 14, 8, 7, 16, 9]\n",
      "\n",
      "Peek: 1\n",
      "Pushed 0: [0, 2, 1, 4, 3, 1, 10, 14, 8, 7, 16, 9, 3]\n",
      "\n",
      "Heap as Complete Binary Tree (size=13, height=4):\n",
      "==================================================\n",
      "                              0\n",
      "              2   #   1\n",
      "      4   #   3              1   #  10\n",
      " 14   #   8      7   #  16      9   #   3\n",
      "\n",
      "Array representation: [0, 2, 1, 4, 3, 1, 10, 14, 8, 7, 16, 9, 3]\n",
      "\n",
      "Popping 3 elements:\n",
      "Popped 0: [1, 2, 1, 4, 3, 3, 10, 14, 8, 7, 16, 9]\n",
      "Popped 1: [1, 2, 3, 4, 3, 9, 10, 14, 8, 7, 16]\n",
      "Popped 1: [2, 3, 3, 4, 7, 9, 10, 14, 8, 16]\n",
      "\n",
      "Heap as Complete Binary Tree (size=10, height=4):\n",
      "==================================================\n",
      "                              2\n",
      "              3   #   3\n",
      "      4   #   7              9   #  10\n",
      " 14   #   8     16\n",
      "\n",
      "Array representation: [2, 3, 3, 4, 7, 9, 10, 14, 8, 16]\n",
      "\n",
      "Testing heappushpop(5):\n",
      "Pushpop 5 (returned 2): [3, 4, 3, 5, 7, 9, 10, 14, 8, 16]\n",
      "\n",
      "Heap as Complete Binary Tree (size=10, height=4):\n",
      "==================================================\n",
      "                              3\n",
      "              4   #   3\n",
      "      5   #   7              9   #  10\n",
      " 14   #   8     16\n",
      "\n",
      "Array representation: [3, 4, 3, 5, 7, 9, 10, 14, 8, 16]\n",
      "\n",
      "Testing heapreplace(12):\n",
      "Replace 3 with 12: [3, 4, 9, 5, 7, 12, 10, 14, 8, 16]\n",
      "\n",
      "Heap as Complete Binary Tree (size=10, height=4):\n",
      "==================================================\n",
      "                              3\n",
      "              4   #   9\n",
      "      5   #   7             12   #  10\n",
      " 14   #   8     16\n",
      "\n",
      "Array representation: [3, 4, 9, 5, 7, 12, 10, 14, 8, 16]\n",
      "\n",
      "============================================================\n",
      "--- Testing with duplicates NOT allowed ---\n",
      "Heapified: [1, 2, 3, 4, 7, 9, 10, 14, 8, 16]\n",
      "\n",
      "Heap as Complete Binary Tree (size=10, height=4):\n",
      "==================================================\n",
      "                              1\n",
      "              2   #   3\n",
      "      4   #   7              9   #  10\n",
      " 14   #   8     16\n",
      "\n",
      "Array representation: [1, 2, 3, 4, 7, 9, 10, 14, 8, 16]\n",
      "\n",
      "Trying to push duplicate:\n",
      "Duplicate 3 not allowed!\n",
      "\n",
      "Trying to push new element:\n",
      "Pushed 0: [0, 1, 3, 4, 2, 9, 10, 14, 8, 16, 7]\n",
      "\n",
      "Heap as Complete Binary Tree (size=11, height=4):\n",
      "==================================================\n",
      "                              0\n",
      "              1   #   3\n",
      "      4   #   2              9   #  10\n",
      " 14   #   8     16   #   7\n",
      "\n",
      "Array representation: [0, 1, 3, 4, 2, 9, 10, 14, 8, 16, 7]\n",
      "\n",
      "Testing heappushpop with duplicate:\n",
      "Duplicate 1 detected in pushpop, only popping\n",
      "Popped 0: [1, 2, 3, 4, 7, 9, 10, 14, 8, 16]\n",
      "\n",
      "Testing heapreplace with duplicate:\n",
      "Duplicate 2 detected in replace, operation cancelled\n",
      "\n",
      "============================================================\n",
      "=== Understanding Heapify Process ===\n",
      "\n",
      "Original array: [9, 5, 6, 2, 3, 7, 1, 4, 8]\n",
      "\n",
      "Before heapify (not a valid heap):\n",
      "\n",
      "Heap as Complete Binary Tree (size=9, height=4):\n",
      "==================================================\n",
      "                              9\n",
      "              5   <>   6\n",
      "      2   <>   3              7   <>   1\n",
      "  4   <>   8\n",
      "\n",
      "Array representation: [9, 5, 6, 2, 3, 7, 1, 4, 8]\n",
      "\n",
      "Heapify process:\n",
      "1. Start from last non-leaf node (index 3)\n",
      "2. For each node, bubble down to maintain min-heap property\n",
      "3. Continue until we reach the root\n",
      "Heapified: [1, 2, 6, 4, 3, 7, 9, 5, 8]\n",
      "\n",
      "After heapify (using different separator):\n",
      "\n",
      "Heap as Complete Binary Tree (size=9, height=4):\n",
      "==================================================\n",
      "                              1\n",
      "              2   ||   6\n",
      "      4   ||   3              7   ||   9\n",
      "  5   ||   8\n",
      "\n",
      "Array representation: [1, 2, 6, 4, 3, 7, 9, 5, 8]\n",
      "\n",
      "Time complexity analysis:\n",
      "- Heapify: O(n) - more efficient than n insertions\n",
      "- Individual operations: O(log n)\n",
      "- Space complexity: O(1) additional space\n",
      "\n",
      "============================================================\n",
      "=== Educational Summary ===\n",
      "Key concepts implemented from scratch:\n",
      "1. Heapify: Bottom-up approach, O(n) time\n",
      "2. Push: Add to end, bubble up, O(log n) time\n",
      "3. Pop: Replace root with last, bubble down, O(log n) time\n",
      "4. Peek: Direct access to root, O(1) time\n",
      "5. Pushpop: Optimized push+pop, O(log n) time\n",
      "6. Replace: Optimized pop+push, O(log n) time\n",
      "7. Duplicate handling: Optional O(1) detection with set\n"
     ]
    }
   ],
   "source": [
    "if __name__ == \"__main__\":\n",
    "    \n",
    "    demonstrate_heap_operations()\n",
    "    demonstrate_heapify_process()\n",
    "    \n",
    "    print_summary()"
   ]
  },
  {
   "cell_type": "code",
   "execution_count": null,
   "metadata": {},
   "outputs": [],
   "source": []
  }
 ],
 "metadata": {
  "kernelspec": {
   "display_name": "Python 3 (ipykernel)",
   "language": "python",
   "name": "python3"
  },
  "language_info": {
   "codemirror_mode": {
    "name": "ipython",
    "version": 3
   },
   "file_extension": ".py",
   "mimetype": "text/x-python",
   "name": "python",
   "nbconvert_exporter": "python",
   "pygments_lexer": "ipython3",
   "version": "3.9.13"
  },
  "nbTranslate": {
   "displayLangs": [
    "*"
   ],
   "hotkey": "alt-t",
   "langInMainMenu": true,
   "sourceLang": "en",
   "targetLang": "fr",
   "useGoogleTranslate": true
  },
  "toc": {
   "base_numbering": 1,
   "nav_menu": {},
   "number_sections": true,
   "sideBar": true,
   "skip_h1_title": false,
   "title_cell": "Table of Contents",
   "title_sidebar": "Contents",
   "toc_cell": false,
   "toc_position": {},
   "toc_section_display": true,
   "toc_window_display": false
  }
 },
 "nbformat": 4,
 "nbformat_minor": 2
}
