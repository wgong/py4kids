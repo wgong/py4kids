{
 "cells": [
  {
   "cell_type": "markdown",
   "metadata": {},
   "source": [
    "## [DefaultDict Tutorial](https://www.hackerrank.com/challenges/defaultdict-tutorial/problem)"
   ]
  },
  {
   "cell_type": "code",
   "execution_count": 1,
   "metadata": {},
   "outputs": [
    {
     "name": "stdout",
     "output_type": "stream",
     "text": [
      "python :  ['awesome', 'language']\n",
      "something-else :  ['not relevant']\n"
     ]
    }
   ],
   "source": [
    "from collections import defaultdict\n",
    "d = defaultdict(list)\n",
    "d['python'].append(\"awesome\")\n",
    "d['something-else'].append(\"not relevant\")\n",
    "d['python'].append(\"language\")\n",
    "for k,v in d.items():\n",
    "    print(k,\": \",v)"
   ]
  },
  {
   "cell_type": "code",
   "execution_count": 2,
   "metadata": {},
   "outputs": [
    {
     "data": {
      "text/plain": [
       "collections.defaultdict"
      ]
     },
     "execution_count": 2,
     "metadata": {},
     "output_type": "execute_result"
    }
   ],
   "source": [
    "type(d)"
   ]
  },
  {
   "cell_type": "code",
   "execution_count": 3,
   "metadata": {},
   "outputs": [
    {
     "name": "stdout",
     "output_type": "stream",
     "text": [
      "python :  great\n",
      "rust :  fast\n"
     ]
    }
   ],
   "source": [
    "d2 = defaultdict()\n",
    "d2[\"python\"] = \"great\"\n",
    "d2[\"rust\"] = \"fast\"\n",
    "for k,v in d2.items():\n",
    "    print(k,\": \",v)"
   ]
  },
  {
   "cell_type": "code",
   "execution_count": 4,
   "metadata": {},
   "outputs": [
    {
     "name": "stdout",
     "output_type": "stream",
     "text": [
      "python :  {'general-purpose': 1, 'dynamic': 1, 'speed': 'slow'}\n",
      "rust :  {'general-purpose': 0, 'dynamic': 0, 'speed': 'fast'}\n"
     ]
    }
   ],
   "source": [
    "d3 = defaultdict(dict)\n",
    "d3[\"python\"] = {\"general-purpose\": 1, \"dynamic\": 1, \"speed\": \"slow\"}\n",
    "d3[\"rust\"] =  {\"general-purpose\": 0, \"dynamic\": 0, \"speed\": \"fast\"}\n",
    "for k,v in d3.items():\n",
    "    print(k,\": \",v)"
   ]
  },
  {
   "cell_type": "markdown",
   "metadata": {},
   "source": [
    "### challenge\n",
    "\n",
    "you will be given  integers,  and . There are  words, which might repeat, in word group . There are  words belonging to word group . For each  words, check whether the word has appeared in group  or not. Print the indices of each occurrence of  in group . If it does not appear, print .\n"
   ]
  },
  {
   "cell_type": "code",
   "execution_count": 4,
   "metadata": {},
   "outputs": [],
   "source": [
    "paragraph = \"\"\"\n",
    "This calls for the emergence of more functional and advanced programming languages for developing website functionality, such as Golang. This article focuses on the benefits of Golang web development and compares Golang web programming to another highly popular language – Python.\n",
    "\n",
    "Created by Google in 2007, Golang now has many purposes. Apart from Golang web development, you are most likely to hear about Golang microservices, Golang ERP systems, Golang mobile development, etc. On top of that, Golang is the language behind Docker technology, which is gaining increasing popularity today and is the main driver behind DevOps movement. The advantages of its application in data science are also impressive.\n",
    "\"\"\""
   ]
  },
  {
   "cell_type": "code",
   "execution_count": 20,
   "metadata": {},
   "outputs": [],
   "source": [
    "search_words = \"Python Golang programming performance benefits\""
   ]
  },
  {
   "cell_type": "code",
   "execution_count": 21,
   "metadata": {},
   "outputs": [],
   "source": [
    "word_group_a = paragraph.lower().split()\n",
    "word_group_b = search_words.lower().split()"
   ]
  },
  {
   "cell_type": "code",
   "execution_count": 22,
   "metadata": {},
   "outputs": [],
   "source": [
    "dict_a = defaultdict(list)   # track position of each word\n",
    "for iw in range(len(word_group_a)):\n",
    "    dict_a[word_group_a[iw]].append(iw)"
   ]
  },
  {
   "cell_type": "code",
   "execution_count": 23,
   "metadata": {},
   "outputs": [
    {
     "data": {
      "text/plain": [
       "[24]"
      ]
     },
     "execution_count": 23,
     "metadata": {},
     "output_type": "execute_result"
    }
   ],
   "source": [
    "dict_a['benefits']"
   ]
  },
  {
   "cell_type": "code",
   "execution_count": 28,
   "metadata": {},
   "outputs": [
    {
     "name": "stdout",
     "output_type": "stream",
     "text": [
      "python \n",
      "\t -1\n",
      "golang \n",
      "\t [26, 31, 46, 53, 63, 65, 68, 76]\n",
      "programming \n",
      "\t [10, 33]\n",
      "performance \n",
      "\t -1\n",
      "benefits \n",
      "\t [24]\n"
     ]
    }
   ],
   "source": [
    "for w in word_group_b:\n",
    "    if w in dict_a:\n",
    "        print(w, \"\\n\\t\", dict_a[w])\n",
    "    else:\n",
    "        print(w, \"\\n\\t\", \"-1\")"
   ]
  },
  {
   "cell_type": "code",
   "execution_count": null,
   "metadata": {},
   "outputs": [],
   "source": []
  }
 ],
 "metadata": {
  "kernelspec": {
   "display_name": "Python 3 (ipykernel)",
   "language": "python",
   "name": "python3"
  },
  "language_info": {
   "codemirror_mode": {
    "name": "ipython",
    "version": 3
   },
   "file_extension": ".py",
   "mimetype": "text/x-python",
   "name": "python",
   "nbconvert_exporter": "python",
   "pygments_lexer": "ipython3",
   "version": "3.9.13"
  },
  "nbTranslate": {
   "displayLangs": [
    "*"
   ],
   "hotkey": "alt-t",
   "langInMainMenu": true,
   "sourceLang": "en",
   "targetLang": "fr",
   "useGoogleTranslate": true
  },
  "toc": {
   "base_numbering": 1,
   "nav_menu": {},
   "number_sections": true,
   "sideBar": true,
   "skip_h1_title": false,
   "title_cell": "Table of Contents",
   "title_sidebar": "Contents",
   "toc_cell": false,
   "toc_position": {},
   "toc_section_display": true,
   "toc_window_display": false
  }
 },
 "nbformat": 4,
 "nbformat_minor": 2
}
