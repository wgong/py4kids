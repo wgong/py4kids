{
 "cells": [
  {
   "cell_type": "markdown",
   "metadata": {},
   "source": [
    "###  [985. Sum of Even Numbers After Queries](https://leetcode.com/contest/weekly-contest-122/problems/sum-of-even-numbers-after-queries/)"
   ]
  },
  {
   "cell_type": "code",
   "execution_count": 1,
   "metadata": {},
   "outputs": [],
   "source": [
    "class Solution1:\n",
    "    def sumEvenAfterQueries(self, A: 'List[int]', queries: 'List[List[int]]') -> 'List[int]':\n",
    "        answer = []\n",
    "        for q in queries:\n",
    "            val, index = q[0], q[1]\n",
    "            A[index] += val\n",
    "            sm = 0\n",
    "            for e in A:\n",
    "                if e % 2 == 0:\n",
    "                    sm += e\n",
    "            answer.append(sm)\n",
    "        return answer"
   ]
  },
  {
   "cell_type": "code",
   "execution_count": 2,
   "metadata": {},
   "outputs": [],
   "source": [
    "class Solution2:\n",
    "    def sumEvenAfterQueries(self, A: 'List[int]', queries: 'List[List[int]]') -> 'List[int]':\n",
    "        len_A = len(A)\n",
    "        even_mask = [False if a%2 else True for a in A]\n",
    "        answer = []\n",
    "        for q in queries:\n",
    "            index = q[1]\n",
    "            A[index] += q[0]\n",
    "            if A[index]%2: \n",
    "                even_mask[index] = False\n",
    "            else:\n",
    "                even_mask[index] = True\n",
    "            sm = 0\n",
    "            for idx in range(len_A):\n",
    "                if even_mask[idx]:\n",
    "                    sm += A[idx]\n",
    "            answer.append(sm)\n",
    "               \n",
    "        return answer\n",
    "        "
   ]
  },
  {
   "cell_type": "code",
   "execution_count": 3,
   "metadata": {},
   "outputs": [],
   "source": [
    "class Solution3:\n",
    "    def sumEvenAfterQueries(self, A: 'List[int]', queries: 'List[List[int]]') -> 'List[int]':\n",
    "        import numpy as np   # not allowed by leetcode\n",
    "        even_mask = [0 if a%2 else 1 for a in A]\n",
    "        answer = []\n",
    "        for q in queries:\n",
    "            index = q[1]\n",
    "            A[index] += q[0]\n",
    "            if A[index]%2: \n",
    "                even_mask[index] = 0\n",
    "            else:\n",
    "                even_mask[index] = 1\n",
    "            answer.append(np.dot(np.array(A),np.array(even_mask)))\n",
    "               \n",
    "        return answer\n",
    "        "
   ]
  },
  {
   "cell_type": "code",
   "execution_count": 4,
   "metadata": {},
   "outputs": [],
   "source": [
    "class Solution4:\n",
    "    def sumEvenAfterQueries(self, A: 'List[int]', queries: 'List[List[int]]') -> 'List[int]':\n",
    "        len_A = len(A)\n",
    "        answer = []\n",
    "\n",
    "        # handle the 1st case\n",
    "        q = queries[0]\n",
    "        val, index = q[0], q[1]\n",
    "        sm = 0\n",
    "        for idx in range(len_A):\n",
    "            if idx == index:\n",
    "                A[idx] += val\n",
    "            if A[idx] % 2 == 0:\n",
    "                sm += A[idx]\n",
    "        answer.append(sm)\n",
    "        \n",
    "        # handle the rest\n",
    "        for iq in range(1,len(queries)):\n",
    "            q = queries[iq]\n",
    "            val, index = q[0], q[1]\n",
    "\n",
    "            if A[index]%2 == 0:\n",
    "                if val%2 > 0:\n",
    "                    sm -= A[index]\n",
    "                else:\n",
    "                    sm += val\n",
    "            else:\n",
    "                if val%2 > 0:\n",
    "                    sm += A[index] + val\n",
    "                # nothing to do\n",
    "\n",
    "            answer.append(sm)\n",
    "            \n",
    "            A[index] += val\n",
    "\n",
    "               \n",
    "        return answer\n",
    "        "
   ]
  },
  {
   "cell_type": "code",
   "execution_count": 5,
   "metadata": {},
   "outputs": [],
   "source": [
    "class Solution(object):   # LeetCode solution\n",
    "    def sumEvenAfterQueries(self, A, queries):\n",
    "        S = sum(x for x in A if x % 2 == 0)\n",
    "        ans = []\n",
    "\n",
    "        for x, k in queries:\n",
    "            if A[k] % 2 == 0: S -= A[k]\n",
    "            A[k] += x\n",
    "            if A[k] % 2 == 0: S += A[k]\n",
    "            ans.append(S)\n",
    "\n",
    "        return ans"
   ]
  },
  {
   "cell_type": "code",
   "execution_count": 6,
   "metadata": {},
   "outputs": [
    {
     "data": {
      "text/plain": [
       "[8, 6, 2, 4]"
      ]
     },
     "execution_count": 6,
     "metadata": {},
     "output_type": "execute_result"
    }
   ],
   "source": [
    "\n",
    "A = [5,4,0,2]\n",
    "queries = [[1,1],[3,1],[3,3],[5,1]]\n",
    "\n",
    "A = [1,2,3,4]\n",
    "queries = [[1,0],[-3,1],[-4,0],[2,3]]\n",
    "\n",
    "\n",
    "#solv = Solution1()\n",
    "#solv = Solution2()\n",
    "#solv = Solution3()\n",
    "# solv = Solution4()\n",
    "solv = Solution()\n",
    "\n",
    "solv.sumEvenAfterQueries(A, queries)"
   ]
  },
  {
   "cell_type": "code",
   "execution_count": null,
   "metadata": {},
   "outputs": [],
   "source": []
  }
 ],
 "metadata": {
  "kernelspec": {
   "display_name": "Python 3 (ipykernel)",
   "language": "python",
   "name": "python3"
  },
  "language_info": {
   "codemirror_mode": {
    "name": "ipython",
    "version": 3
   },
   "file_extension": ".py",
   "mimetype": "text/x-python",
   "name": "python",
   "nbconvert_exporter": "python",
   "pygments_lexer": "ipython3",
   "version": "3.9.13"
  }
 },
 "nbformat": 4,
 "nbformat_minor": 4
}
