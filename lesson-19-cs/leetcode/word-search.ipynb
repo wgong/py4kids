{
 "cells": [
  {
   "cell_type": "code",
   "execution_count": 40,
   "metadata": {},
   "outputs": [],
   "source": [
    "def word_search(board, word):\n",
    "    \"\"\"\n",
    "    https://leetcode.com/problems/word-search/\n",
    "    \"\"\"\n",
    "    debug=True\n",
    "\n",
    "    matched = [0 for _ in word]   # track which char is matched\n",
    "    visited = []                      # track visited char\n",
    "\n",
    "    X,Y = len(board[0]), len(board)  # width, length\n",
    "\n",
    "    def valid_xy(x_y):\n",
    "        # check if x,y within bound\n",
    "        return x_y[0] > -1 and x_y[0] < X and x_y[1] > -1 and x_y[1] < Y\n",
    "\n",
    "    def neighbors(x_y):\n",
    "        # get neighbors\n",
    "        return [i for i in [(x_y[0]+1,x_y[1]), (x_y[0]-1,x_y[1]), (x_y[0], x_y[1]+1), (x_y[0],x_y[1]-1)] if valid_xy(i)]\n",
    "\n",
    "    # build a map to lookup positions for a given char\n",
    "    pos = {}\n",
    "    for j in range(Y):\n",
    "        for i in range(X):\n",
    "            ch = board[j][i]\n",
    "            x_y = pos.get(ch, None)\n",
    "            if not x_y:\n",
    "                pos[ch] = [(i,j)]\n",
    "            else:\n",
    "                x_y.append((i,j))\n",
    "    if debug: print(f\"pos = {pos}\")\n",
    "\n",
    "    # special case: a letter in word but not on board\n",
    "    if set(word).difference(set(pos.keys())):\n",
    "        print(\"no match because word char not on board\")\n",
    "        return False\n",
    "\n",
    "    if len(word) > X*Y:\n",
    "        print(\"no match because word too long\")\n",
    "        return False\n",
    "\n",
    "    matched[0] = 1     \n",
    "    to_visit = pos[word[0]]\n",
    "    for i in range(1, len(word)):\n",
    "        ch = word[i]\n",
    "        if debug: print(f\"\\ni,ch = {i}, {ch}\")\n",
    "        if debug: print(f\"[pre] to_visit = {to_visit}\")\n",
    "        tmp = []\n",
    "        for x_y in to_visit:             # traverse possible squares\n",
    "\n",
    "            if debug: print(f\"x_y, neighbors = {x_y}, {neighbors(x_y)}\")\n",
    "            for (x,y) in neighbors(x_y):     # check each neighbor\n",
    "                if ch == board[y][x]:\n",
    "                    if debug: print(f\"(x,y) ch = ({x}, {y}) {ch}\")\n",
    "                    matched[i] += 1\n",
    "                    if not x_y in visited:\n",
    "                        visited.append(x_y)\n",
    "                    if debug: print(f\"visited = {visited}\")\n",
    "                    tmp.append((x,y))\n",
    "        to_visit = tmp\n",
    "        if debug: print(f\"[post] to_visit = {to_visit}\")\n",
    "\n",
    "        if not matched[i]:\n",
    "            return False\n",
    "\n",
    "    if debug: print(f\"matched = {matched}\")\n",
    "\n",
    "    return (not set(to_visit).intersection(set(visited))) or (not set(to_visit).difference(set(visited)))"
   ]
  },
  {
   "cell_type": "code",
   "execution_count": 41,
   "metadata": {},
   "outputs": [
    {
     "name": "stdout",
     "output_type": "stream",
     "text": [
      "pos = {'A': [(0, 0), (0, 2)], 'B': [(1, 0)], 'C': [(2, 0)], 'E': [(3, 0), (2, 1), (2, 2), (3, 2)], 'S': [(0, 1), (3, 1)], 'F': [(1, 1)], 'D': [(1, 2)]}\n",
      "\n",
      "i,ch = 1, B\n",
      "[pre] to_visit = [(0, 0), (0, 2)]\n",
      "x_y, neighbors = (0, 0), [(1, 0), (0, 1)]\n",
      "(x,y) ch = (1, 0) B\n",
      "visited = [(0, 0)]\n",
      "x_y, neighbors = (0, 2), [(1, 2), (0, 1)]\n",
      "[post] to_visit = [(1, 0)]\n",
      "\n",
      "i,ch = 2, C\n",
      "[pre] to_visit = [(1, 0)]\n",
      "x_y, neighbors = (1, 0), [(2, 0), (0, 0), (1, 1)]\n",
      "(x,y) ch = (2, 0) C\n",
      "visited = [(0, 0), (1, 0)]\n",
      "[post] to_visit = [(2, 0)]\n",
      "\n",
      "i,ch = 3, E\n",
      "[pre] to_visit = [(2, 0)]\n",
      "x_y, neighbors = (2, 0), [(3, 0), (1, 0), (2, 1)]\n",
      "(x,y) ch = (3, 0) E\n",
      "visited = [(0, 0), (1, 0), (2, 0)]\n",
      "(x,y) ch = (2, 1) E\n",
      "visited = [(0, 0), (1, 0), (2, 0)]\n",
      "[post] to_visit = [(3, 0), (2, 1)]\n",
      "\n",
      "i,ch = 4, S\n",
      "[pre] to_visit = [(3, 0), (2, 1)]\n",
      "x_y, neighbors = (3, 0), [(2, 0), (3, 1)]\n",
      "(x,y) ch = (3, 1) S\n",
      "visited = [(0, 0), (1, 0), (2, 0), (3, 0)]\n",
      "x_y, neighbors = (2, 1), [(3, 1), (1, 1), (2, 2), (2, 0)]\n",
      "(x,y) ch = (3, 1) S\n",
      "visited = [(0, 0), (1, 0), (2, 0), (3, 0), (2, 1)]\n",
      "[post] to_visit = [(3, 1), (3, 1)]\n",
      "\n",
      "i,ch = 5, E\n",
      "[pre] to_visit = [(3, 1), (3, 1)]\n",
      "x_y, neighbors = (3, 1), [(2, 1), (3, 2), (3, 0)]\n",
      "(x,y) ch = (2, 1) E\n",
      "visited = [(0, 0), (1, 0), (2, 0), (3, 0), (2, 1), (3, 1)]\n",
      "(x,y) ch = (3, 2) E\n",
      "visited = [(0, 0), (1, 0), (2, 0), (3, 0), (2, 1), (3, 1)]\n",
      "(x,y) ch = (3, 0) E\n",
      "visited = [(0, 0), (1, 0), (2, 0), (3, 0), (2, 1), (3, 1)]\n",
      "x_y, neighbors = (3, 1), [(2, 1), (3, 2), (3, 0)]\n",
      "(x,y) ch = (2, 1) E\n",
      "visited = [(0, 0), (1, 0), (2, 0), (3, 0), (2, 1), (3, 1)]\n",
      "(x,y) ch = (3, 2) E\n",
      "visited = [(0, 0), (1, 0), (2, 0), (3, 0), (2, 1), (3, 1)]\n",
      "(x,y) ch = (3, 0) E\n",
      "visited = [(0, 0), (1, 0), (2, 0), (3, 0), (2, 1), (3, 1)]\n",
      "[post] to_visit = [(2, 1), (3, 2), (3, 0), (2, 1), (3, 2), (3, 0)]\n",
      "\n",
      "i,ch = 6, E\n",
      "[pre] to_visit = [(2, 1), (3, 2), (3, 0), (2, 1), (3, 2), (3, 0)]\n",
      "x_y, neighbors = (2, 1), [(3, 1), (1, 1), (2, 2), (2, 0)]\n",
      "(x,y) ch = (2, 2) E\n",
      "visited = [(0, 0), (1, 0), (2, 0), (3, 0), (2, 1), (3, 1)]\n",
      "x_y, neighbors = (3, 2), [(2, 2), (3, 1)]\n",
      "(x,y) ch = (2, 2) E\n",
      "visited = [(0, 0), (1, 0), (2, 0), (3, 0), (2, 1), (3, 1), (3, 2)]\n",
      "x_y, neighbors = (3, 0), [(2, 0), (3, 1)]\n",
      "x_y, neighbors = (2, 1), [(3, 1), (1, 1), (2, 2), (2, 0)]\n",
      "(x,y) ch = (2, 2) E\n",
      "visited = [(0, 0), (1, 0), (2, 0), (3, 0), (2, 1), (3, 1), (3, 2)]\n",
      "x_y, neighbors = (3, 2), [(2, 2), (3, 1)]\n",
      "(x,y) ch = (2, 2) E\n",
      "visited = [(0, 0), (1, 0), (2, 0), (3, 0), (2, 1), (3, 1), (3, 2)]\n",
      "x_y, neighbors = (3, 0), [(2, 0), (3, 1)]\n",
      "[post] to_visit = [(2, 2), (2, 2), (2, 2), (2, 2)]\n",
      "\n",
      "i,ch = 7, E\n",
      "[pre] to_visit = [(2, 2), (2, 2), (2, 2), (2, 2)]\n",
      "x_y, neighbors = (2, 2), [(3, 2), (1, 2), (2, 1)]\n",
      "(x,y) ch = (3, 2) E\n",
      "visited = [(0, 0), (1, 0), (2, 0), (3, 0), (2, 1), (3, 1), (3, 2), (2, 2)]\n",
      "(x,y) ch = (2, 1) E\n",
      "visited = [(0, 0), (1, 0), (2, 0), (3, 0), (2, 1), (3, 1), (3, 2), (2, 2)]\n",
      "x_y, neighbors = (2, 2), [(3, 2), (1, 2), (2, 1)]\n",
      "(x,y) ch = (3, 2) E\n",
      "visited = [(0, 0), (1, 0), (2, 0), (3, 0), (2, 1), (3, 1), (3, 2), (2, 2)]\n",
      "(x,y) ch = (2, 1) E\n",
      "visited = [(0, 0), (1, 0), (2, 0), (3, 0), (2, 1), (3, 1), (3, 2), (2, 2)]\n",
      "x_y, neighbors = (2, 2), [(3, 2), (1, 2), (2, 1)]\n",
      "(x,y) ch = (3, 2) E\n",
      "visited = [(0, 0), (1, 0), (2, 0), (3, 0), (2, 1), (3, 1), (3, 2), (2, 2)]\n",
      "(x,y) ch = (2, 1) E\n",
      "visited = [(0, 0), (1, 0), (2, 0), (3, 0), (2, 1), (3, 1), (3, 2), (2, 2)]\n",
      "x_y, neighbors = (2, 2), [(3, 2), (1, 2), (2, 1)]\n",
      "(x,y) ch = (3, 2) E\n",
      "visited = [(0, 0), (1, 0), (2, 0), (3, 0), (2, 1), (3, 1), (3, 2), (2, 2)]\n",
      "(x,y) ch = (2, 1) E\n",
      "visited = [(0, 0), (1, 0), (2, 0), (3, 0), (2, 1), (3, 1), (3, 2), (2, 2)]\n",
      "[post] to_visit = [(3, 2), (2, 1), (3, 2), (2, 1), (3, 2), (2, 1), (3, 2), (2, 1)]\n",
      "\n",
      "i,ch = 8, F\n",
      "[pre] to_visit = [(3, 2), (2, 1), (3, 2), (2, 1), (3, 2), (2, 1), (3, 2), (2, 1)]\n",
      "x_y, neighbors = (3, 2), [(2, 2), (3, 1)]\n",
      "x_y, neighbors = (2, 1), [(3, 1), (1, 1), (2, 2), (2, 0)]\n",
      "(x,y) ch = (1, 1) F\n",
      "visited = [(0, 0), (1, 0), (2, 0), (3, 0), (2, 1), (3, 1), (3, 2), (2, 2)]\n",
      "x_y, neighbors = (3, 2), [(2, 2), (3, 1)]\n",
      "x_y, neighbors = (2, 1), [(3, 1), (1, 1), (2, 2), (2, 0)]\n",
      "(x,y) ch = (1, 1) F\n",
      "visited = [(0, 0), (1, 0), (2, 0), (3, 0), (2, 1), (3, 1), (3, 2), (2, 2)]\n",
      "x_y, neighbors = (3, 2), [(2, 2), (3, 1)]\n",
      "x_y, neighbors = (2, 1), [(3, 1), (1, 1), (2, 2), (2, 0)]\n",
      "(x,y) ch = (1, 1) F\n",
      "visited = [(0, 0), (1, 0), (2, 0), (3, 0), (2, 1), (3, 1), (3, 2), (2, 2)]\n",
      "x_y, neighbors = (3, 2), [(2, 2), (3, 1)]\n",
      "x_y, neighbors = (2, 1), [(3, 1), (1, 1), (2, 2), (2, 0)]\n",
      "(x,y) ch = (1, 1) F\n",
      "visited = [(0, 0), (1, 0), (2, 0), (3, 0), (2, 1), (3, 1), (3, 2), (2, 2)]\n",
      "[post] to_visit = [(1, 1), (1, 1), (1, 1), (1, 1)]\n",
      "\n",
      "i,ch = 9, S\n",
      "[pre] to_visit = [(1, 1), (1, 1), (1, 1), (1, 1)]\n",
      "x_y, neighbors = (1, 1), [(2, 1), (0, 1), (1, 2), (1, 0)]\n",
      "(x,y) ch = (0, 1) S\n",
      "visited = [(0, 0), (1, 0), (2, 0), (3, 0), (2, 1), (3, 1), (3, 2), (2, 2), (1, 1)]\n",
      "x_y, neighbors = (1, 1), [(2, 1), (0, 1), (1, 2), (1, 0)]\n",
      "(x,y) ch = (0, 1) S\n",
      "visited = [(0, 0), (1, 0), (2, 0), (3, 0), (2, 1), (3, 1), (3, 2), (2, 2), (1, 1)]\n",
      "x_y, neighbors = (1, 1), [(2, 1), (0, 1), (1, 2), (1, 0)]\n",
      "(x,y) ch = (0, 1) S\n",
      "visited = [(0, 0), (1, 0), (2, 0), (3, 0), (2, 1), (3, 1), (3, 2), (2, 2), (1, 1)]\n",
      "x_y, neighbors = (1, 1), [(2, 1), (0, 1), (1, 2), (1, 0)]\n",
      "(x,y) ch = (0, 1) S\n",
      "visited = [(0, 0), (1, 0), (2, 0), (3, 0), (2, 1), (3, 1), (3, 2), (2, 2), (1, 1)]\n",
      "[post] to_visit = [(0, 1), (0, 1), (0, 1), (0, 1)]\n",
      "matched = [1, 1, 1, 2, 2, 6, 4, 8, 4, 4]\n"
     ]
    },
    {
     "data": {
      "text/plain": [
       "True"
      ]
     },
     "execution_count": 41,
     "metadata": {},
     "output_type": "execute_result"
    }
   ],
   "source": [
    "board = [[\"A\",\"B\",\"C\",\"E\"],[\"S\",\"F\",\"E\",\"S\"],[\"A\",\"D\",\"E\",\"E\"]]\n",
    "word = \"ABCESEEEFS\"\n",
    "word_search(board, word)"
   ]
  },
  {
   "cell_type": "code",
   "execution_count": 42,
   "metadata": {
    "scrolled": true
   },
   "outputs": [
    {
     "name": "stdout",
     "output_type": "stream",
     "text": [
      "pos = {'A': [(0, 0), (0, 2)], 'B': [(1, 0)], 'C': [(2, 0), (2, 1)], 'E': [(3, 0), (2, 2), (3, 2)], 'S': [(0, 1), (3, 1)], 'F': [(1, 1)], 'D': [(1, 2)]}\n",
      "\n",
      "i,ch = 1, B\n",
      "[pre] to_visit = [(0, 0), (0, 2)]\n",
      "x_y, neighbors = (0, 0), [(1, 0), (0, 1)]\n",
      "(x,y) ch = (1, 0) B\n",
      "visited = [(0, 0)]\n",
      "x_y, neighbors = (0, 2), [(1, 2), (0, 1)]\n",
      "[post] to_visit = [(1, 0)]\n",
      "\n",
      "i,ch = 2, C\n",
      "[pre] to_visit = [(1, 0)]\n",
      "x_y, neighbors = (1, 0), [(2, 0), (0, 0), (1, 1)]\n",
      "(x,y) ch = (2, 0) C\n",
      "visited = [(0, 0), (1, 0)]\n",
      "[post] to_visit = [(2, 0)]\n",
      "\n",
      "i,ch = 3, C\n",
      "[pre] to_visit = [(2, 0)]\n",
      "x_y, neighbors = (2, 0), [(3, 0), (1, 0), (2, 1)]\n",
      "(x,y) ch = (2, 1) C\n",
      "visited = [(0, 0), (1, 0), (2, 0)]\n",
      "[post] to_visit = [(2, 1)]\n",
      "\n",
      "i,ch = 4, E\n",
      "[pre] to_visit = [(2, 1)]\n",
      "x_y, neighbors = (2, 1), [(3, 1), (1, 1), (2, 2), (2, 0)]\n",
      "(x,y) ch = (2, 2) E\n",
      "visited = [(0, 0), (1, 0), (2, 0), (2, 1)]\n",
      "[post] to_visit = [(2, 2)]\n",
      "\n",
      "i,ch = 5, D\n",
      "[pre] to_visit = [(2, 2)]\n",
      "x_y, neighbors = (2, 2), [(3, 2), (1, 2), (2, 1)]\n",
      "(x,y) ch = (1, 2) D\n",
      "visited = [(0, 0), (1, 0), (2, 0), (2, 1), (2, 2)]\n",
      "[post] to_visit = [(1, 2)]\n",
      "matched = [1, 1, 1, 1, 1, 1]\n"
     ]
    },
    {
     "data": {
      "text/plain": [
       "True"
      ]
     },
     "execution_count": 42,
     "metadata": {},
     "output_type": "execute_result"
    }
   ],
   "source": [
    "board = [[\"A\",\"B\",\"C\",\"E\"],[\"S\",\"F\",\"C\",\"S\"],[\"A\",\"D\",\"E\",\"E\"]]\n",
    "word = \"ABCCED\"\n",
    "word_search(board, word)"
   ]
  },
  {
   "cell_type": "code",
   "execution_count": 43,
   "metadata": {
    "scrolled": true
   },
   "outputs": [
    {
     "name": "stdout",
     "output_type": "stream",
     "text": [
      "pos = {'A': [(0, 0), (0, 2)], 'B': [(1, 0)], 'C': [(2, 0), (2, 1)], 'E': [(3, 0), (2, 2), (3, 2)], 'S': [(0, 1), (3, 1)], 'F': [(1, 1)], 'D': [(1, 2)]}\n",
      "\n",
      "i,ch = 1, E\n",
      "[pre] to_visit = [(0, 1), (3, 1)]\n",
      "x_y, neighbors = (0, 1), [(1, 1), (0, 2), (0, 0)]\n",
      "x_y, neighbors = (3, 1), [(2, 1), (3, 2), (3, 0)]\n",
      "(x,y) ch = (3, 2) E\n",
      "visited = [(3, 1)]\n",
      "(x,y) ch = (3, 0) E\n",
      "visited = [(3, 1)]\n",
      "[post] to_visit = [(3, 2), (3, 0)]\n",
      "\n",
      "i,ch = 2, E\n",
      "[pre] to_visit = [(3, 2), (3, 0)]\n",
      "x_y, neighbors = (3, 2), [(2, 2), (3, 1)]\n",
      "(x,y) ch = (2, 2) E\n",
      "visited = [(3, 1), (3, 2)]\n",
      "x_y, neighbors = (3, 0), [(2, 0), (3, 1)]\n",
      "[post] to_visit = [(2, 2)]\n",
      "matched = [1, 2, 1]\n"
     ]
    },
    {
     "data": {
      "text/plain": [
       "True"
      ]
     },
     "execution_count": 43,
     "metadata": {},
     "output_type": "execute_result"
    }
   ],
   "source": [
    "board = [[\"A\",\"B\",\"C\",\"E\"],[\"S\",\"F\",\"C\",\"S\"],[\"A\",\"D\",\"E\",\"E\"]]\n",
    "word = \"SEE\"\n",
    "word_search(board, word)"
   ]
  },
  {
   "cell_type": "code",
   "execution_count": 44,
   "metadata": {},
   "outputs": [
    {
     "name": "stdout",
     "output_type": "stream",
     "text": [
      "pos = {'A': [(0, 0), (0, 2)], 'B': [(1, 0)], 'C': [(2, 0), (2, 1)], 'E': [(3, 0), (2, 2), (3, 2)], 'S': [(0, 1), (3, 1)], 'F': [(1, 1)], 'D': [(1, 2)]}\n",
      "\n",
      "i,ch = 1, B\n",
      "[pre] to_visit = [(0, 0), (0, 2)]\n",
      "x_y, neighbors = (0, 0), [(1, 0), (0, 1)]\n",
      "(x,y) ch = (1, 0) B\n",
      "visited = [(0, 0)]\n",
      "x_y, neighbors = (0, 2), [(1, 2), (0, 1)]\n",
      "[post] to_visit = [(1, 0)]\n",
      "\n",
      "i,ch = 2, C\n",
      "[pre] to_visit = [(1, 0)]\n",
      "x_y, neighbors = (1, 0), [(2, 0), (0, 0), (1, 1)]\n",
      "(x,y) ch = (2, 0) C\n",
      "visited = [(0, 0), (1, 0)]\n",
      "[post] to_visit = [(2, 0)]\n",
      "\n",
      "i,ch = 3, B\n",
      "[pre] to_visit = [(2, 0)]\n",
      "x_y, neighbors = (2, 0), [(3, 0), (1, 0), (2, 1)]\n",
      "(x,y) ch = (1, 0) B\n",
      "visited = [(0, 0), (1, 0), (2, 0)]\n",
      "[post] to_visit = [(1, 0)]\n",
      "matched = [1, 1, 1, 1]\n"
     ]
    },
    {
     "data": {
      "text/plain": [
       "True"
      ]
     },
     "execution_count": 44,
     "metadata": {},
     "output_type": "execute_result"
    }
   ],
   "source": [
    "board = [[\"A\",\"B\",\"C\",\"E\"],[\"S\",\"F\",\"C\",\"S\"],[\"A\",\"D\",\"E\",\"E\"]]\n",
    "word = \"ABCB\"\n",
    "word_search(board, word)"
   ]
  },
  {
   "cell_type": "code",
   "execution_count": 45,
   "metadata": {},
   "outputs": [
    {
     "name": "stdout",
     "output_type": "stream",
     "text": [
      "pos = {'A': [(0, 0), (0, 2)], 'B': [(1, 0)], 'C': [(2, 0), (2, 1)], 'E': [(3, 0), (2, 2), (3, 2)], 'S': [(0, 1), (3, 1)], 'F': [(1, 1)], 'D': [(1, 2)]}\n",
      "no match because word char not on board\n"
     ]
    },
    {
     "data": {
      "text/plain": [
       "False"
      ]
     },
     "execution_count": 45,
     "metadata": {},
     "output_type": "execute_result"
    }
   ],
   "source": [
    "board = [[\"A\",\"B\",\"C\",\"E\"],[\"S\",\"F\",\"C\",\"S\"],[\"A\",\"D\",\"E\",\"E\"]]\n",
    "word = \"ABX\"\n",
    "word_search(board, word)"
   ]
  },
  {
   "cell_type": "code",
   "execution_count": 46,
   "metadata": {},
   "outputs": [
    {
     "name": "stdout",
     "output_type": "stream",
     "text": [
      "pos = {'a': [(0, 0), (1, 0)]}\n",
      "\n",
      "i,ch = 1, a\n",
      "[pre] to_visit = [(0, 0), (1, 0)]\n",
      "x_y, neighbors = (0, 0), [(1, 0)]\n",
      "(x,y) ch = (1, 0) a\n",
      "visited = [(0, 0)]\n",
      "x_y, neighbors = (1, 0), [(0, 0)]\n",
      "(x,y) ch = (0, 0) a\n",
      "visited = [(0, 0), (1, 0)]\n",
      "[post] to_visit = [(1, 0), (0, 0)]\n",
      "matched = [1, 2]\n"
     ]
    },
    {
     "data": {
      "text/plain": [
       "True"
      ]
     },
     "execution_count": 46,
     "metadata": {},
     "output_type": "execute_result"
    }
   ],
   "source": [
    "board = [[\"a\",\"a\"]]\n",
    "word = \"aa\"\n",
    "word_search(board, word)"
   ]
  },
  {
   "cell_type": "code",
   "execution_count": null,
   "metadata": {},
   "outputs": [],
   "source": []
  }
 ],
 "metadata": {
  "kernelspec": {
   "display_name": "Python 3 (ipykernel)",
   "language": "python",
   "name": "python3"
  },
  "language_info": {
   "codemirror_mode": {
    "name": "ipython",
    "version": 3
   },
   "file_extension": ".py",
   "mimetype": "text/x-python",
   "name": "python",
   "nbconvert_exporter": "python",
   "pygments_lexer": "ipython3",
   "version": "3.9.13"
  }
 },
 "nbformat": 4,
 "nbformat_minor": 4
}
