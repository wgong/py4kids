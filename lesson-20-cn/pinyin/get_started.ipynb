{
 "cells": [
  {
   "cell_type": "markdown",
   "id": "d90442af-53f9-4b84-895e-dd3589ebef0f",
   "metadata": {},
   "source": [
    "- https://pypi.org/project/pypinyin/\n",
    "\n",
    "- Qwen - https://chat.qwen.ai/c/cd9c27bf-94c6-4d9f-8e1d-ffeb54d55ac8"
   ]
  },
  {
   "cell_type": "code",
   "execution_count": 2,
   "id": "7eca0447-71b7-4a27-85a7-1a9a26f319df",
   "metadata": {},
   "outputs": [
    {
     "name": "stdout",
     "output_type": "stream",
     "text": [
      "Defaulting to user installation because normal site-packages is not writeable\n",
      "Collecting pypinyin\n",
      "  Downloading pypinyin-0.54.0-py2.py3-none-any.whl (837 kB)\n",
      "\u001b[2K     \u001b[38;2;114;156;31m━━━━━━━━━━━━━━━━━━━━━━━━━━━━━━━━━━━━━━━\u001b[0m \u001b[32m837.0/837.0 KB\u001b[0m \u001b[31m5.6 MB/s\u001b[0m eta \u001b[36m0:00:00\u001b[0mm eta \u001b[36m0:00:01\u001b[0m[36m0:00:01\u001b[0m\n",
      "\u001b[?25hInstalling collected packages: pypinyin\n",
      "Successfully installed pypinyin-0.54.0\n",
      "Note: you may need to restart the kernel to use updated packages.\n"
     ]
    }
   ],
   "source": [
    "pip install pypinyin"
   ]
  },
  {
   "cell_type": "code",
   "execution_count": 10,
   "id": "f5a9160b-d8cb-40d7-b82b-1ae099748fcf",
   "metadata": {},
   "outputs": [
    {
     "name": "stdout",
     "output_type": "stream",
     "text": [
      "Defaulting to user installation because normal site-packages is not writeable\n",
      "Collecting metaphone\n",
      "  Downloading Metaphone-0.6.tar.gz (14 kB)\n",
      "  Preparing metadata (setup.py) ... \u001b[?25ldone\n",
      "\u001b[?25hRequirement already satisfied: pandas in /home/papagame/.local/lib/python3.10/site-packages (1.5.3)\n",
      "Collecting rapidfuzz\n",
      "  Downloading rapidfuzz-3.13.0-cp310-cp310-manylinux_2_17_x86_64.manylinux2014_x86_64.whl (3.1 MB)\n",
      "\u001b[2K     \u001b[38;2;114;156;31m━━━━━━━━━━━━━━━━━━━━━━━━━━━━━━━━━━━━━━━━\u001b[0m \u001b[32m3.1/3.1 MB\u001b[0m \u001b[31m7.0 MB/s\u001b[0m eta \u001b[36m0:00:00\u001b[0mm eta \u001b[36m0:00:01\u001b[0m0:01\u001b[0m:01\u001b[0m\n",
      "\u001b[?25hRequirement already satisfied: numpy>=1.21.0 in /home/papagame/.local/lib/python3.10/site-packages (from pandas) (1.26.4)\n",
      "Requirement already satisfied: python-dateutil>=2.8.1 in /home/papagame/.local/lib/python3.10/site-packages (from pandas) (2.9.0.post0)\n",
      "Requirement already satisfied: pytz>=2020.1 in /usr/lib/python3/dist-packages (from pandas) (2022.1)\n",
      "Requirement already satisfied: six>=1.5 in /usr/lib/python3/dist-packages (from python-dateutil>=2.8.1->pandas) (1.16.0)\n",
      "Building wheels for collected packages: metaphone\n",
      "  Building wheel for metaphone (setup.py) ... \u001b[?25ldone\n",
      "\u001b[?25h  Created wheel for metaphone: filename=Metaphone-0.6-py3-none-any.whl size=13918 sha256=5d789ca7dc9bc707123bdce5aa571fc2a451ab0507343777cc7f5286233acfae\n",
      "  Stored in directory: /home/papagame/.cache/pip/wheels/23/dd/1d/6cdd346605db62bde1f60954155e9ce48f4681c243f265b704\n",
      "Successfully built metaphone\n",
      "Installing collected packages: metaphone, rapidfuzz\n",
      "Successfully installed metaphone-0.6 rapidfuzz-3.13.0\n",
      "Note: you may need to restart the kernel to use updated packages.\n"
     ]
    }
   ],
   "source": [
    "pip install metaphone pandas rapidfuzz"
   ]
  },
  {
   "cell_type": "markdown",
   "id": "00fd234d-720f-4fd3-8db6-91b8194a275c",
   "metadata": {},
   "source": [
    "## Test pypinyin"
   ]
  },
  {
   "cell_type": "code",
   "execution_count": 1,
   "id": "e19ad5db-c085-4512-911a-fce7e12e5adc",
   "metadata": {},
   "outputs": [],
   "source": [
    "from pypinyin import pinyin, lazy_pinyin, Style"
   ]
  },
  {
   "cell_type": "code",
   "execution_count": 8,
   "id": "13276a0f-5642-4864-84c0-48ddb40e609a",
   "metadata": {},
   "outputs": [],
   "source": [
    "from metaphone import doublemetaphone\n",
    "from rapidfuzz import distance"
   ]
  },
  {
   "cell_type": "code",
   "execution_count": 3,
   "id": "15835aa7-84d0-48b6-b654-afa4235c50ed",
   "metadata": {},
   "outputs": [
    {
     "data": {
      "text/plain": [
       "[['zhōng', 'zhòng'], ['xīn']]"
      ]
     },
     "execution_count": 3,
     "metadata": {},
     "output_type": "execute_result"
    }
   ],
   "source": [
    "pinyin('中心', heteronym=True)  # 启用多音字模式"
   ]
  },
  {
   "cell_type": "code",
   "execution_count": 2,
   "id": "1ff7cd9f-9948-4354-942a-9fe2cc40c31f",
   "metadata": {},
   "outputs": [
    {
     "data": {
      "text/plain": [
       "[['zhōng'], ['xīn']]"
      ]
     },
     "execution_count": 2,
     "metadata": {},
     "output_type": "execute_result"
    }
   ],
   "source": [
    "pinyin('中心')  "
   ]
  },
  {
   "cell_type": "code",
   "execution_count": 4,
   "id": "0ff58f78-bc74-403f-859d-f765c02c9b4d",
   "metadata": {},
   "outputs": [
    {
     "data": {
      "text/plain": [
       "[['zho1ng', 'zho4ng'], ['xi1n']]"
      ]
     },
     "execution_count": 4,
     "metadata": {},
     "output_type": "execute_result"
    }
   ],
   "source": [
    "pinyin('中心', style=Style.TONE2, heteronym=True)"
   ]
  },
  {
   "cell_type": "code",
   "execution_count": 5,
   "id": "3500d500-6c35-423b-b8d3-bea5b6103d79",
   "metadata": {},
   "outputs": [
    {
     "data": {
      "text/plain": [
       "[['zhong1', 'zhong4'], ['xin1']]"
      ]
     },
     "execution_count": 5,
     "metadata": {},
     "output_type": "execute_result"
    }
   ],
   "source": [
    "pinyin('中心', style=Style.TONE3, heteronym=True)"
   ]
  },
  {
   "cell_type": "code",
   "execution_count": 6,
   "id": "7a6b925d-b8a7-48c0-a7db-e6015fbe792b",
   "metadata": {},
   "outputs": [
    {
     "data": {
      "text/plain": [
       "['zhong', 'xin']"
      ]
     },
     "execution_count": 6,
     "metadata": {},
     "output_type": "execute_result"
    }
   ],
   "source": [
    "lazy_pinyin('中心')  # 不考虑多音字的情况"
   ]
  },
  {
   "cell_type": "markdown",
   "id": "ccca4df2-2b0e-4aab-ab67-0245ef709554",
   "metadata": {},
   "source": [
    "## Compare pinyin between 2 chars"
   ]
  },
  {
   "cell_type": "code",
   "execution_count": 57,
   "id": "7ec6283a-e5b5-4249-ae18-72d5f50d46d1",
   "metadata": {},
   "outputs": [],
   "source": [
    "def get_pronunciation(character, b_lazy=False, style=None):\n",
    "    if b_lazy:\n",
    "        return lazy_pinyin(character) \n",
    "\n",
    "    if style:\n",
    "        return pinyin(character, style=style, heteronym=True)[0]\n",
    "    else:\n",
    "        return pinyin(character, heteronym=True)[0]        \n",
    "\n",
    "def get_pinyin_dist(p1,p2):\n",
    "    return 1 - distance.Levenshtein.normalized_distance(p1, p2)"
   ]
  },
  {
   "cell_type": "code",
   "execution_count": 74,
   "id": "f3f21097-1998-42bb-bca0-4e0b715fcfde",
   "metadata": {},
   "outputs": [],
   "source": [
    "# Example\n",
    "chars = [\"始\", \"台\", \"厶\", '长', ]\n",
    "style = Style.TONE2\n",
    "# style = Style.TONE3"
   ]
  },
  {
   "cell_type": "code",
   "execution_count": 75,
   "id": "bd18de06-03b1-4a95-b3ae-1859eb39d633",
   "metadata": {},
   "outputs": [
    {
     "name": "stdout",
     "output_type": "stream",
     "text": [
      "b_lazy: True\n",
      "\t始 Pronunciation: ['shi']\n",
      "\t台 Pronunciation: ['tai']\n",
      "\t厶 Pronunciation: ['si']\n",
      "\t长 Pronunciation: ['zhang']\n",
      "b_lazy: False\n",
      "\t始 Pronunciation: ['shi3']\n",
      "\t台 Pronunciation: ['ta2i', 'ta1i', 'yi2', 'si4']\n",
      "\t厶 Pronunciation: ['si1', 'mo3u']\n",
      "\t长 Pronunciation: ['zha3ng', 'cha2ng']\n"
     ]
    }
   ],
   "source": [
    "for b_lazy in (True, False):\n",
    "    print(f\"b_lazy: {b_lazy}\")\n",
    "    for ch in chars:\n",
    "        pr = get_pronunciation(ch, b_lazy=b_lazy, style=style)\n",
    "        print(f\"\\t{ch} Pronunciation: {pr}\")"
   ]
  },
  {
   "cell_type": "code",
   "execution_count": 76,
   "id": "7ceb122d-33dc-4497-8778-56fae07a03e0",
   "metadata": {},
   "outputs": [
    {
     "data": {
      "text/plain": [
       "['shi3']"
      ]
     },
     "execution_count": 76,
     "metadata": {},
     "output_type": "execute_result"
    }
   ],
   "source": [
    "p_char = get_pronunciation(\"始\", b_lazy=False, style=style)\n",
    "p_char"
   ]
  },
  {
   "cell_type": "code",
   "execution_count": 77,
   "id": "63888f77-d118-4e06-bfb8-4872c5da9524",
   "metadata": {},
   "outputs": [
    {
     "data": {
      "text/plain": [
       "['ta2i', 'ta1i', 'yi2', 'si4']"
      ]
     },
     "execution_count": 77,
     "metadata": {},
     "output_type": "execute_result"
    }
   ],
   "source": [
    "p_comp = get_pronunciation(\"台\", b_lazy=False, style=style)\n",
    "p_comp"
   ]
  },
  {
   "cell_type": "code",
   "execution_count": 78,
   "id": "5b8f712a-3222-451b-a1c8-9fa30e026ee6",
   "metadata": {},
   "outputs": [],
   "source": [
    "p0 = p_char[0]"
   ]
  },
  {
   "cell_type": "code",
   "execution_count": 79,
   "id": "8519b6d3-224f-4fc2-ac7d-381b6c1f5c5f",
   "metadata": {},
   "outputs": [
    {
     "name": "stdout",
     "output_type": "stream",
     "text": [
      "shi3 vs ta2i 0.0\n",
      "shi3 vs ta1i 0.0\n",
      "shi3 vs yi2 0.25\n",
      "shi3 vs si4 0.5\n"
     ]
    }
   ],
   "source": [
    "for pc in p_comp:\n",
    "    print(f\"{p0} vs {pc}\",get_pinyin_dist(p0,pc))"
   ]
  },
  {
   "cell_type": "code",
   "execution_count": null,
   "id": "42555743-90f6-46d6-a8ef-8e20595fa78c",
   "metadata": {},
   "outputs": [],
   "source": []
  }
 ],
 "metadata": {
  "kernelspec": {
   "display_name": "Python 3 (ipykernel)",
   "language": "python",
   "name": "python3"
  },
  "language_info": {
   "codemirror_mode": {
    "name": "ipython",
    "version": 3
   },
   "file_extension": ".py",
   "mimetype": "text/x-python",
   "name": "python",
   "nbconvert_exporter": "python",
   "pygments_lexer": "ipython3",
   "version": "3.10.12"
  }
 },
 "nbformat": 4,
 "nbformat_minor": 5
}
