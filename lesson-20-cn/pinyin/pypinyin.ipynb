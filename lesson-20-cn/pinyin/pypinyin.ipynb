{
 "cells": [
  {
   "cell_type": "markdown",
   "id": "2a6e44da-dd58-4a70-9710-343a022cb3fe",
   "metadata": {},
   "source": [
    "- https://chat.qwen.ai/c/cd9c27bf-94c6-4d9f-8e1d-ffeb54d55ac8"
   ]
  },
  {
   "cell_type": "raw",
   "id": "e763d872-bce5-40d6-a4ac-6bb173775344",
   "metadata": {},
   "source": [
    "!pip install pypinyin rapidfuzz"
   ]
  },
  {
   "cell_type": "raw",
   "id": "11c99507-2781-4bd4-b3a4-09920f212c24",
   "metadata": {},
   "source": [
    "!cd   # C:\\Users\\p2p2l\\projects\\wgong\\zistory\\zinets\\app\\zadmin"
   ]
  },
  {
   "cell_type": "raw",
   "id": "01a0168b-7c3a-4eaf-8f7d-22ddd8cd3279",
   "metadata": {},
   "source": [
    "!pwd  # /home/papagame/projects/wgong/py4kids/lesson-20-cn/pinyin"
   ]
  },
  {
   "cell_type": "code",
   "execution_count": 1,
   "id": "139d934a-1f10-4c2f-9a65-56c1b53dd999",
   "metadata": {},
   "outputs": [],
   "source": [
    "from pypinyin import pinyin, Style\n",
    "from rapidfuzz import distance\n",
    "\n",
    "# Function to extract Pinyin and split into initial/final\n",
    "def extract_pinyins(character, style=Style.NORMAL, heteronym=True):\n",
    "    \"\"\"\n",
    "    Extract PinYin pronunciations (heteronyms) from character:\n",
    "    support the following styles:\n",
    "        - Style.NORMAL (default) : ['xing', 'hang', 'heng']\n",
    "        - Style.TONE   : ['xíng', 'háng', 'héng', 'xìng', 'hàng']\n",
    "        - Style.TONE2  : ['xi2ng', 'ha2ng', 'he2ng', 'xi4ng', 'ha4ng']\n",
    "        - Style.TONE3  : ['xing2', 'hang2', 'heng2', 'xing4', 'hang4']\n",
    "\n",
    "    Returns a tuple:\n",
    "        pinyins (拼音), initials (声母), finals (韵母)\n",
    "    \"\"\"\n",
    "    \n",
    "    pinyins = pinyin(character, style=style, heteronym=heteronym)[0]\n",
    "    initials = pinyin(character, style=Style.INITIALS|style, heteronym=heteronym)[0]\n",
    "    finals = pinyin(character, style=Style.FINALS|style, heteronym=heteronym)[0]\n",
    "    return pinyins, initials, finals\n",
    "\n",
    "def calculate_similarity(pron1, pron2):\n",
    "    # Helper function to calculate similarity\n",
    "    return 1 - distance.Levenshtein.normalized_distance(pron1, pron2)\n",
    "\n",
    "def get_similarity(char, comp, threshold=0.0, first_only=True, style=Style.NORMAL, heteronym=True, debug=True):\n",
    "    \"\"\"\n",
    "    Calculate pinyin similarity scores in 2 steps\n",
    "\n",
    "    Returns a tuple of tuple:\n",
    "        (max_raw_similarity, max_refined_similarity), (char, char_pinyins), (comp, phon_pinyins)\n",
    "    \"\"\"\n",
    "    \n",
    "    max_raw_similarity, max_refined_similarity = -1, -1\n",
    "    \n",
    "    char_pinyins = extract_pinyins(char, style=style, heteronym=heteronym)\n",
    "    phon_pinyins = extract_pinyins(comp, style=style, heteronym=heteronym)\n",
    "    if debug:\n",
    "        print(f\"Character: {char_pinyins}\")\n",
    "        print(f\"Phonetic Component: {phon_pinyins}\")        \n",
    "\n",
    "    ## Step 1: Calculate raw similarity (full Pinyin)\n",
    "    ## =================================================\n",
    "    if first_only:\n",
    "        pron1 = char_pinyins[0][0]\n",
    "        pron2 = phon_pinyins[0][0]\n",
    "        max_raw_similarity = calculate_similarity(pron1, pron2)\n",
    "    else:\n",
    "        for pron1 in char_pinyins[0]:\n",
    "            for pron2 in phon_pinyins[0]:\n",
    "                raw_similarity = calculate_similarity(pron1, pron2)\n",
    "                \n",
    "                # Update maximum raw similarity\n",
    "                if raw_similarity > max_raw_similarity:\n",
    "                    max_raw_similarity = raw_similarity\n",
    "\n",
    "    ## Step 2: Calculate refined similarity (finals) if raw similarity is above threshold\n",
    "    ## =================================================\n",
    "    if max_raw_similarity >= threshold:\n",
    "        for pron1 in char_pinyins[2]:\n",
    "            for pron2 in phon_pinyins[2]:\n",
    "                refined_similarity = calculate_similarity(pron1, pron2)\n",
    "                                \n",
    "                # Update maximum refined similarity\n",
    "                if refined_similarity > max_refined_similarity:\n",
    "                    max_refined_similarity = refined_similarity\n",
    "    \n",
    "    return (f\"{max_raw_similarity:.3f}\", f\"{max_refined_similarity:.3f}\"), (char, char_pinyins), (comp, phon_pinyins)\n"
   ]
  },
  {
   "cell_type": "code",
   "execution_count": 2,
   "id": "61aae663-0549-45e8-b722-da347ea058ad",
   "metadata": {},
   "outputs": [
    {
     "name": "stdout",
     "output_type": "stream",
     "text": [
      "style=0\n",
      " \tpinyins = ['xing', 'hang', 'heng']\n",
      "style=1\n",
      " \tpinyins = ['xíng', 'háng', 'héng', 'xìng', 'hàng']\n",
      "style=2\n",
      " \tpinyins = ['xi2ng', 'ha2ng', 'he2ng', 'xi4ng', 'ha4ng']\n",
      "style=8\n",
      " \tpinyins = ['xing2', 'hang2', 'heng2', 'xing4', 'hang4']\n"
     ]
    },
    {
     "data": {
      "text/plain": [
       "(['xing', 'hang', 'heng'], ['x', 'h'], ['ing', 'ang', 'eng'])"
      ]
     },
     "execution_count": 2,
     "metadata": {},
     "output_type": "execute_result"
    }
   ],
   "source": [
    "character = \"行\"\n",
    "\n",
    "styles = [Style.NORMAL, Style.TONE, Style.TONE2, Style.TONE3]\n",
    "\n",
    "for style in styles:\n",
    "    x = pinyin(character, style=style, heteronym=True)[0]\n",
    "    print(f\"style={style}\\n \\tpinyins = {x}\")\n",
    "\n",
    "extract_pinyins(character, style=Style.NORMAL)"
   ]
  },
  {
   "cell_type": "code",
   "execution_count": 11,
   "id": "823c6407-2253-4d59-aecd-9a1db076e262",
   "metadata": {},
   "outputs": [],
   "source": [
    "STYLE = Style.NORMAL # Style.TONE  # Style.TONE2  # Style.TONE3\n",
    "THRESHOLD = 0.4  # 0.0\n",
    "FIRST_ONLY = True"
   ]
  },
  {
   "cell_type": "code",
   "execution_count": 12,
   "id": "dde49b4d-b9a2-4785-a2a6-fd27cf2cc141",
   "metadata": {},
   "outputs": [
    {
     "name": "stdout",
     "output_type": "stream",
     "text": [
      "Character: (['shi'], ['sh'], ['i'])\n",
      "Phonetic Component: (['si', 'mou'], ['s', 'm'], ['i', 'ou'])\n",
      "(('0.667', '1.000'), ('始', (['shi'], ['sh'], ['i'])), ('厶', (['si', 'mou'], ['s', 'm'], ['i', 'ou'])))\n"
     ]
    }
   ],
   "source": [
    "# Example\n",
    "character, phonetic_component = \"始\", \"厶\"\n",
    "\n",
    "x = get_similarity(character, phonetic_component, threshold=THRESHOLD, first_only=FIRST_ONLY, style=STYLE, heteronym=True)\n",
    "print(x)"
   ]
  },
  {
   "cell_type": "code",
   "execution_count": 13,
   "id": "745e519f-a389-481b-bb0f-62a9f0df95cd",
   "metadata": {},
   "outputs": [
    {
     "name": "stdout",
     "output_type": "stream",
     "text": [
      "Character: (['shi'], ['sh'], ['i'])\n",
      "Phonetic Component: (['tai', 'yi', 'si'], ['t', 's'], ['ai', 'i'])\n",
      "(('0.333', '-1.000'), ('始', (['shi'], ['sh'], ['i'])), ('台', (['tai', 'yi', 'si'], ['t', 's'], ['ai', 'i'])))\n"
     ]
    }
   ],
   "source": [
    "# Example\n",
    "character, phonetic_component = \"始\", \"台\" \n",
    "\n",
    "x = get_similarity(character, phonetic_component, threshold=THRESHOLD, first_only=FIRST_ONLY, style=STYLE, heteronym=True)\n",
    "print(x)"
   ]
  },
  {
   "cell_type": "code",
   "execution_count": 14,
   "id": "0e921c7d-a25c-4540-a58d-d72067f08327",
   "metadata": {},
   "outputs": [
    {
     "name": "stdout",
     "output_type": "stream",
     "text": [
      "Character: (['shi'], ['sh'], ['i'])\n",
      "Phonetic Component: (['kou'], ['k'], ['ou'])\n",
      "(('0.000', '-1.000'), ('始', (['shi'], ['sh'], ['i'])), ('口', (['kou'], ['k'], ['ou'])))\n"
     ]
    }
   ],
   "source": [
    "# Example\n",
    "character, phonetic_component = \"始\", \"口\"\n",
    "\n",
    "x = get_similarity(character, phonetic_component, threshold=THRESHOLD, first_only=FIRST_ONLY, style=STYLE, heteronym=True)\n",
    "print(x)"
   ]
  },
  {
   "cell_type": "code",
   "execution_count": 15,
   "id": "57adb562-274b-4e44-ba24-cbe04de70b59",
   "metadata": {},
   "outputs": [
    {
     "name": "stdout",
     "output_type": "stream",
     "text": [
      "Character: (['xing', 'hang', 'heng'], ['x', 'h'], ['ing', 'ang', 'eng'])\n",
      "Phonetic Component: (['chu'], ['ch'], ['u'])\n",
      "(('0.000', '-1.000'), ('行', (['xing', 'hang', 'heng'], ['x', 'h'], ['ing', 'ang', 'eng'])), ('亍', (['chu'], ['ch'], ['u'])))\n"
     ]
    }
   ],
   "source": [
    "# Example\n",
    "character, phonetic_component = \"行\", \"亍\"\n",
    "\n",
    "x = get_similarity(character, phonetic_component, threshold=THRESHOLD, first_only=FIRST_ONLY, style=STYLE, heteronym=True)\n",
    "print(x)"
   ]
  },
  {
   "cell_type": "code",
   "execution_count": null,
   "id": "74dda462-fea3-481b-80ef-dc5737163a4c",
   "metadata": {},
   "outputs": [],
   "source": []
  },
  {
   "cell_type": "markdown",
   "id": "55e5ff47-0d61-4665-963a-f8df15241896",
   "metadata": {},
   "source": [
    "初: 始也。从刀从衣。裁衣之始也。"
   ]
  },
  {
   "cell_type": "code",
   "execution_count": 16,
   "id": "2160156e-8e1d-4385-9005-7553680f1b9f",
   "metadata": {},
   "outputs": [
    {
     "name": "stdout",
     "output_type": "stream",
     "text": [
      "Character: (['chu'], ['ch'], ['u'])\n",
      "Phonetic Component: (['yi'], [''], ['i'])\n",
      "(('0.000', '-1.000'), ('初', (['chu'], ['ch'], ['u'])), ('衤', (['yi'], [''], ['i'])))\n"
     ]
    }
   ],
   "source": [
    "# Example\n",
    "character, phonetic_component = \"初\", \"衤\"\n",
    "\n",
    "x = get_similarity(character, phonetic_component, threshold=THRESHOLD, first_only=FIRST_ONLY, style=STYLE, heteronym=True)\n",
    "print(x)"
   ]
  },
  {
   "cell_type": "code",
   "execution_count": 17,
   "id": "ff8efc19-e709-4444-9faa-f51bea852ee1",
   "metadata": {},
   "outputs": [
    {
     "name": "stdout",
     "output_type": "stream",
     "text": [
      "Character: (['chu'], ['ch'], ['u'])\n",
      "Phonetic Component: (['yi'], [''], ['i'])\n",
      "(('0.000', '-1.000'), ('初', (['chu'], ['ch'], ['u'])), ('衣', (['yi'], [''], ['i'])))\n"
     ]
    }
   ],
   "source": [
    "# Example\n",
    "character, phonetic_component = \"初\", \"衣\"\n",
    "\n",
    "x = get_similarity(character, phonetic_component, threshold=THRESHOLD, first_only=FIRST_ONLY, style=STYLE, heteronym=True)\n",
    "print(x)"
   ]
  },
  {
   "cell_type": "code",
   "execution_count": 18,
   "id": "31ce5b99-1b36-418e-a0bd-9d30389af832",
   "metadata": {},
   "outputs": [
    {
     "name": "stdout",
     "output_type": "stream",
     "text": [
      "Character: (['chu'], ['ch'], ['u'])\n",
      "Phonetic Component: (['dao', 'diao'], ['d'], ['ao', 'iao'])\n",
      "(('0.000', '-1.000'), ('初', (['chu'], ['ch'], ['u'])), ('刀', (['dao', 'diao'], ['d'], ['ao', 'iao'])))\n"
     ]
    }
   ],
   "source": [
    "# Example\n",
    "character, phonetic_component = \"初\", \"刀\"\n",
    "\n",
    "x = get_similarity(character, phonetic_component, threshold=THRESHOLD, first_only=FIRST_ONLY, style=STYLE, heteronym=True)\n",
    "print(x)"
   ]
  },
  {
   "cell_type": "code",
   "execution_count": null,
   "id": "feed4746-ad5e-4efb-a596-0d001691e8f2",
   "metadata": {},
   "outputs": [],
   "source": []
  },
  {
   "cell_type": "code",
   "execution_count": null,
   "id": "bcb5c238-dfe3-408e-a20b-c2ef667852ca",
   "metadata": {},
   "outputs": [],
   "source": []
  }
 ],
 "metadata": {
  "kernelspec": {
   "display_name": "Python 3 (ipykernel)",
   "language": "python",
   "name": "python3"
  },
  "language_info": {
   "codemirror_mode": {
    "name": "ipython",
    "version": 3
   },
   "file_extension": ".py",
   "mimetype": "text/x-python",
   "name": "python",
   "nbconvert_exporter": "python",
   "pygments_lexer": "ipython3",
   "version": "3.11.9"
  }
 },
 "nbformat": 4,
 "nbformat_minor": 5
}
